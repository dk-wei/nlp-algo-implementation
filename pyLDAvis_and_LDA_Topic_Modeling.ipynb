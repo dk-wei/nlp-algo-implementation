{
  "nbformat": 4,
  "nbformat_minor": 0,
  "metadata": {
    "colab": {
      "name": "pyLDAvis and LDA Topic Modeling.ipynb",
      "provenance": [],
      "collapsed_sections": []
    },
    "kernelspec": {
      "name": "python3",
      "display_name": "Python 3"
    }
  },
  "cells": [
    {
      "cell_type": "markdown",
      "metadata": {
        "id": "63xGYEuMZEMV"
      },
      "source": [
        "# Topic Modeling with Gensim (Python)\n",
        "\n",
        "Topic Modeling is a technique to extract the hidden topics from large volumes of text. Latent Dirichlet Allocation(LDA) is a popular algorithm for topic modeling with excellent implementations in the Python’s Gensim package. **The challenge, however, is how to extract good quality of topics that are clear, segregated and meaningful**. This depends heavily on the quality of text preprocessing and the strategy of finding the optimal number of topics. This tutorial attempts to tackle both of these problems."
      ]
    },
    {
      "cell_type": "markdown",
      "metadata": {
        "id": "GBeaYanQbwdH"
      },
      "source": [
        "## Introduction\n",
        "\n",
        "One of the primary applications of natural language processing is to automatically extract what topics people are discussing from large volumes of text. Some examples of large text could be feeds from social media, customer reviews of hotels, movies, etc, user feedbacks, news stories, e-mails of customer complaints etc.\n",
        "\n",
        "Knowing what people are talking about and understanding their problems and opinions is highly valuable to businesses, administrators, political campaigns. And it’s really hard to manually read through such large volumes and compile the topics.\n",
        "\n",
        "Thus is required an automated algorithm that can read through the text documents and automatically output the topics discussed.\n",
        "In this tutorial, we will take a real example of the ’20 Newsgroups’ dataset and use LDA to extract the naturally discussed topics.\n",
        "\n",
        "I will be using the Latent Dirichlet Allocation (LDA) from Gensim package along with the Mallet’s implementation (via Gensim). Mallet has an efficient implementation of the LDA. It is known to run faster and gives better topics segregation.\n",
        "\n",
        "We will also extract the volume and percentage contribution of each topic to get an idea of how important a topic is.\n",
        "\n",
        "Let’s begin!\n",
        "\n",
        "## Prerequisites – Download nltk stopwords and spacy model\n",
        "\n",
        "We will need the stopwords from NLTK and spacy’s en model for text pre-processing. Later, we will be using the spacy model for lemmatization.\n",
        "\n",
        "Lemmatization is nothing but converting a word to its root word. For example: the lemma of the word ‘machines’ is ‘machine’. Likewise, ‘walking’ –> ‘walk’, ‘mice’ –> ‘mouse’ and so on."
      ]
    },
    {
      "cell_type": "code",
      "metadata": {
        "colab": {
          "base_uri": "https://localhost:8080/"
        },
        "id": "jiEA7XwpSpBk",
        "outputId": "4496b31a-4eb0-48f9-fa18-266db865df5d"
      },
      "source": [
        "# Run in python console\n",
        "import nltk; nltk.download('stopwords')\n",
        "\n",
        "# Run in terminal or command prompt\n",
        "!python3 -m spacy download en\n",
        "!pip install pyLDAvis"
      ],
      "execution_count": 44,
      "outputs": [
        {
          "output_type": "stream",
          "text": [
            "[nltk_data] Downloading package stopwords to /root/nltk_data...\n",
            "[nltk_data]   Package stopwords is already up-to-date!\n",
            "Requirement already satisfied: en_core_web_sm==2.2.5 from https://github.com/explosion/spacy-models/releases/download/en_core_web_sm-2.2.5/en_core_web_sm-2.2.5.tar.gz#egg=en_core_web_sm==2.2.5 in /usr/local/lib/python3.7/dist-packages (2.2.5)\n",
            "Requirement already satisfied: spacy>=2.2.2 in /usr/local/lib/python3.7/dist-packages (from en_core_web_sm==2.2.5) (2.2.4)\n",
            "Requirement already satisfied: requests<3.0.0,>=2.13.0 in /usr/local/lib/python3.7/dist-packages (from spacy>=2.2.2->en_core_web_sm==2.2.5) (2.23.0)\n",
            "Requirement already satisfied: wasabi<1.1.0,>=0.4.0 in /usr/local/lib/python3.7/dist-packages (from spacy>=2.2.2->en_core_web_sm==2.2.5) (0.8.2)\n",
            "Requirement already satisfied: murmurhash<1.1.0,>=0.28.0 in /usr/local/lib/python3.7/dist-packages (from spacy>=2.2.2->en_core_web_sm==2.2.5) (1.0.5)\n",
            "Requirement already satisfied: plac<1.2.0,>=0.9.6 in /usr/local/lib/python3.7/dist-packages (from spacy>=2.2.2->en_core_web_sm==2.2.5) (1.1.3)\n",
            "Requirement already satisfied: cymem<2.1.0,>=2.0.2 in /usr/local/lib/python3.7/dist-packages (from spacy>=2.2.2->en_core_web_sm==2.2.5) (2.0.5)\n",
            "Requirement already satisfied: srsly<1.1.0,>=1.0.2 in /usr/local/lib/python3.7/dist-packages (from spacy>=2.2.2->en_core_web_sm==2.2.5) (1.0.5)\n",
            "Requirement already satisfied: blis<0.5.0,>=0.4.0 in /usr/local/lib/python3.7/dist-packages (from spacy>=2.2.2->en_core_web_sm==2.2.5) (0.4.1)\n",
            "Requirement already satisfied: numpy>=1.15.0 in /usr/local/lib/python3.7/dist-packages (from spacy>=2.2.2->en_core_web_sm==2.2.5) (1.19.5)\n",
            "Requirement already satisfied: thinc==7.4.0 in /usr/local/lib/python3.7/dist-packages (from spacy>=2.2.2->en_core_web_sm==2.2.5) (7.4.0)\n",
            "Requirement already satisfied: setuptools in /usr/local/lib/python3.7/dist-packages (from spacy>=2.2.2->en_core_web_sm==2.2.5) (54.0.0)\n",
            "Requirement already satisfied: preshed<3.1.0,>=3.0.2 in /usr/local/lib/python3.7/dist-packages (from spacy>=2.2.2->en_core_web_sm==2.2.5) (3.0.5)\n",
            "Requirement already satisfied: tqdm<5.0.0,>=4.38.0 in /usr/local/lib/python3.7/dist-packages (from spacy>=2.2.2->en_core_web_sm==2.2.5) (4.41.1)\n",
            "Requirement already satisfied: catalogue<1.1.0,>=0.0.7 in /usr/local/lib/python3.7/dist-packages (from spacy>=2.2.2->en_core_web_sm==2.2.5) (1.0.0)\n",
            "Requirement already satisfied: chardet<4,>=3.0.2 in /usr/local/lib/python3.7/dist-packages (from requests<3.0.0,>=2.13.0->spacy>=2.2.2->en_core_web_sm==2.2.5) (3.0.4)\n",
            "Requirement already satisfied: urllib3!=1.25.0,!=1.25.1,<1.26,>=1.21.1 in /usr/local/lib/python3.7/dist-packages (from requests<3.0.0,>=2.13.0->spacy>=2.2.2->en_core_web_sm==2.2.5) (1.24.3)\n",
            "Requirement already satisfied: idna<3,>=2.5 in /usr/local/lib/python3.7/dist-packages (from requests<3.0.0,>=2.13.0->spacy>=2.2.2->en_core_web_sm==2.2.5) (2.10)\n",
            "Requirement already satisfied: certifi>=2017.4.17 in /usr/local/lib/python3.7/dist-packages (from requests<3.0.0,>=2.13.0->spacy>=2.2.2->en_core_web_sm==2.2.5) (2020.12.5)\n",
            "Requirement already satisfied: importlib-metadata>=0.20; python_version < \"3.8\" in /usr/local/lib/python3.7/dist-packages (from catalogue<1.1.0,>=0.0.7->spacy>=2.2.2->en_core_web_sm==2.2.5) (3.7.2)\n",
            "Requirement already satisfied: zipp>=0.5 in /usr/local/lib/python3.7/dist-packages (from importlib-metadata>=0.20; python_version < \"3.8\"->catalogue<1.1.0,>=0.0.7->spacy>=2.2.2->en_core_web_sm==2.2.5) (3.4.1)\n",
            "Requirement already satisfied: typing-extensions>=3.6.4; python_version < \"3.8\" in /usr/local/lib/python3.7/dist-packages (from importlib-metadata>=0.20; python_version < \"3.8\"->catalogue<1.1.0,>=0.0.7->spacy>=2.2.2->en_core_web_sm==2.2.5) (3.7.4.3)\n",
            "\u001b[38;5;2m✔ Download and installation successful\u001b[0m\n",
            "You can now load the model via spacy.load('en_core_web_sm')\n",
            "\u001b[38;5;2m✔ Linking successful\u001b[0m\n",
            "/usr/local/lib/python3.7/dist-packages/en_core_web_sm -->\n",
            "/usr/local/lib/python3.7/dist-packages/spacy/data/en\n",
            "You can now load the model via spacy.load('en')\n",
            "Requirement already satisfied: pyLDAvis in /usr/local/lib/python3.7/dist-packages (3.2.2)\n",
            "Requirement already satisfied: joblib>=0.8.4 in /usr/local/lib/python3.7/dist-packages (from pyLDAvis) (1.0.1)\n",
            "Requirement already satisfied: future in /usr/local/lib/python3.7/dist-packages (from pyLDAvis) (0.16.0)\n",
            "Requirement already satisfied: scipy>=0.18.0 in /usr/local/lib/python3.7/dist-packages (from pyLDAvis) (1.4.1)\n",
            "Requirement already satisfied: numexpr in /usr/local/lib/python3.7/dist-packages (from pyLDAvis) (2.7.3)\n",
            "Requirement already satisfied: funcy in /usr/local/lib/python3.7/dist-packages (from pyLDAvis) (1.15)\n",
            "Requirement already satisfied: jinja2>=2.7.2 in /usr/local/lib/python3.7/dist-packages (from pyLDAvis) (2.11.3)\n",
            "Requirement already satisfied: pandas>=0.17.0; python_version > \"3.5\" in /usr/local/lib/python3.7/dist-packages (from pyLDAvis) (1.1.5)\n",
            "Requirement already satisfied: wheel>=0.23.0 in /usr/local/lib/python3.7/dist-packages (from pyLDAvis) (0.36.2)\n",
            "Requirement already satisfied: numpy>=1.9.2 in /usr/local/lib/python3.7/dist-packages (from pyLDAvis) (1.19.5)\n",
            "Requirement already satisfied: MarkupSafe>=0.23 in /usr/local/lib/python3.7/dist-packages (from jinja2>=2.7.2->pyLDAvis) (1.1.1)\n",
            "Requirement already satisfied: python-dateutil>=2.7.3 in /usr/local/lib/python3.7/dist-packages (from pandas>=0.17.0; python_version > \"3.5\"->pyLDAvis) (2.8.1)\n",
            "Requirement already satisfied: pytz>=2017.2 in /usr/local/lib/python3.7/dist-packages (from pandas>=0.17.0; python_version > \"3.5\"->pyLDAvis) (2018.9)\n",
            "Requirement already satisfied: six>=1.5 in /usr/local/lib/python3.7/dist-packages (from python-dateutil>=2.7.3->pandas>=0.17.0; python_version > \"3.5\"->pyLDAvis) (1.15.0)\n"
          ],
          "name": "stdout"
        }
      ]
    },
    {
      "cell_type": "markdown",
      "metadata": {
        "id": "hMPiIcRPcCPe"
      },
      "source": [
        "## Import Packages\n",
        "\n",
        "The core packages used in this tutorial are re, gensim, spacy and pyLDAvis. Besides this we will also using matplotlib, numpy and pandas for data handling and visualization. Let’s import them."
      ]
    },
    {
      "cell_type": "code",
      "metadata": {
        "id": "M-kt2Jn-So-k"
      },
      "source": [
        "import re\n",
        "import numpy as np\n",
        "import pandas as pd\n",
        "from pprint import pprint\n",
        "\n",
        "# Gensim\n",
        "import gensim\n",
        "import gensim.corpora as corpora\n",
        "from gensim.utils import simple_preprocess\n",
        "from gensim.models import CoherenceModel\n",
        "\n",
        "# spacy for lemmatization\n",
        "import spacy\n",
        "\n",
        "# Plotting tools\n",
        "import pyLDAvis\n",
        "import pyLDAvis.gensim  # don't skip this\n",
        "import matplotlib.pyplot as plt\n",
        "%matplotlib inline\n",
        "\n",
        "# Enable logging for gensim - optional\n",
        "import logging\n",
        "logging.basicConfig(format='%(asctime)s : %(levelname)s : %(message)s', level=logging.ERROR)\n",
        "\n",
        "import warnings\n",
        "warnings.filterwarnings(\"ignore\",category=DeprecationWarning)"
      ],
      "execution_count": 8,
      "outputs": []
    },
    {
      "cell_type": "markdown",
      "metadata": {
        "id": "1-LXU4t_cJp1"
      },
      "source": [
        "## What does LDA do?\n",
        "LDA’s approach to topic modeling is it considers each document as a collection of topics in a certain proportion. And each topic as a collection of keywords, again, in a certain proportion.\n",
        "\n",
        "Once you provide the algorithm with the number of topics, all it does it to rearrange the topics distribution within the documents and keywords distribution within the topics to obtain a good composition of topic-keywords distribution.\n",
        "\n",
        "When I say topic, what is it actually and how it is represented?\n",
        "\n",
        "A topic is nothing but a collection of dominant keywords that are typical representatives. Just by looking at the keywords, you can identify what the topic is all about.\n",
        "\n",
        "The following are key factors to obtaining good segregation topics:\n",
        "\n",
        "1. The quality of text processing.\n",
        "2. The variety of topics the text talks about.\n",
        "3. The choice of topic modeling algorithm.\n",
        "4. The number of topics fed to the algorithm.\n",
        "5. The algorithms tuning parameters.\n",
        "\n",
        "## Prepare Stopwords\n",
        "We have already downloaded the stopwords. Let’s import them and make it available in `stop_words`."
      ]
    },
    {
      "cell_type": "code",
      "metadata": {
        "id": "Sy25_2JVS0wd"
      },
      "source": [
        "# NLTK Stop words\n",
        "from nltk.corpus import stopwords\n",
        "stop_words = stopwords.words('english')\n",
        "stop_words.extend(['from', 'subject', 're', 'edu', 'use'])"
      ],
      "execution_count": 9,
      "outputs": []
    },
    {
      "cell_type": "markdown",
      "metadata": {
        "id": "uHuWkq4xcaio"
      },
      "source": [
        "## Import Newsgroups Data\n",
        "We will be using the 20-Newsgroups dataset for this exercise. This version of the dataset contains about 11k newsgroups posts from 20 different topics. This is available as newsgroups.json.\n",
        "\n",
        "This is imported using pandas.read_json and the resulting dataset has 3 columns as shown."
      ]
    },
    {
      "cell_type": "code",
      "metadata": {
        "colab": {
          "base_uri": "https://localhost:8080/",
          "height": 306
        },
        "id": "Gv-vvohfS0tX",
        "outputId": "2c978a5c-e4df-4738-badf-89798c4744a9"
      },
      "source": [
        "# Import Dataset\n",
        "df = pd.read_json('https://raw.githubusercontent.com/selva86/datasets/master/newsgroups.json')\n",
        "print(df.target_names.unique())\n",
        "df.head()"
      ],
      "execution_count": 10,
      "outputs": [
        {
          "output_type": "stream",
          "text": [
            "['rec.autos' 'comp.sys.mac.hardware' 'comp.graphics' 'sci.space'\n",
            " 'talk.politics.guns' 'sci.med' 'comp.sys.ibm.pc.hardware'\n",
            " 'comp.os.ms-windows.misc' 'rec.motorcycles' 'talk.religion.misc'\n",
            " 'misc.forsale' 'alt.atheism' 'sci.electronics' 'comp.windows.x'\n",
            " 'rec.sport.hockey' 'rec.sport.baseball' 'soc.religion.christian'\n",
            " 'talk.politics.mideast' 'talk.politics.misc' 'sci.crypt']\n"
          ],
          "name": "stdout"
        },
        {
          "output_type": "execute_result",
          "data": {
            "text/html": [
              "<div>\n",
              "<style scoped>\n",
              "    .dataframe tbody tr th:only-of-type {\n",
              "        vertical-align: middle;\n",
              "    }\n",
              "\n",
              "    .dataframe tbody tr th {\n",
              "        vertical-align: top;\n",
              "    }\n",
              "\n",
              "    .dataframe thead th {\n",
              "        text-align: right;\n",
              "    }\n",
              "</style>\n",
              "<table border=\"1\" class=\"dataframe\">\n",
              "  <thead>\n",
              "    <tr style=\"text-align: right;\">\n",
              "      <th></th>\n",
              "      <th>content</th>\n",
              "      <th>target</th>\n",
              "      <th>target_names</th>\n",
              "    </tr>\n",
              "  </thead>\n",
              "  <tbody>\n",
              "    <tr>\n",
              "      <th>0</th>\n",
              "      <td>From: lerxst@wam.umd.edu (where's my thing)\\nS...</td>\n",
              "      <td>7</td>\n",
              "      <td>rec.autos</td>\n",
              "    </tr>\n",
              "    <tr>\n",
              "      <th>1</th>\n",
              "      <td>From: guykuo@carson.u.washington.edu (Guy Kuo)...</td>\n",
              "      <td>4</td>\n",
              "      <td>comp.sys.mac.hardware</td>\n",
              "    </tr>\n",
              "    <tr>\n",
              "      <th>2</th>\n",
              "      <td>From: twillis@ec.ecn.purdue.edu (Thomas E Will...</td>\n",
              "      <td>4</td>\n",
              "      <td>comp.sys.mac.hardware</td>\n",
              "    </tr>\n",
              "    <tr>\n",
              "      <th>3</th>\n",
              "      <td>From: jgreen@amber (Joe Green)\\nSubject: Re: W...</td>\n",
              "      <td>1</td>\n",
              "      <td>comp.graphics</td>\n",
              "    </tr>\n",
              "    <tr>\n",
              "      <th>4</th>\n",
              "      <td>From: jcm@head-cfa.harvard.edu (Jonathan McDow...</td>\n",
              "      <td>14</td>\n",
              "      <td>sci.space</td>\n",
              "    </tr>\n",
              "  </tbody>\n",
              "</table>\n",
              "</div>"
            ],
            "text/plain": [
              "                                             content  ...           target_names\n",
              "0  From: lerxst@wam.umd.edu (where's my thing)\\nS...  ...              rec.autos\n",
              "1  From: guykuo@carson.u.washington.edu (Guy Kuo)...  ...  comp.sys.mac.hardware\n",
              "2  From: twillis@ec.ecn.purdue.edu (Thomas E Will...  ...  comp.sys.mac.hardware\n",
              "3  From: jgreen@amber (Joe Green)\\nSubject: Re: W...  ...          comp.graphics\n",
              "4  From: jcm@head-cfa.harvard.edu (Jonathan McDow...  ...              sci.space\n",
              "\n",
              "[5 rows x 3 columns]"
            ]
          },
          "metadata": {
            "tags": []
          },
          "execution_count": 10
        }
      ]
    },
    {
      "cell_type": "markdown",
      "metadata": {
        "id": "W92aUEF6ceTp"
      },
      "source": [
        "## Remove emails and newline characters\n",
        "As you can see there are many emails, newline and extra spaces that is quite distracting. Let’s get rid of them using regular expressions."
      ]
    },
    {
      "cell_type": "code",
      "metadata": {
        "colab": {
          "base_uri": "https://localhost:8080/"
        },
        "id": "cakXTWMMS0qb",
        "outputId": "ed275194-413b-4d9b-fd0a-b4327e4353fc"
      },
      "source": [
        "# Convert to list\n",
        "data = df.content.values.tolist()\n",
        "\n",
        "# Remove Emails\n",
        "data = [re.sub('\\S*@\\S*\\s?', '', sent) for sent in data]\n",
        "\n",
        "# Remove new line characters\n",
        "data = [re.sub('\\s+', ' ', sent) for sent in data]\n",
        "\n",
        "# Remove distracting single quotes\n",
        "data = [re.sub(\"\\'\", \"\", sent) for sent in data]\n",
        "\n",
        "pprint(data[:1])"
      ],
      "execution_count": 11,
      "outputs": [
        {
          "output_type": "stream",
          "text": [
            "['From: (wheres my thing) Subject: WHAT car is this!? Nntp-Posting-Host: '\n",
            " 'rac3.wam.umd.edu Organization: University of Maryland, College Park Lines: '\n",
            " '15 I was wondering if anyone out there could enlighten me on this car I saw '\n",
            " 'the other day. It was a 2-door sports car, looked to be from the late 60s/ '\n",
            " 'early 70s. It was called a Bricklin. The doors were really small. In '\n",
            " 'addition, the front bumper was separate from the rest of the body. This is '\n",
            " 'all I know. If anyone can tellme a model name, engine specs, years of '\n",
            " 'production, where this car is made, history, or whatever info you have on '\n",
            " 'this funky looking car, please e-mail. Thanks, - IL ---- brought to you by '\n",
            " 'your neighborhood Lerxst ---- ']\n"
          ],
          "name": "stdout"
        }
      ]
    },
    {
      "cell_type": "markdown",
      "metadata": {
        "id": "JxMUBMRkckhM"
      },
      "source": [
        "After removing the emails and extra spaces, the text still looks messy. It is not ready for the LDA to consume. You need to break down each sentence into a list of words through tokenization, while clearing up all the messy text in the process.\n",
        "\n",
        "Gensim’s `simple_preprocess` is great for this.\n",
        "\n",
        "## Tokenize words and Clean-up text\n",
        "Let’s tokenize each sentence into a list of words, removing punctuations and unnecessary characters altogether."
      ]
    },
    {
      "cell_type": "code",
      "metadata": {
        "colab": {
          "base_uri": "https://localhost:8080/"
        },
        "id": "v6Hvs_-CS0nj",
        "outputId": "9e8da444-6118-45a5-b52e-2618064955f5"
      },
      "source": [
        "def sent_to_words(sentences):\n",
        "    for sentence in sentences:\n",
        "        yield(gensim.utils.simple_preprocess(str(sentence), deacc=True))  # deacc=True removes punctuations\n",
        "\n",
        "data_words = list(sent_to_words(data))\n",
        "\n",
        "print(data_words[:1])"
      ],
      "execution_count": 12,
      "outputs": [
        {
          "output_type": "stream",
          "text": [
            "[['from', 'wheres', 'my', 'thing', 'subject', 'what', 'car', 'is', 'this', 'nntp', 'posting', 'host', 'rac', 'wam', 'umd', 'edu', 'organization', 'university', 'of', 'maryland', 'college', 'park', 'lines', 'was', 'wondering', 'if', 'anyone', 'out', 'there', 'could', 'enlighten', 'me', 'on', 'this', 'car', 'saw', 'the', 'other', 'day', 'it', 'was', 'door', 'sports', 'car', 'looked', 'to', 'be', 'from', 'the', 'late', 'early', 'it', 'was', 'called', 'bricklin', 'the', 'doors', 'were', 'really', 'small', 'in', 'addition', 'the', 'front', 'bumper', 'was', 'separate', 'from', 'the', 'rest', 'of', 'the', 'body', 'this', 'is', 'all', 'know', 'if', 'anyone', 'can', 'tellme', 'model', 'name', 'engine', 'specs', 'years', 'of', 'production', 'where', 'this', 'car', 'is', 'made', 'history', 'or', 'whatever', 'info', 'you', 'have', 'on', 'this', 'funky', 'looking', 'car', 'please', 'mail', 'thanks', 'il', 'brought', 'to', 'you', 'by', 'your', 'neighborhood', 'lerxst']]\n"
          ],
          "name": "stdout"
        }
      ]
    },
    {
      "cell_type": "markdown",
      "metadata": {
        "id": "wCeGudaMdVYh"
      },
      "source": [
        "## Creating Bigram and Trigram Models\n",
        "Bigrams are two words frequently occurring together in the document. Trigrams are 3 words frequently occurring.\n",
        "\n",
        "Some examples in our example are: ‘front_bumper’, ‘oil_leak’, ‘maryland_college_park’ etc.\n",
        "\n",
        "Gensim’s Phrases model can build and implement the bigrams, trigrams, quadgrams and more. The two important arguments to Phrases are min_count and threshold. The higher the values of these param, the harder it is for words to be combined to bigrams."
      ]
    },
    {
      "cell_type": "code",
      "metadata": {
        "colab": {
          "base_uri": "https://localhost:8080/"
        },
        "id": "ukdtPHYyS0kU",
        "outputId": "6fe0c87c-313b-4975-8898-5c85592f84ba"
      },
      "source": [
        "# Build the bigram and trigram models\n",
        "bigram = gensim.models.Phrases(data_words, min_count=5, threshold=100) # higher threshold fewer phrases.\n",
        "trigram = gensim.models.Phrases(bigram[data_words], threshold=100)  \n",
        "\n",
        "# Faster way to get a sentence clubbed as a trigram/bigram\n",
        "bigram_mod = gensim.models.phrases.Phraser(bigram)\n",
        "trigram_mod = gensim.models.phrases.Phraser(trigram)\n",
        "\n",
        "# See trigram example\n",
        "print(trigram_mod[bigram_mod[data_words[0]]])"
      ],
      "execution_count": 13,
      "outputs": [
        {
          "output_type": "stream",
          "text": [
            "/usr/local/lib/python3.7/dist-packages/gensim/models/phrases.py:598: UserWarning: For a faster implementation, use the gensim.models.phrases.Phraser class\n",
            "  warnings.warn(\"For a faster implementation, use the gensim.models.phrases.Phraser class\")\n"
          ],
          "name": "stderr"
        },
        {
          "output_type": "stream",
          "text": [
            "['from', 'wheres', 'my', 'thing', 'subject', 'what', 'car', 'is', 'this', 'nntp_posting_host', 'rac_wam_umd_edu', 'organization', 'university', 'of', 'maryland_college_park', 'lines', 'was', 'wondering', 'if', 'anyone', 'out', 'there', 'could', 'enlighten', 'me', 'on', 'this', 'car', 'saw', 'the', 'other', 'day', 'it', 'was', 'door', 'sports', 'car', 'looked', 'to', 'be', 'from', 'the', 'late', 'early', 'it', 'was', 'called', 'bricklin', 'the', 'doors', 'were', 'really', 'small', 'in', 'addition', 'the', 'front_bumper', 'was', 'separate', 'from', 'the', 'rest', 'of', 'the', 'body', 'this', 'is', 'all', 'know', 'if', 'anyone', 'can', 'tellme', 'model', 'name', 'engine', 'specs', 'years', 'of', 'production', 'where', 'this', 'car', 'is', 'made', 'history', 'or', 'whatever', 'info', 'you', 'have', 'on', 'this', 'funky', 'looking', 'car', 'please', 'mail', 'thanks', 'il', 'brought', 'to', 'you', 'by', 'your', 'neighborhood', 'lerxst']\n"
          ],
          "name": "stdout"
        }
      ]
    },
    {
      "cell_type": "markdown",
      "metadata": {
        "id": "9GP6-8VjdZp0"
      },
      "source": [
        "## Remove Stopwords, Make Bigrams and Lemmatize\n",
        "The bigrams model is ready. Let’s define the functions to remove the stopwords, make bigrams and lemmatization and call them sequentially."
      ]
    },
    {
      "cell_type": "code",
      "metadata": {
        "id": "kk_UshgpS0hM"
      },
      "source": [
        "# Define functions for stopwords, bigrams, trigrams and lemmatization\n",
        "def remove_stopwords(texts):\n",
        "    return [[word for word in simple_preprocess(str(doc)) if word not in stop_words] for doc in texts]\n",
        "\n",
        "def make_bigrams(texts):\n",
        "    return [bigram_mod[doc] for doc in texts]\n",
        "\n",
        "def make_trigrams(texts):\n",
        "    return [trigram_mod[bigram_mod[doc]] for doc in texts]\n",
        "\n",
        "def lemmatization(texts, allowed_postags=['NOUN', 'ADJ', 'VERB', 'ADV']):\n",
        "    \"\"\"https://spacy.io/api/annotation\"\"\"\n",
        "    texts_out = []\n",
        "    for sent in texts:\n",
        "        doc = nlp(\" \".join(sent)) \n",
        "        texts_out.append([token.lemma_ for token in doc if token.pos_ in allowed_postags])\n",
        "    return texts_out"
      ],
      "execution_count": 14,
      "outputs": []
    },
    {
      "cell_type": "code",
      "metadata": {
        "colab": {
          "base_uri": "https://localhost:8080/"
        },
        "id": "_eGFZ9VWSo7w",
        "outputId": "ccf0be09-f571-4b89-8754-86c104b432d3"
      },
      "source": [
        "# Remove Stop Words\n",
        "data_words_nostops = remove_stopwords(data_words)\n",
        "\n",
        "# Form Bigrams\n",
        "data_words_bigrams = make_bigrams(data_words_nostops)\n",
        "\n",
        "# Initialize spacy 'en' model, keeping only tagger component (for efficiency)\n",
        "# python3 -m spacy download en\n",
        "nlp = spacy.load('en', disable=['parser', 'ner'])\n",
        "\n",
        "# Do lemmatization keeping only noun, adj, vb, adv\n",
        "data_lemmatized = lemmatization(data_words_bigrams, allowed_postags=['NOUN', 'ADJ', 'VERB', 'ADV'])\n",
        "\n",
        "print(data_lemmatized[:1])\n"
      ],
      "execution_count": 15,
      "outputs": [
        {
          "output_type": "stream",
          "text": [
            "[['where', 'thing', 'car', 'nntp_poste', 'host', 'park', 'line', 'wonder', 'could', 'enlighten', 'car', 'see', 'day', 'door', 'sport', 'car', 'look', 'late', 'early', 'call', 'bricklin', 'door', 'really', 'small', 'addition', 'separate', 'rest', 'body', 'know', 'tellme', 'model', 'name', 'engine', 'year', 'production', 'car', 'make', 'history', 'info', 'funky', 'look', 'car', 'mail', 'thank', 'bring', 'neighborhood', 'lerxst']]\n"
          ],
          "name": "stdout"
        }
      ]
    },
    {
      "cell_type": "markdown",
      "metadata": {
        "id": "7tX0TpHKejnA"
      },
      "source": [
        "## Create the Dictionary and Corpus needed for Topic Modeling\n",
        "\n",
        "The two main inputs to the LDA topic model are the `dictionary(id2word)` and the `corpus`. Let’s create them."
      ]
    },
    {
      "cell_type": "code",
      "metadata": {
        "colab": {
          "base_uri": "https://localhost:8080/"
        },
        "id": "9GHz6RfiSo5j",
        "outputId": "81c5cb16-852e-4a14-ff88-9a68798b9788"
      },
      "source": [
        "# Create Dictionary\n",
        "id2word = corpora.Dictionary(data_lemmatized)\n",
        "\n",
        "# Create Corpus\n",
        "texts = data_lemmatized\n",
        "\n",
        "# Term Document Frequency\n",
        "corpus = [id2word.doc2bow(text) for text in texts]\n",
        "\n",
        "# View\n",
        "print(corpus[:1])\n"
      ],
      "execution_count": 16,
      "outputs": [
        {
          "output_type": "stream",
          "text": [
            "[[(0, 1), (1, 1), (2, 1), (3, 1), (4, 1), (5, 5), (6, 1), (7, 1), (8, 2), (9, 1), (10, 1), (11, 1), (12, 1), (13, 1), (14, 1), (15, 1), (16, 1), (17, 1), (18, 1), (19, 1), (20, 2), (21, 1), (22, 1), (23, 1), (24, 1), (25, 1), (26, 1), (27, 1), (28, 1), (29, 1), (30, 1), (31, 1), (32, 1), (33, 1), (34, 1), (35, 1), (36, 1), (37, 1), (38, 1), (39, 1), (40, 1)]]\n"
          ],
          "name": "stdout"
        }
      ]
    },
    {
      "cell_type": "markdown",
      "metadata": {
        "id": "cdACSpx4e-II"
      },
      "source": [
        "Gensim creates a unique id for each word in the document. The produced corpus shown above is a mapping of (word_id, word_frequency).\n",
        "\n",
        "For example, (0, 1) above implies, word id 0 occurs once in the first document. Likewise, word id 1 occurs twice and so on.\n",
        "\n",
        "This is used as the input by the LDA model.\n",
        "\n",
        "If you want to see what word a given id corresponds to, pass the id as a key to the dictionary."
      ]
    },
    {
      "cell_type": "code",
      "metadata": {
        "colab": {
          "base_uri": "https://localhost:8080/",
          "height": 35
        },
        "id": "6LTb7fCNSo2d",
        "outputId": "8b60ef41-6e3c-4c98-92ba-30de7695492a"
      },
      "source": [
        "id2word[0]\n"
      ],
      "execution_count": 46,
      "outputs": [
        {
          "output_type": "execute_result",
          "data": {
            "application/vnd.google.colaboratory.intrinsic+json": {
              "type": "string"
            },
            "text/plain": [
              "'addition'"
            ]
          },
          "metadata": {
            "tags": []
          },
          "execution_count": 46
        }
      ]
    },
    {
      "cell_type": "markdown",
      "metadata": {
        "id": "kdL-lWlzflqx"
      },
      "source": [
        "Or, you can see a human-readable form of the corpus itself.\n",
        "\n"
      ]
    },
    {
      "cell_type": "code",
      "metadata": {
        "colab": {
          "base_uri": "https://localhost:8080/"
        },
        "id": "XEZu1MB0Sozh",
        "outputId": "f129dd3d-c3a5-4062-f2f8-fd6db72ac5ba"
      },
      "source": [
        "# Human readable format of corpus (term-frequency)\n",
        "[[(id2word[id], freq) for id, freq in cp] for cp in corpus[:1]]"
      ],
      "execution_count": 18,
      "outputs": [
        {
          "output_type": "execute_result",
          "data": {
            "text/plain": [
              "[[('addition', 1),\n",
              "  ('body', 1),\n",
              "  ('bricklin', 1),\n",
              "  ('bring', 1),\n",
              "  ('call', 1),\n",
              "  ('car', 5),\n",
              "  ('could', 1),\n",
              "  ('day', 1),\n",
              "  ('door', 2),\n",
              "  ('early', 1),\n",
              "  ('engine', 1),\n",
              "  ('enlighten', 1),\n",
              "  ('funky', 1),\n",
              "  ('history', 1),\n",
              "  ('host', 1),\n",
              "  ('info', 1),\n",
              "  ('know', 1),\n",
              "  ('late', 1),\n",
              "  ('lerxst', 1),\n",
              "  ('line', 1),\n",
              "  ('look', 2),\n",
              "  ('mail', 1),\n",
              "  ('make', 1),\n",
              "  ('model', 1),\n",
              "  ('name', 1),\n",
              "  ('neighborhood', 1),\n",
              "  ('nntp_poste', 1),\n",
              "  ('park', 1),\n",
              "  ('production', 1),\n",
              "  ('really', 1),\n",
              "  ('rest', 1),\n",
              "  ('see', 1),\n",
              "  ('separate', 1),\n",
              "  ('small', 1),\n",
              "  ('sport', 1),\n",
              "  ('tellme', 1),\n",
              "  ('thank', 1),\n",
              "  ('thing', 1),\n",
              "  ('where', 1),\n",
              "  ('wonder', 1),\n",
              "  ('year', 1)]]"
            ]
          },
          "metadata": {
            "tags": []
          },
          "execution_count": 18
        }
      ]
    },
    {
      "cell_type": "markdown",
      "metadata": {
        "id": "l_NE0JJSfo5c"
      },
      "source": [
        "Alright, without digressing further let’s jump back on track with the next step: Building the topic model.\n",
        "\n",
        "## Building the Topic Model\n",
        "We have everything required to train the LDA model. In addition to the corpus and dictionary, you need to provide the number of topics as well.\n",
        "\n",
        "Apart from that, `alpha` and `eta` are hyperparameters that affect sparsity of the topics. According to the Gensim docs, both defaults to 1.0/num_topics prior.\n",
        "\n",
        "`chunksize` is the number of documents to be used in each training chunk. `update_every` determines how often the model parameters should be updated and `passes` is the total number of training passes.\n"
      ]
    },
    {
      "cell_type": "code",
      "metadata": {
        "id": "3sO8_wWrSowz"
      },
      "source": [
        "# Build LDA model\n",
        "lda_model = gensim.models.ldamodel.LdaModel(corpus=corpus,\n",
        "                                           id2word=id2word,\n",
        "                                           num_topics=20, \n",
        "                                           random_state=100,\n",
        "                                           update_every=1,\n",
        "                                           chunksize=100,\n",
        "                                           passes=10,\n",
        "                                           alpha='auto',\n",
        "                                           per_word_topics=True)\n"
      ],
      "execution_count": 19,
      "outputs": []
    },
    {
      "cell_type": "markdown",
      "metadata": {
        "id": "tTlGrA96f1qC"
      },
      "source": [
        "## View the topics in LDA model\n",
        "\n",
        "The above LDA model is built with 20 different topics where each topic is a combination of keywords and each keyword contributes a certain weightage to the topic.\n",
        "\n",
        "You can see the keywords for each topic and the **weightage(importance)** of each keyword using `lda_model.print_topics()` as shown next."
      ]
    },
    {
      "cell_type": "code",
      "metadata": {
        "colab": {
          "base_uri": "https://localhost:8080/"
        },
        "id": "TpBCCcKITZO3",
        "outputId": "1e76fbc2-7e81-49b6-82ff-0b055808689b"
      },
      "source": [
        "# Print the Keyword in the 10 topics\n",
        "pprint(lda_model.print_topics())\n",
        "doc_lda = lda_model[corpus]\n"
      ],
      "execution_count": 20,
      "outputs": [
        {
          "output_type": "stream",
          "text": [
            "[(0,\n",
            "  '0.051*\"report\" + 0.027*\"black\" + 0.020*\"fire\" + 0.020*\"white\" + '\n",
            "  '0.016*\"trial\" + 0.016*\"cover\" + 0.015*\"medium\" + 0.013*\"vote\" + '\n",
            "  '0.012*\"minor\" + 0.012*\"title\"'),\n",
            " (1,\n",
            "  '0.021*\"god\" + 0.020*\"accept\" + 0.016*\"member\" + 0.015*\"man\" + '\n",
            "  '0.014*\"israeli\" + 0.014*\"season\" + 0.012*\"publish\" + 0.012*\"lebanese\" + '\n",
            "  '0.012*\"jewish\" + 0.011*\"brain\"'),\n",
            " (2,\n",
            "  '0.017*\"package\" + 0.016*\"press\" + 0.015*\"item\" + 0.015*\"break\" + '\n",
            "  '0.011*\"level\" + 0.010*\"edge\" + 0.009*\"hole\" + 0.007*\"eye\" + '\n",
            "  '0.007*\"contribute\" + 0.007*\"equipment\"'),\n",
            " (3,\n",
            "  '0.025*\"pc\" + 0.022*\"contain\" + 0.020*\"input\" + 0.020*\"reality\" + '\n",
            "  '0.017*\"picture\" + 0.016*\"object\" + 0.016*\"level\" + 0.015*\"box\" + '\n",
            "  '0.015*\"quality\" + 0.013*\"greek\"'),\n",
            " (4,\n",
            "  '0.089*\"ax\" + 0.076*\"max\" + 0.032*\"space\" + 0.021*\"launch\" + 0.018*\"di_di\" + '\n",
            "  '0.017*\"orbit\" + 0.016*\"sphere\" + 0.015*\"satellite\" + 0.014*\"plane\" + '\n",
            "  '0.014*\"mission\"'),\n",
            " (5,\n",
            "  '0.019*\"people\" + 0.017*\"kill\" + 0.015*\"child\" + 0.015*\"government\" + '\n",
            "  '0.012*\"attack\" + 0.012*\"year\" + 0.012*\"die\" + 0.011*\"country\" + 0.010*\"say\" '\n",
            "  '+ 0.009*\"war\"'),\n",
            " (6,\n",
            "  '0.035*\"window\" + 0.032*\"card\" + 0.020*\"image\" + 0.020*\"driver\" + '\n",
            "  '0.020*\"problem\" + 0.019*\"run\" + 0.018*\"sale\" + 0.018*\"machine\" + '\n",
            "  '0.017*\"color\" + 0.016*\"screen\"'),\n",
            " (7,\n",
            "  '0.025*\"people\" + 0.021*\"say\" + 0.014*\"reason\" + 0.014*\"believe\" + '\n",
            "  '0.012*\"may\" + 0.012*\"evidence\" + 0.010*\"make\" + 0.010*\"think\" + '\n",
            "  '0.009*\"many\" + 0.009*\"mean\"'),\n",
            " (8,\n",
            "  '0.032*\"book\" + 0.023*\"physical\" + 0.021*\"science\" + 0.017*\"choose\" + '\n",
            "  '0.016*\"explain\" + 0.015*\"create\" + 0.011*\"author\" + 0.011*\"earth\" + '\n",
            "  '0.010*\"study\" + 0.010*\"nature\"'),\n",
            " (9,\n",
            "  '0.033*\"mail\" + 0.028*\"file\" + 0.027*\"send\" + 0.026*\"program\" + '\n",
            "  '0.025*\"thank\" + 0.024*\"information\" + 0.021*\"software\" + 0.021*\"list\" + '\n",
            "  '0.019*\"include\" + 0.019*\"address\"'),\n",
            " (10,\n",
            "  '0.073*\"group\" + 0.031*\"week\" + 0.021*\"young\" + 0.017*\"drug\" + 0.015*\"watch\" '\n",
            "  '+ 0.013*\"nntp_posting\" + 0.013*\"age\" + 0.013*\"route\" + 0.011*\"kid\" + '\n",
            "  '0.010*\"capable\"'),\n",
            " (11,\n",
            "  '0.073*\"car\" + 0.023*\"existence\" + 0.022*\"model\" + 0.020*\"engine\" + '\n",
            "  '0.016*\"pain\" + 0.012*\"keyboard\" + 0.012*\"mile\" + 0.011*\"should\" + '\n",
            "  '0.011*\"price\" + 0.011*\"insurance\"'),\n",
            " (12,\n",
            "  '0.070*\"drive\" + 0.025*\"power\" + 0.024*\"player\" + 0.017*\"speed\" + '\n",
            "  '0.017*\"light\" + 0.014*\"high\" + 0.013*\"bus\" + 0.012*\"university\" + '\n",
            "  '0.012*\"fast\" + 0.012*\"scsi\"'),\n",
            " (13,\n",
            "  '0.040*\"line\" + 0.039*\"would\" + 0.035*\"write\" + 0.024*\"article\" + 0.021*\"be\" '\n",
            "  '+ 0.020*\"get\" + 0.020*\"know\" + 0.020*\"go\" + 0.014*\"good\" + 0.014*\"think\"'),\n",
            " (14,\n",
            "  '0.027*\"patient\" + 0.017*\"family\" + 0.014*\"food\" + 0.013*\"treatment\" + '\n",
            "  '0.012*\"disease\" + 0.012*\"doctor\" + 0.011*\"cd\" + 0.011*\"diagnosis\" + '\n",
            "  '0.011*\"risk\" + 0.010*\"cause\"'),\n",
            " (15,\n",
            "  '0.029*\"wire\" + 0.021*\"ground\" + 0.021*\"eat\" + 0.019*\"material\" + '\n",
            "  '0.018*\"seller\" + 0.018*\"controller\" + 0.016*\"signal\" + 0.016*\"trust\" + '\n",
            "  '0.015*\"lead\" + 0.015*\"expensive\"'),\n",
            " (16,\n",
            "  '0.042*\"gun\" + 0.025*\"right\" + 0.016*\"carry\" + 0.015*\"law\" + 0.014*\"state\" + '\n",
            "  '0.014*\"crime\" + 0.014*\"weapon\" + 0.014*\"shoot\" + 0.013*\"steal\" + '\n",
            "  '0.013*\"protect\"'),\n",
            " (17,\n",
            "  '0.028*\"use\" + 0.025*\"system\" + 0.016*\"also\" + 0.014*\"may\" + 0.014*\"number\" '\n",
            "  '+ 0.012*\"new\" + 0.009*\"work\" + 0.009*\"support\" + 0.008*\"bit\" + '\n",
            "  '0.008*\"need\"'),\n",
            " (18,\n",
            "  '0.043*\"team\" + 0.039*\"game\" + 0.036*\"year\" + 0.030*\"play\" + 0.024*\"win\" + '\n",
            "  '0.017*\"lose\" + 0.013*\"hit\" + 0.013*\"fan\" + 0.012*\"last\" + 0.012*\"hockey\"'),\n",
            " (19,\n",
            "  '0.054*\"key\" + 0.030*\"public\" + 0.021*\"government\" + 0.017*\"internet\" + '\n",
            "  '0.015*\"encryption\" + 0.015*\"technology\" + 0.014*\"chip\" + 0.014*\"security\" + '\n",
            "  '0.014*\"instal\" + 0.013*\"private\"')]\n"
          ],
          "name": "stdout"
        }
      ]
    },
    {
      "cell_type": "markdown",
      "metadata": {
        "id": "MIfjy3T7gCq0"
      },
      "source": [
        "How to interpret this?\n",
        "\n",
        "Topic 0 is a represented as _0.016“car” + 0.014“power” + 0.010“light” + 0.009“drive” + 0.007“mount” + 0.007“controller” + 0.007“cool” + 0.007“engine” + 0.007“back” + ‘0.006“turn”.\n",
        "\n",
        "It means the top 10 keywords that contribute to this topic are: ‘car’, ‘power’, ‘light’.. and so on and the weight of ‘car’ on topic 0 is 0.016.\n",
        "\n",
        "The weights reflect how important a keyword is to that topic.\n",
        "\n",
        "Looking at these keywords, can you guess what this topic could be? You may summarise it either are ‘cars’ or ‘automobiles’.\n",
        "\n",
        "Likewise, can you go through the remaining topic keywords and judge what the topic is?\n",
        "\n",
        "![](https://www.machinelearningplus.com/wp-content/uploads/2018/03/Inferring-Topic-from-Keywords-1200x781.png?ezimgfmt=ng:webp/ngcb3)"
      ]
    },
    {
      "cell_type": "markdown",
      "metadata": {
        "id": "apuXnZyqgOLq"
      },
      "source": [
        "## Compute Model Perplexity and Coherence Score\n",
        "\n",
        "Model perplexity and topic coherence provide a convenient measure to judge how good a given topic model is. In my experience, topic coherence score, in particular, has been more helpful."
      ]
    },
    {
      "cell_type": "code",
      "metadata": {
        "colab": {
          "base_uri": "https://localhost:8080/"
        },
        "id": "M9c88uEJTZLi",
        "outputId": "b32ce97e-da34-4c02-b31c-c80e2b197cfa"
      },
      "source": [
        "# Compute Perplexity\n",
        "print('\\nPerplexity: ', lda_model.log_perplexity(corpus))  # a measure of how good the model is. lower the better.\n",
        "\n",
        "# Compute Coherence Score\n",
        "coherence_model_lda = CoherenceModel(model=lda_model, texts=data_lemmatized, dictionary=id2word, coherence='c_v')\n",
        "coherence_lda = coherence_model_lda.get_coherence()\n",
        "print('\\nCoherence Score: ', coherence_lda)   # a measure of how good the model is. higher the better."
      ],
      "execution_count": 21,
      "outputs": [
        {
          "output_type": "stream",
          "text": [
            "\n",
            "Perplexity:  -8.348721028532445\n",
            "\n",
            "Coherence Score:  0.4392813747423439\n"
          ],
          "name": "stdout"
        }
      ]
    },
    {
      "cell_type": "code",
      "metadata": {
        "colab": {
          "base_uri": "https://localhost:8080/",
          "height": 881
        },
        "id": "XpEOVS0oTZH8",
        "outputId": "e4463bf9-dc73-45d3-89c2-71dbe5ae488e"
      },
      "source": [
        "# Visualize the topics\n",
        "pyLDAvis.enable_notebook()\n",
        "vis = pyLDAvis.gensim.prepare(lda_model, corpus, id2word)\n",
        "vis\n"
      ],
      "execution_count": 22,
      "outputs": [
        {
          "output_type": "execute_result",
          "data": {
            "text/html": [
              "\n",
              "<link rel=\"stylesheet\" type=\"text/css\" href=\"https://cdn.jsdelivr.net/gh/bmabey/pyLDAvis@3.2.2/pyLDAvis/js/ldavis.v1.0.0.css\">\n",
              "\n",
              "\n",
              "<div id=\"ldavis_el601404269453073443437081235\"></div>\n",
              "<script type=\"text/javascript\">\n",
              "\n",
              "var ldavis_el601404269453073443437081235_data = {\"mdsDat\": {\"x\": [-0.338658286897009, -0.3105535362316242, -0.22956319095420177, -0.1411878024681844, -0.05018151419505332, -0.022122862652228882, 0.020493330365386343, 0.04033858981345447, -0.05165792277056173, 0.023277586664219776, 0.06298386833793065, 0.11421002740376633, 0.055806988716775814, 0.1115749146980129, 0.12665630560020305, 0.09591618500395911, 0.13173779144335984, 0.10880360808866964, 0.12175435549321262, 0.13037156453991247], \"y\": [0.01579463453870421, -0.10208721992460167, 0.07667521218535771, -0.1922199891174191, 0.2537957367451472, 0.2859041603763609, -0.012532730980008863, -0.0008976332762119295, -0.01465506403580798, -0.1294770833126727, 0.06451222281763463, -0.004330220937546687, -0.14087773443252447, -0.040582877421634495, 0.02091249673504789, -0.07602534061934574, 0.01756363573828881, 0.029916191857588332, -0.036483935435072265, -0.014904461501283493], \"topics\": [1, 2, 3, 4, 5, 6, 7, 8, 9, 10, 11, 12, 13, 14, 15, 16, 17, 18, 19, 20], \"cluster\": [1, 1, 1, 1, 1, 1, 1, 1, 1, 1, 1, 1, 1, 1, 1, 1, 1, 1, 1, 1], \"Freq\": [24.176078013414433, 15.732080074744252, 12.436316385438154, 5.442062047603485, 4.782105122473245, 3.871355566511264, 3.3018046048079746, 3.247851363168265, 3.24151993045976, 3.160815320572323, 2.9086439943199194, 2.6588677950071236, 2.3524014091348815, 2.1602035757310207, 2.000027852041393, 1.8964649278925116, 1.752228623390792, 1.7426880155687132, 1.6319121456886896, 1.5045732320318017]}, \"tinfo\": {\"Term\": [\"line\", \"write\", \"would\", \"people\", \"article\", \"drive\", \"be\", \"use\", \"year\", \"system\", \"ax\", \"key\", \"get\", \"group\", \"say\", \"go\", \"know\", \"max\", \"car\", \"problem\", \"right\", \"good\", \"team\", \"thank\", \"mail\", \"think\", \"window\", \"game\", \"file\", \"program\", \"be\", \"have\", \"lot\", \"will\", \"nntp_poste\", \"maybe\", \"like\", \"test\", \"ill\", \"distribution_usa\", \"pretty\", \"bike\", \"guess\", \"wonder\", \"pin\", \"nice\", \"sorry\", \"there\", \"worth\", \"anyway\", \"wait\", \"internal\", \"advice\", \"drop\", \"motif\", \"pull\", \"disclaimer\", \"personally\", \"laugh\", \"folk\", \"article\", \"get\", \"organization\", \"s\", \"hear\", \"money\", \"want\", \"write\", \"turn\", \"go\", \"line\", \"friend\", \"host\", \"look\", \"back\", \"sure\", \"would\", \"really\", \"much\", \"put\", \"know\", \"could\", \"good\", \"little\", \"try\", \"probably\", \"time\", \"bad\", \"take\", \"think\", \"see\", \"well\", \"make\", \"thing\", \"come\", \"still\", \"way\", \"say\", \"need\", \"reason\", \"believe\", \"claim\", \"sense\", \"faith\", \"agree\", \"rule\", \"religion\", \"argument\", \"prove\", \"matter\", \"understand\", \"mind\", \"truth\", \"atheist\", \"belief\", \"certainly\", \"church\", \"conclusion\", \"statement\", \"christian\", \"religious\", \"slave\", \"indeed\", \"sin\", \"logic\", \"therefore\", \"judge\", \"clearly\", \"argue\", \"evidence\", \"true\", \"person\", \"certain\", \"fact\", \"clear\", \"word\", \"people\", \"life\", \"exist\", \"mean\", \"talk\", \"say\", \"world\", \"view\", \"many\", \"point\", \"may\", \"must\", \"become\", \"even\", \"think\", \"make\", \"question\", \"law\", \"see\", \"would\", \"thing\", \"give\", \"come\", \"can\", \"know\", \"system\", \"add\", \"cheap\", \"hardware\", \"function\", \"currently\", \"device\", \"section\", \"field\", \"remove\", \"replace\", \"release\", \"block\", \"special\", \"secure\", \"period\", \"announce\", \"port\", \"nee\", \"mount\", \"operate\", \"recommend\", \"site\", \"development\", \"transfer\", \"external\", \"tool\", \"convince\", \"secret\", \"master\", \"build\", \"connect\", \"standard\", \"type\", \"support\", \"use\", \"service\", \"datum\", \"number\", \"require\", \"large\", \"design\", \"receive\", \"detail\", \"note\", \"new\", \"single\", \"bit\", \"provide\", \"base\", \"also\", \"high\", \"allow\", \"return\", \"order\", \"cost\", \"may\", \"possible\", \"work\", \"part\", \"need\", \"case\", \"call\", \"set\", \"first\", \"attack\", \"war\", \"soldier\", \"murder\", \"village\", \"visit\", \"terrorist\", \"turkish\", \"withdraw\", \"population\", \"gift\", \"president\", \"town\", \"house\", \"armenian\", \"door\", \"civilian\", \"male\", \"justify\", \"education\", \"minority\", \"somehow\", \"girl\", \"inhabitant\", \"border\", \"restraint\", \"role\", \"victim\", \"islamic\", \"escape\", \"country\", \"national\", \"kill\", \"military\", \"die\", \"burn\", \"child\", \"woman\", \"american\", \"city\", \"fight\", \"government\", \"death\", \"force\", \"live\", \"people\", \"year\", \"say\", \"today\", \"state\", \"area\", \"place\", \"mail\", \"software\", \"address\", \"email\", \"com\", \"copy\", \"info\", \"entry\", \"appreciate\", \"server\", \"distribution\", \"faq\", \"connection\", \"library\", \"select\", \"client\", \"update\", \"mine\", \"byte\", \"winner\", \"welcome\", \"frame\", \"localtalk\", \"shipping\", \"travel\", \"guilty\", \"variable\", \"conference\", \"beautiful\", \"educational\", \"ca\", \"list\", \"send\", \"advance\", \"originator\", \"page\", \"file\", \"information\", \"request\", \"program\", \"source\", \"thank\", \"include\", \"news\", \"available\", \"network\", \"name\", \"computer\", \"post\", \"message\", \"interested\", \"line\", \"window\", \"card\", \"image\", \"color\", \"screen\", \"memory\", \"disk\", \"tape\", \"display\", \"graphic\", \"monitor\", \"video\", \"mouse\", \"apple\", \"convert\", \"processor\", \"font\", \"blind\", \"resolution\", \"accelerator\", \"map\", \"este\", \"compatible\", \"egg\", \"default\", \"string\", \"setup\", \"icon\", \"utility\", \"specification\", \"sale\", \"mode\", \"machine\", \"driver\", \"version\", \"character\", \"application\", \"run\", \"error\", \"problem\", \"offer\", \"set\", \"user\", \"bit\", \"use\", \"program\", \"computer\", \"file\", \"key\", \"internet\", \"encryption\", \"security\", \"instal\", \"ripem\", \"private\", \"clipper\", \"encrypt\", \"tap\", \"market\", \"communication\", \"rational\", \"tax\", \"crash\", \"ram\", \"federal\", \"ensure\", \"pgp\", \"proposal\", \"illegal\", \"random\", \"privacy\", \"predict\", \"manage\", \"sequence\", \"amendment\", \"hint\", \"scheme\", \"corporation\", \"public\", \"pro\", \"step\", \"solution\", \"technology\", \"government\", \"chip\", \"access\", \"message\", \"information\", \"issue\", \"book\", \"physical\", \"science\", \"choose\", \"author\", \"nature\", \"revelation\", \"scientific\", \"direct\", \"theory\", \"animal\", \"objective\", \"translation\", \"benefit\", \"language\", \"topic\", \"statistic\", \"specifically\", \"energy\", \"attitude\", \"principle\", \"contradict\", \"prize\", \"cry\", \"daughter\", \"scientist\", \"element\", \"pattern\", \"implementation\", \"explicitly\", \"student\", \"earth\", \"explain\", \"create\", \"son\", \"study\", \"consistent\", \"research\", \"examine\", \"describe\", \"purpose\", \"concern\", \"necessarily\", \"define\", \"team\", \"game\", \"play\", \"hit\", \"fan\", \"hockey\", \"score\", \"wing\", \"cpu\", \"playoff\", \"average\", \"defense\", \"rider\", \"upgrade\", \"stat\", \"award\", \"coach\", \"king\", \"yesterday\", \"talent\", \"ball\", \"blue\", \"clock\", \"tie\", \"club\", \"offense\", \"weekend\", \"rock\", \"soul\", \"pitch\", \"win\", \"division\", \"trade\", \"goal\", \"lose\", \"year\", \"pick\", \"boy\", \"last\", \"final\", \"run\", \"next\", \"first\", \"great\", \"good\", \"point\", \"throw\", \"god\", \"israeli\", \"season\", \"publish\", \"lebanese\", \"jewish\", \"brain\", \"society\", \"respect\", \"practice\", \"pen\", \"terrorism\", \"evil\", \"hide\", \"interpretation\", \"homosexual\", \"sex\", \"marriage\", \"impact\", \"imply\", \"gay\", \"arab\", \"northern\", \"acquire\", \"economic\", \"compromise\", \"western\", \"penguin\", \"neutral\", \"aid\", \"accept\", \"member\", \"community\", \"shall\", \"assumption\", \"man\", \"exactly\", \"necessary\", \"state\", \"history\", \"whole\", \"right\", \"force\", \"drive\", \"player\", \"bus\", \"university\", \"scsi\", \"switch\", \"cool\", \"printer\", \"baseball\", \"air\", \"hot\", \"star\", \"foot\", \"cycle\", \"stick\", \"helmet\", \"ice\", \"slip\", \"water\", \"tube\", \"jumper\", \"electronic\", \"oil\", \"cold\", \"cap\", \"gas\", \"saturn\", \"remind\", \"maxtor\", \"deliver\", \"light\", \"blow\", \"speed\", \"power\", \"performance\", \"compare\", \"fast\", \"slow\", \"high\", \"low\", \"ride\", \"ever\", \"head\", \"extra\", \"driver\", \"rate\", \"package\", \"press\", \"item\", \"edge\", \"hole\", \"contribute\", \"extremely\", \"slightly\", \"promise\", \"fun\", \"pad\", \"mac\", \"miracle\", \"negative\", \"violence\", \"registration\", \"finish\", \"fool\", \"professional\", \"pitcher\", \"detailed\", \"audio\", \"detect\", \"wind\", \"vertical\", \"essentially\", \"storage\", \"mhz\", \"bend\", \"differential\", \"equipment\", \"break\", \"degree\", \"level\", \"eye\", \"overall\", \"due\", \"gun\", \"weapon\", \"steal\", \"firearm\", \"tv\", \"cop\", \"beat\", \"review\", \"blank\", \"militia\", \"headache\", \"shell\", \"rsa\", \"specify\", \"patent\", \"permit\", \"shot\", \"export\", \"glock\", \"sink\", \"gang\", \"floor\", \"distance\", \"truck\", \"usage\", \"sky\", \"knife\", \"rush\", \"islander\", \"park\", \"criminal\", \"shoot\", \"crime\", \"police\", \"carry\", \"protect\", \"right\", \"arm\", \"rate\", \"law\", \"state\", \"keep\", \"stop\", \"group\", \"young\", \"nntp_posting\", \"route\", \"kid\", \"waste\", \"fax\", \"link\", \"dangerous\", \"btw\", \"conversation\", \"planet\", \"tomorrow\", \"telephone\", \"dream\", \"direction\", \"taste\", \"relevant\", \"funny\", \"buyer\", \"warrant\", \"advocate\", \"wisdom\", \"decade\", \"newspaper\", \"gold\", \"contrary\", \"opponent\", \"imho\", \"warning\", \"week\", \"drug\", \"watch\", \"capable\", \"age\", \"recent\", \"laboratory\", \"issue\", \"environment\", \"discussion\", \"primarily\", \"pc\", \"input\", \"reality\", \"picture\", \"object\", \"box\", \"quality\", \"greek\", \"generate\", \"tumor\", \"interface\", \"ide\", \"digital\", \"status\", \"workstation\", \"mirror\", \"unlikely\", \"unix\", \"management\", \"technique\", \"anywhere\", \"algorithm\", \"expansion\", \"universe\", \"drink\", \"manufacturer\", \"manufacture\", \"routine\", \"shape\", \"compression\", \"contain\", \"scan\", \"level\", \"sample\", \"method\", \"original\", \"patient\", \"family\", \"food\", \"treatment\", \"disease\", \"doctor\", \"cd\", \"diagnosis\", \"medical\", \"wave\", \"ticket\", \"syndrome\", \"health\", \"neurologist\", \"dn\", \"father\", \"liar\", \"immediate\", \"msg\", \"diagnose\", \"spring\", \"eeg\", \"modem\", \"researcher\", \"migraine\", \"surrender\", \"probability\", \"confirm\", \"optional\", \"estimate\", \"adult\", \"blood\", \"risk\", \"cause\", \"effect\", \"study\", \"serious\", \"ax\", \"max\", \"launch\", \"di_di\", \"orbit\", \"sphere\", \"satellite\", \"plane\", \"flight\", \"prediction\", \"moon\", \"shuttle\", \"realistic\", \"lunar\", \"velocity\", \"investigation\", \"solar\", \"horse\", \"wide_range\", \"univ\", \"specifie\", \"film\", \"distant\", \"straightforward\", \"pot\", \"scare\", \"farin\", \"consultation\", \"comet\", \"vat\", \"mission\", \"space\", \"fuel\", \"car\", \"existence\", \"engine\", \"pain\", \"keyboard\", \"mile\", \"should\", \"motorcycle\", \"prayer\", \"battery\", \"observation\", \"accident\", \"morality\", \"sight\", \"cross\", \"arrogance\", \"up\", \"thinking\", \"leg\", \"honor\", \"tongue\", \"freenet\", \"national_capital\", \"react\", \"enjoyable\", \"luxury\", \"cure\", \"jungle\", \"necessarilly\", \"mechanic\", \"insurance\", \"concept\", \"auto\", \"model\", \"dealer\", \"vehicle\", \"mid\", \"pound\", \"safety\", \"race\", \"price\", \"ride\", \"owner\", \"sound\", \"report\", \"black\", \"white\", \"trial\", \"medium\", \"vote\", \"minor\", \"title\", \"past\", \"smoke\", \"ethnic\", \"benign\", \"tank\", \"devil\", \"canadian\", \"wise\", \"trace\", \"brother\", \"assist\", \"echo\", \"channel\", \"advertising\", \"penalty\", \"injury\", \"surveillance\", \"mass\", \"correctly\", \"occupant\", \"revolver\", \"blanking\", \"fire\", \"strange\", \"cover\", \"schedule\", \"table\", \"official\", \"begin\", \"third\", \"wire\", \"eat\", \"material\", \"seller\", \"controller\", \"signal\", \"trust\", \"expensive\", \"sensitive\", \"circuit\", \"damage\", \"decent\", \"metal\", \"insert\", \"noise\", \"configuration\", \"dept\", \"own\", \"fair\", \"contest\", \"timer\", \"few\", \"voltage\", \"struggle\", \"biker\", \"tire\", \"fold\", \"surgery\", \"stock\", \"unusual\", \"firm\", \"ground\", \"seat\", \"purchase\", \"lead\", \"condition\", \"stop\"], \"Freq\": [11975.0, 10060.0, 12046.0, 5647.0, 6479.0, 2284.0, 5686.0, 4580.0, 3537.0, 3512.0, 1769.0, 2027.0, 5394.0, 1780.0, 6429.0, 5622.0, 6321.0, 1498.0, 1438.0, 3003.0, 2638.0, 4558.0, 1575.0, 2494.0, 1764.0, 5551.0, 1542.0, 1439.0, 1855.0, 2036.0, 5685.09847474527, 2113.262295698347, 1414.053589654869, 1338.8563480811902, 1087.4605067666705, 1070.9214304501813, 886.7211876816921, 826.3590441442453, 693.0309744186098, 667.8801660214252, 662.9430780381318, 619.317166379478, 616.4359749061241, 606.846854612307, 570.1316204020171, 469.63049203921037, 412.6691230575906, 412.04476533151427, 401.87005742542004, 390.976068572005, 362.9030740729411, 349.43884912611094, 340.2875451091886, 335.1673795639303, 317.5912662608757, 307.51567637522385, 303.1923955624483, 297.0816536096201, 292.74102158198036, 274.9427428153436, 6443.2512279670345, 5343.440469670843, 2885.3544937700176, 2819.1689520248024, 1499.5360975165333, 900.7307365242553, 3293.4400677918693, 9678.656630200681, 941.1833461472256, 5327.713786132356, 11036.878713682141, 620.3806115337212, 3447.2600493872965, 2735.199495522325, 1753.3457279816537, 1834.2232361298622, 10541.727667119472, 2085.5473845126353, 2489.3235014917955, 1352.7055411907775, 5329.677969078013, 3297.5896140045297, 3888.5953814638606, 1386.564434935083, 2517.9381335479034, 1325.5748511297252, 3580.381874819033, 1441.18478817643, 2679.948397019759, 3854.679794372819, 3150.565207109778, 2370.909913199335, 3701.614368172514, 2243.9628321869773, 2222.9578201062004, 1663.090174208361, 1897.3775905516154, 2125.4467891019854, 1882.3729209356845, 2467.705664571097, 2424.65036514869, 1516.4332715466958, 1298.5783037163376, 1056.0752502265507, 931.1942852376145, 789.1495163354972, 788.4437704042529, 751.3096396405734, 714.6731375128958, 714.0788120890807, 705.4072029756177, 660.5075095187619, 646.8291326369773, 637.5426014357424, 622.9522638305673, 557.093190065655, 517.9849228281034, 492.226809329442, 476.4811973983498, 472.16408700247877, 467.1524389001271, 465.1132450921102, 421.6826148957911, 393.6296690752226, 369.8389919308327, 362.3135168566714, 340.48998655521245, 325.72075162082973, 322.1933868037861, 2088.8941371674637, 1165.324174447498, 1141.8942697924567, 499.3493673347928, 1511.309913425574, 616.8834443880529, 877.1732888375714, 4487.301705474299, 886.5928298205034, 1115.3759408717253, 1554.48598043584, 994.813492476601, 3665.245337537832, 928.0625997058623, 723.8925848006004, 1649.908587479875, 1453.1406331000853, 2185.742959793603, 1108.255202651945, 811.734461463152, 1294.4632722363162, 1694.745622410838, 1709.8832605263365, 1163.16028396914, 889.1385443985595, 1165.0871060181794, 1479.453078098774, 1056.7744614732464, 981.5307948801079, 990.2696533421528, 956.5223089601972, 990.3954666990941, 3511.866434920859, 757.396195323112, 688.322901766806, 634.7383109088304, 537.1066040132371, 528.0281256449178, 521.7934701550984, 517.1458654363364, 480.2618599953838, 476.98199212216633, 467.43379354397155, 458.39399263150835, 451.2940802784356, 376.67421723057305, 368.6636355153595, 364.7349475986408, 360.55193007152167, 354.41257871003705, 346.6841495257087, 342.07777242472724, 335.59159904150107, 333.6800892071174, 333.6430791648275, 324.9042300538473, 318.14067751974864, 316.9501442335781, 312.9951046436388, 308.5236245695904, 308.055277523828, 299.1663611919019, 1058.253967758677, 441.8209480050974, 683.9309998225577, 959.2009052283559, 1303.6205436594298, 3903.8074907623245, 616.9978152311046, 721.7141988969905, 1924.0800402312202, 949.4535324649754, 981.2372467511711, 631.8263529348076, 830.44211804776, 433.49283843589126, 783.6748292906009, 1688.1565831596165, 660.3767888444847, 1153.6986165544984, 1049.7419195870652, 907.1536696782922, 2210.7840216528166, 1037.1538626060155, 848.9359577135108, 673.6868685940244, 990.269266400326, 741.047303390994, 1997.24444740221, 820.2076643567866, 1307.5837568452812, 870.9843307695087, 1069.8540658546412, 869.053662026307, 867.0740170964003, 758.9321120781435, 703.3919393566263, 743.2975497104704, 568.4507870445201, 534.976926772198, 466.0803232721475, 464.3686483581495, 358.7882075400225, 324.68292750295285, 321.44233373774046, 291.8231470589375, 275.1665357372798, 273.07060668720567, 264.8120470578524, 259.92839416673576, 248.9015108232489, 247.75930689116984, 237.05686062579008, 234.08430622461768, 228.48346383363642, 212.63504806440054, 189.2320426101717, 187.65668363215312, 177.73719558595968, 173.08026379449302, 161.12878413713096, 160.63541144063132, 155.96494534233884, 154.5152007553676, 151.8487706281405, 151.20394531847148, 150.54973469666953, 687.6974727197095, 269.24317338987714, 1067.9508905891994, 416.16617167732886, 720.349488677758, 216.94871492598125, 911.9622530564762, 468.5640259503476, 328.75907157180376, 402.95580118886926, 271.8215017608321, 892.4231777459953, 566.3242126612315, 453.5166236806513, 551.8592147913932, 1157.2579727402674, 722.3228077812176, 637.494408025482, 292.3759362208152, 329.5646060448708, 298.10555482293734, 276.43604227203986, 1763.3286170475783, 1145.7073521709972, 1032.6235193179718, 929.8745831862374, 874.9664087782601, 823.6653605396232, 796.539399618291, 775.5632544034576, 593.9783707315913, 570.3632856033537, 502.5045576976729, 484.52459517202783, 346.78042526001315, 333.1113129189568, 282.6307815371727, 281.610975108187, 281.4384385141956, 262.6763285345586, 230.33119850442586, 197.11018502170023, 194.04812563821613, 180.08564828544374, 171.78248184820757, 157.19142265610415, 151.1433763847817, 134.01039454070167, 132.77946839276393, 120.57521989572466, 115.7825520949364, 114.88388838088092, 592.295095473452, 1131.0772949816217, 1452.2182342401775, 558.9711936574979, 330.6726683287435, 476.6786808814008, 1530.576198590018, 1295.5634552048193, 354.0142897443243, 1413.882926340219, 918.2549400635203, 1338.2209782763211, 1038.1601788919909, 488.3421244626917, 647.0303812745675, 378.3848950672945, 667.9847016914434, 583.6462398257098, 720.4002226773955, 575.4854751663913, 456.3152894986239, 937.5500729600947, 1541.3009298112318, 1402.9374852210915, 891.7779770448969, 759.5236034912742, 680.4102338704467, 677.2526605491903, 657.5198424518468, 596.3453095515571, 596.0480835540519, 577.506774906781, 532.1532060974976, 494.72345196132767, 305.40583933867754, 287.7370951918211, 265.8251965088785, 242.46749140374772, 238.82092615412083, 213.4951827276105, 210.7061395176286, 168.42775653303252, 167.6821980325792, 166.01471377681824, 161.67264335695754, 160.35780201270032, 154.86058663013466, 151.8913901061602, 151.59475440819813, 147.10653396354033, 144.49443813037752, 135.63933432989415, 794.2618766833192, 498.68065725669663, 788.4228778653263, 885.8125319937509, 620.1306764980509, 391.7938976868277, 458.6340848910195, 843.1246745002649, 354.8640254878397, 872.1688775897145, 345.41817433085765, 524.2521891998399, 328.88734450659604, 412.4802327426105, 538.0454947156185, 416.66553792347753, 344.97744447892086, 324.24842465962837, 2026.5044604725456, 628.6962719925098, 574.6846354119058, 527.0418796004901, 521.8172307767229, 472.02267309653075, 487.6805437252977, 431.1823597081488, 405.44635937287467, 328.61799824237414, 282.63815466515746, 245.90433365780746, 245.03481459820551, 237.74112150972522, 231.33337053380345, 223.0708562050535, 217.88200477578573, 202.2968400093678, 192.53330030563677, 190.45909996615825, 178.82675224803256, 174.99717753899907, 165.1613486254253, 161.72998954928622, 161.018156102797, 159.08313506094314, 153.255121326493, 149.85916035286814, 144.22609659006278, 143.46081009911973, 1110.997658256288, 272.9427897277695, 234.12035914843145, 450.00803934230026, 547.7652377956184, 768.0484109652001, 532.3041660339929, 336.53349311494105, 487.47107167775636, 293.54929425540223, 219.48774881401644, 1163.190524522489, 834.339885614582, 755.2561471487237, 612.4552313981438, 395.0025980225424, 353.6342240345746, 347.55903540320963, 322.44412540830183, 321.21240702378236, 315.84867374035235, 261.3190247355453, 244.8267581985479, 219.5671561302146, 205.60125452118118, 197.548618937562, 192.14267170328716, 189.10878306209227, 183.54552396892504, 173.43741734672074, 169.48703172822476, 165.50899870422003, 159.68806715785828, 143.45787889902215, 139.06046427638415, 136.82292849794, 135.7460543687948, 132.305642990207, 131.74507007054433, 129.37746853295408, 129.2083651153811, 243.36976212812868, 386.84201972723633, 587.4149130445346, 538.62409013477, 213.21737189626717, 362.02557875856843, 223.89130256672823, 315.1387211544216, 195.10499130403284, 252.2610926016506, 238.79837718824507, 206.62670174378553, 190.04099073307347, 191.71195962067918, 1574.827247321269, 1438.3487630346824, 1092.9724510028548, 476.6050076559328, 464.8869186966211, 446.2438986224037, 440.5765429607119, 382.0216850986167, 377.4550019597416, 325.4286763036689, 282.78187693226874, 224.49635830643973, 205.15547299346028, 190.42715205861612, 176.84669723927493, 171.31672964209886, 166.00655567846638, 161.2174882862975, 153.45503707583262, 152.93631660150734, 151.14752775109383, 149.30527328123043, 148.0064865217271, 147.61516659103847, 139.5824813578805, 136.931391088771, 135.6554938182448, 133.31134938065694, 132.51252666761638, 124.76180994200688, 879.8782283075079, 371.8059851589131, 311.6741897851874, 362.4282143599924, 617.222586474203, 1314.8837798438153, 234.55454174791055, 185.79381159182626, 451.2204791625445, 205.23680481877588, 433.290049955143, 290.96811603805475, 353.19834749654717, 253.79844925576722, 298.8485427084598, 228.75560987259001, 186.71971954281017, 749.8653685542213, 502.14855483528123, 496.23710001267295, 438.5416998051796, 421.2480436842368, 411.82225639129285, 374.86348186529915, 337.45246525712156, 336.0324862777758, 278.84942323438514, 264.88926590392197, 255.83169394145236, 242.76854212854738, 215.16251344499054, 200.17309488294518, 195.86270200776573, 193.66233454344606, 191.89400019570922, 189.73436642767916, 187.10422606003462, 179.00704530163836, 176.20798723138773, 161.312134850538, 147.9586287300542, 147.78685252244532, 137.11423354301294, 134.03451847721325, 127.44547332483279, 126.07318318330954, 119.43901686184451, 715.8375255705541, 555.3147535811615, 340.89739588506416, 338.75700716815743, 193.16475524238086, 525.166533416441, 241.85127778774273, 222.57626221949553, 303.5725665265634, 208.35092869237914, 202.15024966882106, 204.4871273662386, 194.7245849170661, 2283.4353040607125, 796.8244521603235, 414.55072283615897, 406.2359553966546, 397.96462100403437, 309.47137848375985, 303.45498389073924, 275.44596014146134, 265.78785750047825, 258.65716056166036, 258.01416794786024, 252.24633578829255, 245.0114148302793, 214.997527754165, 195.10780744008684, 188.5635331008352, 181.65131662250508, 180.91757341003952, 180.1677110315825, 178.18938162599395, 176.2040325836026, 170.91472860607763, 158.56339472512536, 155.16166955452354, 151.93274367854943, 142.39002918501004, 140.20932319159877, 138.692011109362, 129.9737751336272, 129.06460217439874, 544.9902868109647, 184.34395142274596, 569.128661416557, 819.2614747941711, 299.1264219689544, 396.0557080068284, 402.48080145369715, 370.6726401548285, 450.193869241624, 326.43543958373374, 229.67786701431532, 255.9544933393223, 221.4610533301956, 190.71457004109328, 221.6803137503281, 200.09951857982435, 522.2270185458938, 465.78728510230127, 463.60530983736083, 290.5163382505943, 263.48429883540706, 200.4242238924399, 194.1811754673628, 181.16882831352612, 181.0448673794148, 178.09179554937026, 174.76046602289512, 170.8675306945569, 166.59823895399236, 165.49046130439484, 159.218879636223, 157.80015813904413, 156.53397275916404, 149.3539407221615, 148.82585903442933, 146.26252250619547, 141.44845692098787, 138.95541198818785, 138.24243041159178, 138.20151086110752, 137.93787543813795, 133.29784725777435, 130.25935743884742, 129.31686569474198, 128.91642168925142, 125.27103076830117, 200.40839849744566, 441.48769864931035, 169.4132300187028, 330.94655969280393, 208.82809579568507, 146.64222014581017, 167.24776517027138, 1106.919899529018, 378.2079428580325, 357.0387752075857, 296.8780350440478, 294.32919955781057, 279.8464083947323, 276.54231750038224, 238.5348701682859, 219.394707761173, 209.48523039636058, 191.01209771156462, 190.92367412713241, 185.7276351637516, 181.45975317328666, 171.29125123088588, 169.7864547377835, 155.46641046573316, 154.5490513371604, 147.1448470212695, 129.87889601790894, 127.98755401345183, 126.96010139977193, 123.36526030270156, 122.80382187151594, 108.64126780796683, 105.18998980286798, 96.53953737786938, 92.48716700233612, 91.70888114042381, 91.40988103830271, 283.5267540713494, 377.00135487250594, 380.4229480821597, 319.0709570774086, 424.4609110835939, 348.04952650157236, 675.6906571852976, 186.89080913593958, 313.9942880977115, 410.4649010911567, 382.48475502446047, 254.09937527738478, 196.40968406735314, 1779.5192468042508, 504.8190112793826, 315.1276712642046, 309.7797506248649, 275.07527282301544, 235.2954235882793, 219.06677435643115, 209.39588891998898, 200.0469377520793, 197.30836114488187, 170.66111074021836, 168.1863716691394, 156.83563312862984, 150.47627279789808, 147.29407113212244, 138.2081624326344, 138.00761228517894, 135.4524464375166, 132.16053678769654, 128.24211379282102, 123.32200772300378, 121.40174886365281, 120.40499520843107, 120.09397608356427, 119.64106009104377, 119.63050840689662, 115.74770444483643, 114.40933291653216, 112.78557751752696, 111.19340902230348, 745.1997332886482, 416.6036606735849, 362.96562247059313, 246.36072146753813, 310.58860706711977, 192.33448578254303, 143.00864488841748, 230.77648596203275, 147.59599241091618, 172.18852665059484, 130.96979797257265, 560.5359243125827, 445.45482777890913, 440.9902712860949, 390.92862701353084, 362.9396544727245, 347.7057824518594, 347.0176834921306, 304.57442642748725, 261.83163378854135, 250.829895312055, 248.10896311723147, 237.98667135043922, 237.71153271941643, 204.39193323121034, 189.1295840886204, 181.44547235677774, 156.85238606573938, 152.71320277207195, 151.3918559112985, 146.01590533220224, 145.96330468121707, 144.91761173173398, 144.0040303332958, 141.44407590042368, 139.38681417427773, 126.61781160303647, 125.34439632306878, 125.12731610749762, 116.62435041905496, 115.950889625294, 490.00768432258786, 254.5095222185367, 350.1747951754713, 162.14552374469406, 225.0224932329595, 238.47976301871086, 577.2572759816638, 355.0961656498294, 297.3021618713144, 273.52693047676206, 264.3651270076432, 250.01063643635342, 245.51746309218817, 238.20940299026898, 171.19229156621506, 165.18477144769474, 156.32468264515322, 153.03270421124552, 150.205153773587, 143.46786666491104, 133.1729231007699, 122.09934270772318, 119.73712766385026, 119.34733560782622, 113.9034290162724, 113.15530467595583, 110.6712091915523, 137.5265067953411, 109.83172687069566, 104.09950717618005, 101.0348567536621, 100.59031173200331, 100.46001542860698, 99.99229686986295, 98.60967230931868, 98.02116019280751, 147.17541322771942, 155.9751949939909, 232.64922985722885, 221.27588919229873, 136.26968143611683, 117.04492903014838, 109.66490532360599, 1768.6269859985143, 1497.2063146124551, 425.0201182252963, 349.8761224588676, 329.27543436410315, 317.74544655425154, 287.9105085891204, 272.9459426326454, 254.6735513008784, 182.09123659773533, 180.4573806613023, 167.89750585508153, 142.92533044609877, 139.22532510496626, 125.32738768084455, 123.10230441524688, 122.54550615327696, 119.7167026992382, 118.4518283365674, 117.17445190159711, 109.17233330992738, 109.07050176598746, 107.27093118368023, 105.06603365161847, 97.63028565288342, 93.94330752636512, 93.25578568012274, 88.39477359835678, 86.0161092382618, 84.47374783388952, 268.7400870470937, 634.0501237094711, 131.29950877032272, 1437.4930193375637, 449.79964711434985, 392.5968308473447, 316.57859548879804, 237.15472679566523, 227.34405300991142, 222.73784683190303, 212.6535334067192, 202.09826732323685, 201.45558435010454, 171.89379857502874, 146.16325180062157, 139.82751921955332, 130.2645816691086, 129.4311371217299, 126.8798579801553, 112.77975639887285, 110.78323342960111, 107.83935324226374, 94.69940023106422, 92.53368505907095, 81.00265689272815, 80.96551982272379, 79.65567071557793, 78.82706415807395, 75.09463285402315, 70.54938259957852, 70.40316626733218, 70.38483138525008, 67.25126625967064, 213.58079647365736, 177.34086205384133, 95.57337210650344, 431.7919157718199, 205.53030801922262, 181.20910984447974, 92.12299652843559, 97.09857590309225, 188.04066308483135, 158.5668774134619, 217.30647016874488, 134.1872018686801, 121.05015348397735, 106.18071988401606, 939.5985422944632, 492.9236542209631, 366.8307870058876, 299.66342156571517, 283.9696584848168, 243.54470997921396, 228.80363008904388, 218.92103712210218, 192.26104362921623, 168.96651097724333, 161.6267060694382, 152.64522801459484, 151.58594177999012, 144.48909983020226, 136.59299246371324, 135.76764259326245, 124.56498749751977, 119.3492122012217, 118.15136088648484, 115.965492242684, 115.54993428888628, 114.1278596368522, 113.64372702701289, 113.2769229765721, 109.32608065929185, 107.50584912984299, 100.87718880321012, 91.35964948257603, 88.26154571218359, 86.35725188227931, 375.7946065719755, 138.83876096660148, 288.44216413585104, 125.90513637179042, 146.3699948754437, 141.90244012237443, 141.0549871095359, 113.65823650441108, 496.5085422764759, 351.42287083908053, 326.9125640805728, 311.7772496701836, 299.9080522352574, 277.1453851298832, 272.5350200220122, 247.8603093847839, 202.6632291699758, 192.53217833388305, 175.81826392393072, 160.77693075111253, 144.9483227634301, 136.65129837460188, 134.62571791331857, 133.66358103824652, 128.3937334481477, 125.4081916034028, 111.20991285034053, 108.87761180462108, 102.1332713771168, 90.6953275772868, 90.69444946976405, 90.00617930037123, 89.45023439704319, 89.24951958562478, 86.95004077514791, 86.3093703621915, 79.42316414905085, 72.76061429522049, 155.66506340632452, 355.002764902676, 121.90667061393324, 167.27494224128645, 254.00495775039386, 153.88691940537325, 136.92180295688314], \"Total\": [11975.0, 10060.0, 12046.0, 5647.0, 6479.0, 2284.0, 5686.0, 4580.0, 3537.0, 3512.0, 1769.0, 2027.0, 5394.0, 1780.0, 6429.0, 5622.0, 6321.0, 1498.0, 1438.0, 3003.0, 2638.0, 4558.0, 1575.0, 2494.0, 1764.0, 5551.0, 1542.0, 1439.0, 1855.0, 2036.0, 5686.075020402708, 2114.2388413512886, 1415.0301353078098, 1339.832893734131, 1088.4370524196113, 1071.8979761031221, 887.6977333346332, 827.3355898159186, 694.007520071551, 668.8567116743664, 663.919623691073, 620.2937120368931, 617.4125205635637, 607.8234002652481, 571.1081661060426, 470.60703769215144, 413.6456687155803, 413.02131098445534, 402.8466030783611, 391.95261422494605, 363.87961972588215, 350.41539479560896, 341.26409076636804, 336.14392522060507, 318.56781192891594, 308.4922220281649, 304.16894121962775, 298.0581992765361, 293.71756724106, 275.91928846828466, 6479.283015255857, 5394.159374880788, 2904.2979607637817, 2862.791558648351, 1514.1070618078768, 910.4736381940277, 3379.9549711982095, 10060.337222135237, 955.8169125847733, 5622.477224713028, 11975.351177682156, 630.0014650383913, 3698.8186369028654, 2914.524413461457, 1843.4483098881747, 1943.1357177297136, 12046.435919188021, 2230.493684574604, 2716.4884229520885, 1433.2772420271124, 6321.001657638343, 3779.2182198226246, 4558.392528438874, 1480.0059181210402, 3072.5599833572896, 1435.1797562754489, 4685.837245316624, 1588.8586718555016, 3424.2152649495947, 5551.465528083696, 4330.062027385563, 3118.173936455765, 5896.968874671737, 3301.665515521462, 3430.1152142698866, 1966.4712983066324, 2944.5858480433008, 6429.059596926778, 3218.0986611825665, 2468.686282253854, 2425.6309828272783, 1517.4138892252836, 1299.5589214035685, 1057.0558679093076, 932.1749029237528, 790.1301340243847, 789.4243880828408, 752.2902573191614, 715.6537553369866, 715.0594297719069, 706.3878206542056, 661.4881272022187, 647.8097503155652, 638.5232191143303, 623.9328815091552, 558.0738077442429, 518.9655405066914, 493.20742701219905, 477.46181507693774, 473.1447046810667, 468.133056578715, 466.09386294025575, 422.66323257437904, 394.6102867538105, 370.81960966113127, 363.29413454012814, 341.47060423993895, 326.70136929941765, 323.17400449416266, 2108.728846672876, 1196.6218108911683, 1174.9521133198778, 505.5573533079973, 1603.5092415340039, 637.9803350502913, 934.0273211848444, 5647.985663836715, 959.3611569117701, 1277.141515540493, 2034.1886393903767, 1206.9726928917667, 6429.059596926778, 1109.9155608901729, 818.1990899910609, 2872.2794470728218, 2658.133224182304, 5440.902689523447, 1695.802854788928, 1033.72746606903, 2928.5871757244295, 5551.465528083696, 5896.968874671737, 2442.9944887685547, 1328.6369935702658, 4330.062027385563, 12046.435919188021, 3301.665515521462, 3003.961072123131, 3430.1152142698866, 2632.5948460671075, 6321.001657638343, 3512.8411439305837, 758.3709040346652, 689.297610491976, 635.7130196387993, 538.0813127323406, 529.002834644986, 522.7681788666515, 518.1205741600676, 481.23656872468774, 477.9567008464302, 468.40850225925846, 459.36870134306156, 452.2687889942272, 377.64892594212625, 369.63834423115105, 365.7096563143551, 361.5266388078114, 355.38728742159026, 347.6588582372619, 343.0524811829906, 336.56630776674615, 334.65479793036565, 334.6177878763807, 325.8789387743976, 319.11538623130184, 317.9248529576972, 313.9698133596906, 309.49833331952533, 309.0299862396196, 300.14106992904175, 1080.4315168753967, 446.29293393157815, 706.8259473009734, 1007.29569836865, 1412.1189010360995, 4580.870256028848, 644.3931885126156, 771.2748516177186, 2269.437105521377, 1055.255173101546, 1118.0872173336181, 691.9674842881118, 950.1930074484203, 450.74663425245, 941.1808996957494, 2517.7868977424296, 772.5747310655682, 1603.9227256810998, 1449.7622985027078, 1190.4321987983146, 4347.1585892282155, 1506.7640676431597, 1140.2065606464485, 810.4473038461143, 1498.9524964794393, 953.507475456618, 5440.902689523447, 1226.902060335858, 3428.7729782738957, 1690.8632528743615, 3218.0986611825665, 2002.8383711032286, 2284.0309306714125, 1520.834826927686, 2754.9941981033626, 744.271331591282, 569.4245689150539, 535.9507086427318, 467.0541051426814, 465.34243023274087, 359.7619894456714, 325.6567093777251, 322.41611560827437, 292.7969289395682, 276.1403176078137, 274.04438864484496, 265.7858289283863, 260.90217603726967, 249.87529269764548, 248.73308876170367, 238.03064250870085, 235.05808809938992, 229.4572457175706, 213.60882995377818, 190.20582450004488, 188.63046550268695, 178.71097749971113, 174.05404566989571, 162.10256601172222, 161.60919332016223, 156.93872777637512, 155.48898264340698, 152.82255251540263, 152.1777271890053, 151.52351656720336, 699.469460016286, 275.0599170637053, 1145.8329898664774, 432.388434706342, 793.0077358554643, 223.91910952016488, 1171.9336461652597, 552.0857667466636, 370.2597704259222, 507.8186460557282, 311.38410212546654, 1661.3932670846777, 894.5201853920028, 715.0147938951942, 1274.821656890856, 5647.985663836715, 3537.3667311024387, 6429.059596926778, 687.4998369022848, 1869.15195987003, 911.2359003819182, 1356.862396381873, 1764.3026903164673, 1146.6814254398862, 1033.5975925919095, 930.8486564551265, 875.9404820766528, 824.6394338085123, 797.5134728871801, 776.5373276763378, 594.9524440054499, 571.3373588722428, 503.47863096656215, 485.49866844541566, 347.7544985364988, 334.08538618784604, 283.60485481802505, 282.58504837707625, 282.4125117830848, 263.65040180344783, 231.3052717860093, 198.08425829475044, 195.02219891632313, 181.05972157596943, 172.7565552013273, 158.16549592499334, 152.11744969521695, 134.98446787657335, 133.75354166988254, 121.54929316867123, 116.75662541292229, 115.85796169227346, 608.0865592749869, 1193.7108963535172, 1587.4848587161027, 605.0183201999164, 349.20454978030097, 516.5219563355633, 1855.7423221369288, 1590.0347257653486, 386.09256650103424, 2036.127241454586, 1323.3292156777136, 2494.8913687907884, 1794.3296287315063, 720.1893328089552, 1190.9081384220437, 479.67225590031364, 1442.0765528244028, 1264.083761502997, 2078.8923308272406, 1288.3685039662137, 743.239488523586, 11975.351177682156, 1542.273496899916, 1403.9100523233656, 892.7505441429486, 760.4961705848274, 681.382800959131, 678.2252276378746, 658.4924095405311, 597.3178766483425, 597.0206506427362, 578.4793419954652, 533.1257731861818, 495.6960190542504, 306.37840642736194, 288.7097871107569, 266.7977636067807, 243.44005849243203, 239.79349324280514, 214.46775006048995, 211.6787066098058, 169.40032363361075, 168.65476512126352, 166.98728300746205, 162.64521046922772, 161.3303694423757, 155.83315374168922, 152.8639572091433, 152.56732150061617, 148.07910105222464, 145.46700522292457, 136.61190148074454, 809.8952836228583, 548.6953138083006, 923.7282557849705, 1108.4152139824503, 818.1423946607486, 476.4866696303112, 710.6987880022563, 2287.1039395382218, 591.5864891755585, 3003.767827929937, 671.7953088035761, 1520.834826927686, 683.3570489150322, 1603.9227256810998, 4580.870256028848, 2036.127241454586, 1264.083761502997, 1855.7423221369288, 2027.4812984457853, 629.6731099718883, 575.6614733851457, 528.01871757373, 522.7940687726584, 472.9995111419121, 488.7482599266611, 432.1591976813888, 406.42319734611465, 329.5948362156141, 283.6149926467342, 246.88117163601692, 246.01165269814896, 238.71795948900456, 232.31020856378709, 224.04769419727185, 218.85884274902568, 203.27367798260775, 193.51013827887672, 191.4359379393982, 179.8035902273119, 175.97401551640817, 166.13818659866524, 162.70682759175972, 161.9949941031787, 160.0599730391526, 154.23195930577234, 150.8359983512251, 145.20293457227532, 144.43764808032662, 1223.5870757104162, 287.64369152339304, 262.7835145228749, 634.2700045047357, 968.9763283456884, 1661.3932670846777, 1094.9951411840095, 553.637373168396, 1288.3685039662137, 1590.0347257653486, 1378.017911022748, 1164.1694173532364, 835.3187784853855, 756.2350399794713, 613.4341242512636, 395.98149085942856, 354.6131168697962, 348.5379282390059, 323.4230182390494, 322.19129985876833, 316.8275665710999, 262.29791757529, 245.80565102929546, 220.5460489646959, 206.58014736127166, 198.52751176830955, 193.12156454017332, 190.08767590105828, 184.5244167996726, 174.41631018233716, 170.46592457231682, 166.4878915349676, 160.66695999789292, 144.43677175275116, 140.03935716295337, 137.80182135686084, 136.72494719954236, 133.28453582095455, 132.72396293618723, 130.3563613890786, 130.18725794986238, 247.38511704217242, 454.2961600492733, 771.4924763502562, 778.0942221155636, 251.96995733787708, 559.8892656816679, 292.4958868192936, 565.7517690225504, 253.9759398644991, 590.7380945494555, 670.7996707090781, 522.8596388702978, 319.54216361431054, 418.9066394217, 1575.8062597047788, 1439.3277754181922, 1093.951463393915, 477.584020039443, 465.86593108013125, 447.2229110059139, 441.55555534422206, 383.00069748212684, 378.43401438563103, 326.4076886871791, 283.760889345558, 225.47537069948214, 206.13448541025977, 191.4061644687011, 177.82570962278504, 172.29574207243746, 166.9855680619765, 162.19650066980762, 154.43404947205346, 153.91532898501745, 152.12654013884236, 150.28428566474054, 148.98549894273114, 148.59417897841132, 140.56149375092292, 137.9104034876076, 136.634506226871, 134.29036176416705, 133.49153906789465, 125.74082232551697, 1033.483247625683, 407.6134926622587, 366.8067724365792, 455.5536315673295, 902.9101683515717, 3537.3667311024387, 373.60929422577817, 238.16998801478923, 1654.7319176624524, 333.1929706127382, 2287.1039395382218, 1211.9349133266978, 2754.9941981033626, 1323.2777392645319, 4558.392528438874, 2658.133224182304, 335.42071233869314, 750.8464249467643, 503.1296112141324, 497.2181563998462, 439.52275619416037, 422.22910008814756, 412.80331277014403, 375.84453828616404, 338.4335217066542, 337.0135426616756, 279.83047961810513, 265.8703222948289, 256.81275035783096, 243.7495985124472, 216.14356986096695, 201.15415127101414, 196.84375838661686, 194.6433909222972, 192.87505657456035, 190.71542284995067, 188.08528243888574, 179.98810168048948, 177.18904361023885, 162.2931912586179, 148.93968512334413, 148.76790890129644, 138.09528992959537, 135.0155748640558, 128.42652971200596, 127.05423958829977, 120.42007324905735, 727.4257754390491, 567.2235023903324, 383.620750253624, 388.56280502009366, 214.24179712058663, 1443.660686461919, 427.04582070873886, 384.3650244446286, 1869.15195987003, 599.804214198222, 777.1452522800142, 2638.258481373053, 715.0147938951942, 2284.4140466806907, 797.8031947844628, 415.5294654611067, 407.21469802087125, 398.9433636240126, 310.45012110373807, 304.4337265341744, 276.42470277254773, 266.7666001246175, 259.6359031851315, 258.99291056783846, 253.2250784124318, 245.99015745025753, 215.97627037901208, 196.0865500662037, 189.54227572081342, 182.63005924664432, 181.8963160751384, 181.14645365156073, 179.16812426183637, 177.18277521254137, 171.89347124466232, 159.54213734510358, 156.14041221572464, 152.91148630456703, 143.36877180498826, 141.1880658327656, 139.67075377057495, 130.9525177687046, 130.04334481447705, 596.7914877817224, 189.52432590110882, 654.5404774147656, 1204.6246982972596, 376.559050832071, 569.3282204228493, 601.9671470362159, 537.5244951290956, 1506.7640676431597, 821.8025824642708, 364.795531881166, 955.7782624975154, 553.1065999131332, 245.9393521282932, 1108.4152139824503, 706.9728488295143, 523.2012652988972, 466.76153186988563, 464.57955660533503, 291.4905850035977, 264.45855406532337, 201.39847064544324, 195.15542222541484, 182.14307508077664, 182.01911413241814, 179.0660423105814, 175.73471280776644, 171.84177747027238, 167.5724857296139, 166.4647080615592, 160.19312640786472, 158.77440491293797, 157.5082195121674, 150.32818747516484, 149.8001058018715, 147.23676926752086, 142.42270371450596, 139.9296587411912, 139.21667716883354, 139.17575761411086, 138.9121222079966, 134.2720940107777, 131.23360421492205, 130.29111244774532, 129.89066846712706, 126.24527760826953, 213.99222102396965, 532.6817476071012, 210.94366697744655, 699.6521299771236, 336.9289888925692, 171.13492897735543, 438.5376638546141, 1107.8973101221884, 379.1853534512031, 358.0161858007563, 297.85544563721845, 295.30661015514227, 280.82381899214136, 277.5197281038525, 239.5122807757553, 220.37211842851346, 210.4626409970815, 191.989508530577, 191.90108476244032, 186.70504577552865, 182.4371637894593, 172.26866183867193, 170.76386534494648, 156.4438210630648, 155.52646194070803, 148.1222576427397, 130.85630669456808, 128.96496461011535, 127.93751200540785, 124.34267092566333, 123.78123246468655, 109.61867841980695, 106.16740040856904, 97.51694797995141, 93.46457761719826, 92.68629174191648, 92.38729163563436, 287.3013763235441, 424.297963950654, 451.2269527516979, 380.3459863783156, 607.6292927993204, 510.1088378826051, 2638.258481373053, 266.4963480782283, 706.9728488295143, 1328.6369935702658, 1869.15195987003, 1602.4158111712338, 898.9958019235557, 1780.4999050988683, 505.79966958641955, 316.10832955882245, 310.7604090240369, 276.0559311251836, 236.27608189182504, 220.0474326560185, 210.37654723343968, 201.0275960527365, 198.2890194394997, 171.64176908097656, 169.16702996825575, 157.8162914331663, 151.45693110447903, 148.27472942674027, 139.18882072725222, 138.98827058466563, 136.43310474091683, 133.14119508231437, 129.22277212986714, 124.30266602186, 122.38240715827062, 121.38565350721804, 121.0746343823431, 120.62171838566158, 120.61116670567546, 116.72836274973204, 115.38999123888874, 113.7662358393373, 112.17406732305992, 828.9306346567629, 469.30060903984855, 430.19253147892806, 284.64429284003, 559.5995716345371, 275.5901758788801, 194.11304969619889, 1378.017911022748, 271.56944876865026, 634.2518517252824, 207.04664801310213, 561.5136078323998, 446.4325112937567, 441.96795486140405, 391.90631053759626, 363.91733798757207, 348.683465966707, 347.99536700697814, 305.5521099458277, 262.8093173116183, 251.80757901711274, 249.08664663581274, 238.9643548690205, 238.6892162577707, 205.3696167624681, 190.1072676188145, 182.42315591427004, 157.83006959782853, 153.69088632069622, 152.36953943525336, 146.9935888561571, 146.94098820403158, 145.89529525081997, 144.98171385230438, 142.42175942448907, 140.36449769399417, 127.59556357325036, 126.32207984395572, 126.10499962234518, 117.60203393390252, 116.92857314014155, 597.9583194287484, 342.3041669440958, 699.6521299771236, 209.5413767800864, 417.3813941216914, 560.7771657446124, 578.2405036542876, 356.07939333424196, 298.28538954393827, 274.5101581493859, 265.34835468630644, 250.99386410897728, 246.50069076481202, 239.19263067044315, 172.17551923883892, 166.1679991203186, 157.3079103219381, 154.01593188386937, 151.18838144970374, 144.45109436076282, 134.23145715936616, 123.08257039711518, 120.72035543491154, 120.33056333812887, 114.88665668889624, 114.1385323562336, 111.6544369078284, 138.74913907014613, 110.81495454828902, 105.08273491239085, 102.01808442628594, 101.57353940462716, 101.4432431832589, 100.97552457812154, 99.59290015882169, 99.0043878699299, 178.08756468212283, 210.43804195210632, 449.7559669665265, 1066.350650728951, 559.3959570902084, 559.8892656816679, 397.19944005021307, 1769.5963899402186, 1498.1757185541594, 425.98952216700064, 350.84552640057194, 330.2448383058075, 318.71485063570736, 288.87991253082475, 273.9153465793193, 255.64295524258273, 183.06064057963715, 181.42678460300664, 168.86690979678588, 143.89473458572115, 140.1947290466706, 126.2967916613549, 124.07170844324301, 123.51491009498132, 120.68610668621147, 119.42123261589168, 118.14385590889063, 110.14173760906309, 110.0399057238609, 108.2403352326837, 106.03543771669017, 98.5996897070691, 94.91271153110692, 94.22518969466698, 89.36418283545815, 86.98551317996616, 85.4431518238286, 312.7065466490429, 1188.3802594015501, 182.12008034380122, 1438.4736811860469, 450.7803089796014, 393.5774926958281, 317.55925734215026, 238.1353886491181, 228.32471486612025, 223.7185086938426, 213.63419525520254, 203.0789291767689, 202.4362461985879, 172.87446042768124, 147.14391364910492, 140.8081810720941, 131.2452435405739, 130.41179897021325, 127.8605198419139, 113.76041827659883, 111.76389527808446, 108.82001509460983, 95.68006209291829, 93.51434692164098, 81.98331880205937, 81.94618173205501, 80.63633257803623, 79.80799889551469, 76.07529474723937, 71.53004448945738, 71.3974819754284, 71.39212235351066, 68.23192811681356, 228.52895141518485, 201.9212674371648, 100.6804366594456, 627.4900970276088, 268.00873266175176, 255.28038893763303, 99.26680294095728, 107.81748504648776, 381.4090787461023, 308.15635929288993, 1035.9801645943865, 364.795531881166, 297.36219541134153, 796.7906565676318, 940.5792393501176, 493.9043491550573, 367.8114819399818, 300.64411649980934, 284.950353418911, 244.5254049133081, 229.78432503578316, 219.90173206657335, 193.2417385675488, 169.94720592542416, 162.60740103786347, 153.625923361141, 152.56663671408427, 145.46979476845743, 137.5736873978074, 136.74833753687932, 125.54568243161391, 120.32990713531585, 119.13205588065937, 116.94618718788628, 116.53062923544825, 115.10855457544488, 114.62442196526806, 114.25761792419466, 110.30677580205051, 108.48654407076332, 101.85788375240341, 92.34034446932533, 89.24224065679117, 87.33809854248832, 524.8977183470454, 160.57122002149302, 614.8993419635466, 173.50517690663568, 253.81837214137133, 255.08371992773667, 683.3690597544919, 263.0330039034139, 497.48760620194395, 352.40193476941744, 327.8916280152587, 312.7563136987538, 300.8871161694287, 278.12444906139064, 273.51408395994804, 248.83937332269812, 203.64229320429112, 193.5112422593511, 176.79732784939876, 161.7559946807416, 145.92738668889814, 137.6303623191261, 135.6047818387866, 134.64264498751695, 129.3727973822508, 126.38725553491022, 112.18897677580857, 109.85667580065201, 103.11233530258484, 91.67439154139663, 91.67351339523209, 90.98524324676843, 90.42929835233267, 90.22858351109282, 87.92910471082448, 87.28843433490073, 80.40222808241363, 73.73967826783743, 159.4074258999671, 372.45329361933165, 145.0880999764839, 311.1140243986488, 862.1049917345166, 421.64020059594077, 898.9958019235557], \"Category\": [\"Default\", \"Default\", \"Default\", \"Default\", \"Default\", \"Default\", \"Default\", \"Default\", \"Default\", \"Default\", \"Default\", \"Default\", \"Default\", \"Default\", \"Default\", \"Default\", \"Default\", \"Default\", \"Default\", \"Default\", \"Default\", \"Default\", \"Default\", \"Default\", \"Default\", \"Default\", \"Default\", \"Default\", \"Default\", \"Default\", \"Topic1\", \"Topic1\", \"Topic1\", \"Topic1\", \"Topic1\", \"Topic1\", \"Topic1\", \"Topic1\", \"Topic1\", \"Topic1\", \"Topic1\", \"Topic1\", \"Topic1\", \"Topic1\", \"Topic1\", \"Topic1\", \"Topic1\", \"Topic1\", \"Topic1\", \"Topic1\", \"Topic1\", \"Topic1\", \"Topic1\", \"Topic1\", \"Topic1\", \"Topic1\", \"Topic1\", \"Topic1\", \"Topic1\", \"Topic1\", \"Topic1\", \"Topic1\", \"Topic1\", \"Topic1\", \"Topic1\", \"Topic1\", \"Topic1\", \"Topic1\", \"Topic1\", \"Topic1\", \"Topic1\", \"Topic1\", \"Topic1\", \"Topic1\", \"Topic1\", \"Topic1\", \"Topic1\", \"Topic1\", \"Topic1\", \"Topic1\", \"Topic1\", \"Topic1\", \"Topic1\", \"Topic1\", \"Topic1\", \"Topic1\", \"Topic1\", \"Topic1\", \"Topic1\", \"Topic1\", \"Topic1\", \"Topic1\", \"Topic1\", \"Topic1\", \"Topic1\", \"Topic1\", \"Topic1\", \"Topic1\", \"Topic1\", \"Topic2\", \"Topic2\", \"Topic2\", \"Topic2\", \"Topic2\", \"Topic2\", \"Topic2\", \"Topic2\", \"Topic2\", \"Topic2\", \"Topic2\", \"Topic2\", \"Topic2\", \"Topic2\", \"Topic2\", \"Topic2\", \"Topic2\", \"Topic2\", \"Topic2\", \"Topic2\", \"Topic2\", \"Topic2\", \"Topic2\", \"Topic2\", \"Topic2\", \"Topic2\", \"Topic2\", \"Topic2\", \"Topic2\", \"Topic2\", \"Topic2\", \"Topic2\", \"Topic2\", \"Topic2\", \"Topic2\", \"Topic2\", \"Topic2\", \"Topic2\", \"Topic2\", \"Topic2\", \"Topic2\", \"Topic2\", \"Topic2\", \"Topic2\", \"Topic2\", \"Topic2\", \"Topic2\", \"Topic2\", \"Topic2\", \"Topic2\", \"Topic2\", \"Topic2\", \"Topic2\", \"Topic2\", \"Topic2\", \"Topic2\", \"Topic2\", \"Topic2\", \"Topic2\", \"Topic2\", \"Topic2\", \"Topic2\", \"Topic3\", \"Topic3\", \"Topic3\", \"Topic3\", \"Topic3\", \"Topic3\", \"Topic3\", \"Topic3\", \"Topic3\", \"Topic3\", \"Topic3\", \"Topic3\", \"Topic3\", \"Topic3\", \"Topic3\", \"Topic3\", \"Topic3\", \"Topic3\", \"Topic3\", \"Topic3\", \"Topic3\", \"Topic3\", \"Topic3\", \"Topic3\", \"Topic3\", \"Topic3\", \"Topic3\", \"Topic3\", \"Topic3\", \"Topic3\", \"Topic3\", \"Topic3\", \"Topic3\", \"Topic3\", \"Topic3\", \"Topic3\", \"Topic3\", \"Topic3\", \"Topic3\", \"Topic3\", \"Topic3\", \"Topic3\", \"Topic3\", \"Topic3\", \"Topic3\", \"Topic3\", \"Topic3\", \"Topic3\", \"Topic3\", \"Topic3\", \"Topic3\", \"Topic3\", \"Topic3\", \"Topic3\", \"Topic3\", \"Topic3\", \"Topic3\", \"Topic3\", \"Topic3\", \"Topic3\", \"Topic3\", \"Topic3\", \"Topic3\", \"Topic3\", \"Topic3\", \"Topic4\", \"Topic4\", \"Topic4\", \"Topic4\", \"Topic4\", \"Topic4\", \"Topic4\", \"Topic4\", \"Topic4\", \"Topic4\", \"Topic4\", \"Topic4\", \"Topic4\", \"Topic4\", \"Topic4\", \"Topic4\", \"Topic4\", \"Topic4\", \"Topic4\", \"Topic4\", \"Topic4\", \"Topic4\", \"Topic4\", \"Topic4\", \"Topic4\", \"Topic4\", \"Topic4\", \"Topic4\", \"Topic4\", \"Topic4\", \"Topic4\", \"Topic4\", \"Topic4\", \"Topic4\", \"Topic4\", \"Topic4\", \"Topic4\", \"Topic4\", \"Topic4\", \"Topic4\", \"Topic4\", \"Topic4\", \"Topic4\", \"Topic4\", \"Topic4\", \"Topic4\", \"Topic4\", \"Topic4\", \"Topic4\", \"Topic4\", \"Topic4\", \"Topic4\", \"Topic5\", \"Topic5\", \"Topic5\", \"Topic5\", \"Topic5\", \"Topic5\", \"Topic5\", \"Topic5\", \"Topic5\", \"Topic5\", \"Topic5\", \"Topic5\", \"Topic5\", \"Topic5\", \"Topic5\", \"Topic5\", \"Topic5\", \"Topic5\", \"Topic5\", \"Topic5\", \"Topic5\", \"Topic5\", \"Topic5\", \"Topic5\", \"Topic5\", \"Topic5\", \"Topic5\", \"Topic5\", \"Topic5\", \"Topic5\", \"Topic5\", \"Topic5\", \"Topic5\", \"Topic5\", \"Topic5\", \"Topic5\", \"Topic5\", \"Topic5\", \"Topic5\", \"Topic5\", \"Topic5\", \"Topic5\", \"Topic5\", \"Topic5\", \"Topic5\", \"Topic5\", \"Topic5\", \"Topic5\", \"Topic5\", \"Topic5\", \"Topic5\", \"Topic5\", \"Topic6\", \"Topic6\", \"Topic6\", \"Topic6\", \"Topic6\", \"Topic6\", \"Topic6\", \"Topic6\", \"Topic6\", \"Topic6\", \"Topic6\", \"Topic6\", \"Topic6\", \"Topic6\", \"Topic6\", \"Topic6\", \"Topic6\", \"Topic6\", \"Topic6\", \"Topic6\", \"Topic6\", \"Topic6\", \"Topic6\", \"Topic6\", \"Topic6\", \"Topic6\", \"Topic6\", \"Topic6\", \"Topic6\", \"Topic6\", \"Topic6\", \"Topic6\", \"Topic6\", \"Topic6\", \"Topic6\", \"Topic6\", \"Topic6\", \"Topic6\", \"Topic6\", \"Topic6\", \"Topic6\", \"Topic6\", \"Topic6\", \"Topic6\", \"Topic6\", \"Topic6\", \"Topic6\", \"Topic6\", \"Topic7\", \"Topic7\", \"Topic7\", \"Topic7\", \"Topic7\", \"Topic7\", \"Topic7\", \"Topic7\", \"Topic7\", \"Topic7\", \"Topic7\", \"Topic7\", \"Topic7\", \"Topic7\", \"Topic7\", \"Topic7\", \"Topic7\", \"Topic7\", \"Topic7\", \"Topic7\", \"Topic7\", \"Topic7\", \"Topic7\", \"Topic7\", \"Topic7\", \"Topic7\", \"Topic7\", \"Topic7\", \"Topic7\", \"Topic7\", \"Topic7\", \"Topic7\", \"Topic7\", \"Topic7\", \"Topic7\", \"Topic7\", \"Topic7\", \"Topic7\", \"Topic7\", \"Topic7\", \"Topic7\", \"Topic8\", \"Topic8\", \"Topic8\", \"Topic8\", \"Topic8\", \"Topic8\", \"Topic8\", \"Topic8\", \"Topic8\", \"Topic8\", \"Topic8\", \"Topic8\", \"Topic8\", \"Topic8\", \"Topic8\", \"Topic8\", \"Topic8\", \"Topic8\", \"Topic8\", \"Topic8\", \"Topic8\", \"Topic8\", \"Topic8\", \"Topic8\", \"Topic8\", \"Topic8\", \"Topic8\", \"Topic8\", \"Topic8\", \"Topic8\", \"Topic8\", \"Topic8\", \"Topic8\", \"Topic8\", \"Topic8\", \"Topic8\", \"Topic8\", \"Topic8\", \"Topic8\", \"Topic8\", \"Topic8\", \"Topic8\", \"Topic8\", \"Topic8\", \"Topic9\", \"Topic9\", \"Topic9\", \"Topic9\", \"Topic9\", \"Topic9\", \"Topic9\", \"Topic9\", \"Topic9\", \"Topic9\", \"Topic9\", \"Topic9\", \"Topic9\", \"Topic9\", \"Topic9\", \"Topic9\", \"Topic9\", \"Topic9\", \"Topic9\", \"Topic9\", \"Topic9\", \"Topic9\", \"Topic9\", \"Topic9\", \"Topic9\", \"Topic9\", \"Topic9\", \"Topic9\", \"Topic9\", \"Topic9\", \"Topic9\", \"Topic9\", \"Topic9\", \"Topic9\", \"Topic9\", \"Topic9\", \"Topic9\", \"Topic9\", \"Topic9\", \"Topic9\", \"Topic9\", \"Topic9\", \"Topic9\", \"Topic9\", \"Topic9\", \"Topic9\", \"Topic9\", \"Topic10\", \"Topic10\", \"Topic10\", \"Topic10\", \"Topic10\", \"Topic10\", \"Topic10\", \"Topic10\", \"Topic10\", \"Topic10\", \"Topic10\", \"Topic10\", \"Topic10\", \"Topic10\", \"Topic10\", \"Topic10\", \"Topic10\", \"Topic10\", \"Topic10\", \"Topic10\", \"Topic10\", \"Topic10\", \"Topic10\", \"Topic10\", \"Topic10\", \"Topic10\", \"Topic10\", \"Topic10\", \"Topic10\", \"Topic10\", \"Topic10\", \"Topic10\", \"Topic10\", \"Topic10\", \"Topic10\", \"Topic10\", \"Topic10\", \"Topic10\", \"Topic10\", \"Topic10\", \"Topic10\", \"Topic10\", \"Topic10\", \"Topic11\", \"Topic11\", \"Topic11\", \"Topic11\", \"Topic11\", \"Topic11\", \"Topic11\", \"Topic11\", \"Topic11\", \"Topic11\", \"Topic11\", \"Topic11\", \"Topic11\", \"Topic11\", \"Topic11\", \"Topic11\", \"Topic11\", \"Topic11\", \"Topic11\", \"Topic11\", \"Topic11\", \"Topic11\", \"Topic11\", \"Topic11\", \"Topic11\", \"Topic11\", \"Topic11\", \"Topic11\", \"Topic11\", \"Topic11\", \"Topic11\", \"Topic11\", \"Topic11\", \"Topic11\", \"Topic11\", \"Topic11\", \"Topic11\", \"Topic11\", \"Topic11\", \"Topic11\", \"Topic11\", \"Topic11\", \"Topic11\", \"Topic11\", \"Topic11\", \"Topic11\", \"Topic12\", \"Topic12\", \"Topic12\", \"Topic12\", \"Topic12\", \"Topic12\", \"Topic12\", \"Topic12\", \"Topic12\", \"Topic12\", \"Topic12\", \"Topic12\", \"Topic12\", \"Topic12\", \"Topic12\", \"Topic12\", \"Topic12\", \"Topic12\", \"Topic12\", \"Topic12\", \"Topic12\", \"Topic12\", \"Topic12\", \"Topic12\", \"Topic12\", \"Topic12\", \"Topic12\", \"Topic12\", \"Topic12\", \"Topic12\", \"Topic12\", \"Topic12\", \"Topic12\", \"Topic12\", \"Topic12\", \"Topic12\", \"Topic12\", \"Topic13\", \"Topic13\", \"Topic13\", \"Topic13\", \"Topic13\", \"Topic13\", \"Topic13\", \"Topic13\", \"Topic13\", \"Topic13\", \"Topic13\", \"Topic13\", \"Topic13\", \"Topic13\", \"Topic13\", \"Topic13\", \"Topic13\", \"Topic13\", \"Topic13\", \"Topic13\", \"Topic13\", \"Topic13\", \"Topic13\", \"Topic13\", \"Topic13\", \"Topic13\", \"Topic13\", \"Topic13\", \"Topic13\", \"Topic13\", \"Topic13\", \"Topic13\", \"Topic13\", \"Topic13\", \"Topic13\", \"Topic13\", \"Topic13\", \"Topic13\", \"Topic13\", \"Topic13\", \"Topic13\", \"Topic13\", \"Topic13\", \"Topic14\", \"Topic14\", \"Topic14\", \"Topic14\", \"Topic14\", \"Topic14\", \"Topic14\", \"Topic14\", \"Topic14\", \"Topic14\", \"Topic14\", \"Topic14\", \"Topic14\", \"Topic14\", \"Topic14\", \"Topic14\", \"Topic14\", \"Topic14\", \"Topic14\", \"Topic14\", \"Topic14\", \"Topic14\", \"Topic14\", \"Topic14\", \"Topic14\", \"Topic14\", \"Topic14\", \"Topic14\", \"Topic14\", \"Topic14\", \"Topic14\", \"Topic14\", \"Topic14\", \"Topic14\", \"Topic14\", \"Topic14\", \"Topic14\", \"Topic14\", \"Topic14\", \"Topic14\", \"Topic14\", \"Topic15\", \"Topic15\", \"Topic15\", \"Topic15\", \"Topic15\", \"Topic15\", \"Topic15\", \"Topic15\", \"Topic15\", \"Topic15\", \"Topic15\", \"Topic15\", \"Topic15\", \"Topic15\", \"Topic15\", \"Topic15\", \"Topic15\", \"Topic15\", \"Topic15\", \"Topic15\", \"Topic15\", \"Topic15\", \"Topic15\", \"Topic15\", \"Topic15\", \"Topic15\", \"Topic15\", \"Topic15\", \"Topic15\", \"Topic15\", \"Topic15\", \"Topic15\", \"Topic15\", \"Topic15\", \"Topic15\", \"Topic15\", \"Topic16\", \"Topic16\", \"Topic16\", \"Topic16\", \"Topic16\", \"Topic16\", \"Topic16\", \"Topic16\", \"Topic16\", \"Topic16\", \"Topic16\", \"Topic16\", \"Topic16\", \"Topic16\", \"Topic16\", \"Topic16\", \"Topic16\", \"Topic16\", \"Topic16\", \"Topic16\", \"Topic16\", \"Topic16\", \"Topic16\", \"Topic16\", \"Topic16\", \"Topic16\", \"Topic16\", \"Topic16\", \"Topic16\", \"Topic16\", \"Topic16\", \"Topic16\", \"Topic16\", \"Topic16\", \"Topic16\", \"Topic16\", \"Topic16\", \"Topic17\", \"Topic17\", \"Topic17\", \"Topic17\", \"Topic17\", \"Topic17\", \"Topic17\", \"Topic17\", \"Topic17\", \"Topic17\", \"Topic17\", \"Topic17\", \"Topic17\", \"Topic17\", \"Topic17\", \"Topic17\", \"Topic17\", \"Topic17\", \"Topic17\", \"Topic17\", \"Topic17\", \"Topic17\", \"Topic17\", \"Topic17\", \"Topic17\", \"Topic17\", \"Topic17\", \"Topic17\", \"Topic17\", \"Topic17\", \"Topic17\", \"Topic17\", \"Topic17\", \"Topic18\", \"Topic18\", \"Topic18\", \"Topic18\", \"Topic18\", \"Topic18\", \"Topic18\", \"Topic18\", \"Topic18\", \"Topic18\", \"Topic18\", \"Topic18\", \"Topic18\", \"Topic18\", \"Topic18\", \"Topic18\", \"Topic18\", \"Topic18\", \"Topic18\", \"Topic18\", \"Topic18\", \"Topic18\", \"Topic18\", \"Topic18\", \"Topic18\", \"Topic18\", \"Topic18\", \"Topic18\", \"Topic18\", \"Topic18\", \"Topic18\", \"Topic18\", \"Topic18\", \"Topic18\", \"Topic18\", \"Topic18\", \"Topic18\", \"Topic18\", \"Topic18\", \"Topic18\", \"Topic18\", \"Topic18\", \"Topic18\", \"Topic18\", \"Topic19\", \"Topic19\", \"Topic19\", \"Topic19\", \"Topic19\", \"Topic19\", \"Topic19\", \"Topic19\", \"Topic19\", \"Topic19\", \"Topic19\", \"Topic19\", \"Topic19\", \"Topic19\", \"Topic19\", \"Topic19\", \"Topic19\", \"Topic19\", \"Topic19\", \"Topic19\", \"Topic19\", \"Topic19\", \"Topic19\", \"Topic19\", \"Topic19\", \"Topic19\", \"Topic19\", \"Topic19\", \"Topic19\", \"Topic19\", \"Topic19\", \"Topic19\", \"Topic19\", \"Topic19\", \"Topic19\", \"Topic19\", \"Topic19\", \"Topic19\", \"Topic20\", \"Topic20\", \"Topic20\", \"Topic20\", \"Topic20\", \"Topic20\", \"Topic20\", \"Topic20\", \"Topic20\", \"Topic20\", \"Topic20\", \"Topic20\", \"Topic20\", \"Topic20\", \"Topic20\", \"Topic20\", \"Topic20\", \"Topic20\", \"Topic20\", \"Topic20\", \"Topic20\", \"Topic20\", \"Topic20\", \"Topic20\", \"Topic20\", \"Topic20\", \"Topic20\", \"Topic20\", \"Topic20\", \"Topic20\", \"Topic20\", \"Topic20\", \"Topic20\", \"Topic20\", \"Topic20\", \"Topic20\", \"Topic20\"], \"logprob\": [30.0, 29.0, 28.0, 27.0, 26.0, 25.0, 24.0, 23.0, 22.0, 21.0, 20.0, 19.0, 18.0, 17.0, 16.0, 15.0, 14.0, 13.0, 12.0, 11.0, 10.0, 9.0, 8.0, 7.0, 6.0, 5.0, 4.0, 3.0, 2.0, 1.0, -3.8715, -4.8612, -5.2629, -5.3176, -5.5255, -5.5409, -5.7296, -5.8001, -5.9761, -6.013, -6.0205, -6.0885, -6.0932, -6.1089, -6.1713, -6.3652, -6.4945, -6.496, -6.521, -6.5485, -6.623, -6.6608, -6.6874, -6.7025, -6.7564, -6.7886, -6.8028, -6.8231, -6.8379, -6.9006, -3.7464, -3.9335, -4.5497, -4.5729, -5.2042, -5.7139, -4.4175, -3.3395, -5.67, -3.9365, -3.2081, -6.0868, -4.3718, -4.6032, -5.0479, -5.0028, -3.254, -4.8744, -4.6974, -5.3073, -3.9361, -4.4162, -4.2513, -5.2826, -4.6859, -5.3275, -4.3339, -5.2439, -4.6236, -4.2601, -4.4618, -4.7461, -4.3006, -4.8011, -4.8106, -5.1007, -4.9689, -4.8554, -4.9769, -4.2764, -4.294, -4.7634, -4.9185, -5.1252, -5.251, -5.4165, -5.4174, -5.4657, -5.5157, -5.5165, -5.5287, -5.5945, -5.6154, -5.6299, -5.653, -5.7648, -5.8375, -5.8885, -5.9211, -5.9302, -5.9408, -5.9452, -6.0432, -6.1121, -6.1744, -6.195, -6.2571, -6.3014, -6.3123, -4.4431, -5.0267, -5.047, -5.8742, -4.7668, -5.6628, -5.3108, -3.6785, -5.3001, -5.0705, -4.7386, -5.1849, -3.8808, -5.2544, -5.5028, -4.679, -4.806, -4.3978, -5.0769, -5.3883, -4.9216, -4.6522, -4.6433, -5.0286, -5.2972, -5.0269, -4.7881, -5.1245, -5.1984, -5.1895, -5.2242, -5.1894, -3.6885, -5.2225, -5.3181, -5.3992, -5.5662, -5.5833, -5.5951, -5.6041, -5.6781, -5.6849, -5.7051, -5.7247, -5.7403, -5.921, -5.9425, -5.9532, -5.9648, -5.9819, -6.004, -6.0174, -6.0365, -6.0422, -6.0423, -6.0689, -6.0899, -6.0937, -6.1062, -6.1206, -6.1221, -6.1514, -4.888, -5.7615, -5.3245, -4.9863, -4.6795, -3.5827, -5.4275, -5.2708, -4.2902, -4.9965, -4.9636, -5.4038, -5.1304, -5.7805, -5.1884, -4.421, -5.3596, -4.8017, -4.8961, -5.0421, -4.1513, -4.9082, -5.1084, -5.3396, -4.9544, -5.2443, -4.2529, -5.1428, -4.6765, -5.0828, -4.8771, -5.085, -5.0873, -5.2205, -5.2965, -4.4148, -4.683, -4.7437, -4.8816, -4.8853, -5.1432, -5.2431, -5.2531, -5.3498, -5.4086, -5.4162, -5.4469, -5.4655, -5.5089, -5.5135, -5.5576, -5.5703, -5.5945, -5.6664, -5.783, -5.7913, -5.8456, -5.8722, -5.9437, -5.9468, -5.9763, -5.9856, -6.0031, -6.0073, -6.0116, -4.4926, -5.4303, -4.0524, -4.9949, -4.4462, -5.6463, -4.2103, -4.8763, -5.2306, -5.0271, -5.4208, -4.232, -4.6868, -4.9089, -4.7126, -3.9721, -4.4435, -4.5684, -5.3479, -5.2282, -5.3285, -5.404, -3.4217, -3.8529, -3.9568, -4.0616, -4.1225, -4.1829, -4.2164, -4.2431, -4.5098, -4.5504, -4.6771, -4.7135, -5.048, -5.0882, -5.2525, -5.2561, -5.2567, -5.3257, -5.4571, -5.6129, -5.6286, -5.7032, -5.7504, -5.8392, -5.8784, -5.9987, -6.008, -6.1044, -6.1449, -6.1527, -4.5127, -3.8657, -3.6158, -4.5706, -5.0955, -4.7298, -3.5633, -3.73, -5.0273, -3.6426, -4.0742, -3.6976, -3.9515, -4.7056, -4.4243, -4.9608, -4.3924, -4.5274, -4.3169, -4.5414, -4.7735, -4.0534, -3.345, -3.4391, -3.8922, -4.0527, -4.1627, -4.1673, -4.1969, -4.2946, -4.2951, -4.3267, -4.4085, -4.4814, -4.9637, -5.0233, -5.1025, -5.1945, -5.2097, -5.3218, -5.3349, -5.5589, -5.5633, -5.5733, -5.5998, -5.608, -5.6429, -5.6622, -5.6642, -5.6942, -5.7121, -5.7754, -4.008, -4.4734, -4.0154, -3.8989, -4.2555, -4.7147, -4.5571, -3.9483, -4.8137, -3.9144, -4.8406, -4.4234, -4.8897, -4.6632, -4.3974, -4.6531, -4.8419, -4.9039, -2.9122, -4.0826, -4.1724, -4.259, -4.2689, -4.3692, -4.3366, -4.4597, -4.5213, -4.7314, -4.8821, -5.0213, -5.0249, -5.0551, -5.0824, -5.1188, -5.1423, -5.2165, -5.266, -5.2768, -5.3398, -5.3615, -5.4193, -5.4403, -5.4447, -5.4568, -5.4941, -5.5166, -5.5549, -5.5602, -3.5132, -4.917, -5.0704, -4.417, -4.2204, -3.8824, -4.249, -4.7076, -4.337, -4.8442, -5.135, -3.4509, -3.7831, -3.8827, -4.0923, -4.5309, -4.6415, -4.6588, -4.7338, -4.7377, -4.7545, -4.944, -5.0092, -5.1181, -5.1838, -5.2238, -5.2515, -5.2675, -5.2973, -5.354, -5.377, -5.4007, -5.4366, -5.5437, -5.5749, -5.5911, -5.599, -5.6247, -5.6289, -5.647, -5.6483, -5.0152, -4.5518, -4.134, -4.2208, -5.1475, -4.6181, -5.0986, -4.7568, -5.2362, -4.9793, -5.0342, -5.1789, -5.2625, -5.2538, -3.1459, -3.2366, -3.5112, -4.3411, -4.366, -4.407, -4.4197, -4.5623, -4.5744, -4.7227, -4.8631, -5.094, -5.1841, -5.2586, -5.3325, -5.3643, -5.3958, -5.4251, -5.4744, -5.4778, -5.4896, -5.5018, -5.5106, -5.5132, -5.5692, -5.5883, -5.5977, -5.6151, -5.6211, -5.6814, -3.728, -4.5895, -4.7659, -4.615, -4.0826, -3.3263, -5.0501, -5.2832, -4.3959, -5.1837, -4.4364, -4.8346, -4.6408, -4.9713, -4.8079, -5.0752, -5.2782, -3.8627, -4.2637, -4.2756, -4.3992, -4.4394, -4.462, -4.556, -4.6612, -4.6654, -4.8519, -4.9033, -4.9381, -4.9905, -5.1112, -5.1834, -5.2052, -5.2165, -5.2257, -5.237, -5.2509, -5.2952, -5.3109, -5.3993, -5.4857, -5.4868, -5.5618, -5.5845, -5.6349, -5.6457, -5.6998, -3.9092, -4.1631, -4.651, -4.6573, -5.2191, -4.2189, -4.9943, -5.0773, -4.767, -5.1434, -5.1736, -5.1621, -5.211, -2.666, -3.7188, -4.3723, -4.3925, -4.4131, -4.6646, -4.6842, -4.7811, -4.8168, -4.844, -4.8465, -4.8691, -4.8982, -5.0288, -5.1259, -5.16, -5.1974, -5.2014, -5.2056, -5.2166, -5.2278, -5.2583, -5.3333, -5.355, -5.376, -5.4409, -5.4563, -5.4672, -5.5321, -5.5392, -4.0987, -5.1827, -4.0554, -3.6911, -4.6986, -4.4179, -4.4018, -4.4841, -4.2898, -4.6112, -4.9628, -4.8545, -4.9992, -5.1487, -4.9982, -5.1007, -4.0516, -4.166, -4.1706, -4.638, -4.7357, -5.0092, -5.0409, -5.1103, -5.1109, -5.1274, -5.1463, -5.1688, -5.1941, -5.2008, -5.2394, -5.2484, -5.2564, -5.3034, -5.3069, -5.3243, -5.3577, -5.3755, -5.3807, -5.381, -5.3829, -5.4171, -5.4402, -5.4474, -5.4505, -5.4792, -5.0093, -4.2195, -5.1773, -4.5077, -4.9682, -5.3217, -5.1902, -3.1779, -4.2518, -4.3094, -4.4939, -4.5025, -4.553, -4.5649, -4.7127, -4.7963, -4.8426, -4.9349, -4.9353, -4.9629, -4.9862, -5.0439, -5.0527, -5.1408, -5.1467, -5.1958, -5.3206, -5.3353, -5.3433, -5.3721, -5.3766, -5.4992, -5.5315, -5.6173, -5.6601, -5.6686, -5.6719, -4.5399, -4.255, -4.2459, -4.4218, -4.1364, -4.3349, -3.6715, -4.9567, -4.4378, -4.1699, -4.2405, -4.6495, -4.907, -2.6179, -3.8778, -4.349, -4.3661, -4.4849, -4.6411, -4.7126, -4.7578, -4.8034, -4.8172, -4.9623, -4.9769, -5.0468, -5.0882, -5.1096, -5.1732, -5.1747, -5.1934, -5.218, -5.2481, -5.2872, -5.3029, -5.3111, -5.3137, -5.3175, -5.3176, -5.3506, -5.3622, -5.3765, -5.3907, -3.4883, -4.0698, -4.2077, -4.5952, -4.3635, -4.8427, -5.1391, -4.6605, -5.1075, -4.9534, -5.227, -3.696, -3.9258, -3.9359, -4.0564, -4.1307, -4.1736, -4.1756, -4.306, -4.4572, -4.5002, -4.5111, -4.5527, -4.5539, -4.7049, -4.7825, -4.824, -4.9696, -4.9964, -5.0051, -5.0412, -5.0416, -5.0488, -5.0551, -5.073, -5.0877, -5.1838, -5.1939, -5.1956, -5.266, -5.2718, -3.8305, -4.4856, -4.1665, -4.9364, -4.6087, -4.5507, -3.6135, -4.0994, -4.277, -4.3604, -4.3944, -4.4503, -4.4684, -4.4986, -4.829, -4.8647, -4.9198, -4.9411, -4.9598, -5.0057, -5.0801, -5.1669, -5.1865, -5.1897, -5.2364, -5.243, -5.2652, -5.048, -5.2728, -5.3264, -5.3563, -5.3607, -5.362, -5.3667, -5.3806, -5.3866, -4.9801, -4.9221, -4.5222, -4.5724, -5.0571, -5.2092, -5.2743, -2.4147, -2.5813, -3.8405, -4.0351, -4.0958, -4.1314, -4.23, -4.2834, -4.3527, -4.6882, -4.6972, -4.7693, -4.9303, -4.9566, -5.0617, -5.0797, -5.0842, -5.1075, -5.1182, -5.129, -5.1997, -5.2007, -5.2173, -5.2381, -5.3115, -5.35, -5.3573, -5.4109, -5.4381, -5.4562, -4.2989, -3.4405, -5.0152, -2.6166, -3.7784, -3.9144, -4.1296, -4.4185, -4.4607, -4.4812, -4.5275, -4.5785, -4.5816, -4.7403, -4.9025, -4.9468, -5.0176, -5.0241, -5.044, -5.1618, -5.1796, -5.2066, -5.3365, -5.3596, -5.4927, -5.4932, -5.5095, -5.52, -5.5685, -5.6309, -5.633, -5.6332, -5.6788, -4.5232, -4.7091, -5.3273, -3.8193, -4.5616, -4.6876, -5.3641, -5.3115, -4.6506, -4.821, -4.5059, -4.988, -5.091, -5.2221, -2.9761, -3.6212, -3.9166, -4.1189, -4.1727, -4.3262, -4.3887, -4.4328, -4.5627, -4.6918, -4.7362, -4.7934, -4.8004, -4.8483, -4.9045, -4.9106, -4.9967, -5.0395, -5.0496, -5.0682, -5.0718, -5.0842, -5.0885, -5.0917, -5.1272, -5.144, -5.2076, -5.3067, -5.3412, -5.363, -3.8925, -4.8882, -4.157, -4.986, -4.8354, -4.8664, -4.8724, -5.0883, -3.5327, -3.8783, -3.9506, -3.998, -4.0368, -4.1157, -4.1325, -4.2274, -4.4287, -4.48, -4.5708, -4.6603, -4.7639, -4.8229, -4.8378, -4.845, -4.8852, -4.9087, -5.0289, -5.0501, -5.114, -5.2328, -5.2328, -5.2404, -5.2466, -5.2489, -5.275, -5.2824, -5.3655, -5.4531, -4.6926, -3.8682, -4.937, -4.6207, -4.2029, -4.7041, -4.8209], \"loglift\": [30.0, 29.0, 28.0, 27.0, 26.0, 25.0, 24.0, 23.0, 22.0, 21.0, 20.0, 19.0, 18.0, 17.0, 16.0, 15.0, 14.0, 13.0, 12.0, 11.0, 10.0, 9.0, 8.0, 7.0, 6.0, 5.0, 4.0, 3.0, 2.0, 1.0, 1.4196, 1.4193, 1.4191, 1.4191, 1.4189, 1.4189, 1.4187, 1.4186, 1.4184, 1.4183, 1.4183, 1.4182, 1.4182, 1.4182, 1.4181, 1.4177, 1.4174, 1.4174, 1.4174, 1.4173, 1.4171, 1.417, 1.4169, 1.4169, 1.4167, 1.4166, 1.4166, 1.4165, 1.4165, 1.4163, 1.4142, 1.4104, 1.4133, 1.4045, 1.4101, 1.409, 1.3939, 1.3811, 1.4044, 1.366, 1.3382, 1.4044, 1.3494, 1.3563, 1.3697, 1.3621, 1.2864, 1.3526, 1.3325, 1.3619, 1.2492, 1.2835, 1.2609, 1.3546, 1.2207, 1.3404, 1.1507, 1.3223, 1.1747, 1.055, 1.1018, 1.1458, 0.9541, 1.0336, 0.9861, 1.2522, 0.9803, 0.313, 0.8835, 1.8491, 1.8491, 1.8488, 1.8487, 1.8485, 1.8484, 1.8482, 1.8482, 1.8482, 1.8481, 1.8481, 1.8481, 1.848, 1.848, 1.8479, 1.8479, 1.8477, 1.8476, 1.8475, 1.8474, 1.8474, 1.8474, 1.8474, 1.8471, 1.847, 1.8468, 1.8468, 1.8466, 1.8465, 1.8464, 1.84, 1.823, 1.8209, 1.8371, 1.7903, 1.8158, 1.7867, 1.6194, 1.7706, 1.714, 1.5805, 1.6562, 1.2875, 1.6705, 1.727, 1.2951, 1.2456, 0.9375, 1.4241, 1.6077, 1.033, 0.6629, 0.6115, 1.1074, 1.4478, 0.5367, -0.2476, 0.7103, 0.7309, 0.6071, 0.837, -0.0041, 2.0843, 2.0833, 2.0831, 2.083, 2.0827, 2.0827, 2.0827, 2.0827, 2.0825, 2.0825, 2.0825, 2.0824, 2.0824, 2.082, 2.0819, 2.0819, 2.0818, 2.0818, 2.0817, 2.0817, 2.0816, 2.0816, 2.0816, 2.0816, 2.0815, 2.0815, 2.0814, 2.0814, 2.0814, 2.0813, 2.0638, 2.0745, 2.0516, 2.0356, 2.0046, 1.9246, 2.0411, 2.0181, 1.9195, 1.9789, 1.954, 1.9936, 1.9498, 2.0455, 1.9014, 1.6848, 1.9276, 1.7551, 1.7617, 1.8128, 1.4084, 1.7111, 1.7896, 1.8997, 1.67, 1.8325, 1.0824, 1.6819, 1.1205, 1.4212, 0.9833, 1.2496, 1.116, 1.3894, 0.7193, 2.9097, 2.9093, 2.9092, 2.9089, 2.9089, 2.9083, 2.908, 2.908, 2.9077, 2.9075, 2.9075, 2.9073, 2.9073, 2.9071, 2.9071, 2.9069, 2.9069, 2.9068, 2.9064, 2.9059, 2.9058, 2.9055, 2.9054, 2.905, 2.905, 2.9048, 2.9047, 2.9046, 2.9046, 2.9046, 2.894, 2.8896, 2.8406, 2.8728, 2.8149, 2.8794, 2.6602, 2.747, 2.7921, 2.6797, 2.7751, 2.2895, 2.4539, 2.4557, 2.0737, 1.3258, 1.3223, 0.6, 2.056, 1.1755, 1.7937, 1.3201, 3.0397, 3.0394, 3.0393, 3.0392, 3.0392, 3.0391, 3.0391, 3.039, 3.0387, 3.0386, 3.0384, 3.0383, 3.0375, 3.0374, 3.0368, 3.0368, 3.0368, 3.0366, 3.0361, 3.0354, 3.0353, 3.0349, 3.0346, 3.0341, 3.0339, 3.033, 3.033, 3.0322, 3.0319, 3.0318, 3.014, 2.9864, 2.9512, 2.9611, 2.9858, 2.96, 2.8476, 2.8355, 2.9535, 2.6756, 2.6749, 2.4174, 2.4931, 2.6518, 2.4302, 2.8031, 2.2707, 2.2675, 1.9805, 2.2344, 2.5525, 0.493, 3.2509, 3.2509, 3.2505, 3.2503, 3.2501, 3.2501, 3.2501, 3.2499, 3.2499, 3.2499, 3.2497, 3.2496, 3.2484, 3.2482, 3.2479, 3.2476, 3.2475, 3.247, 3.247, 3.2458, 3.2458, 3.2457, 3.2456, 3.2455, 3.2453, 3.2452, 3.2452, 3.245, 3.2449, 3.2444, 3.2321, 3.156, 3.0932, 3.0274, 2.9745, 3.0559, 2.8136, 2.2536, 2.7405, 2.0149, 2.5864, 2.1865, 2.5203, 1.8935, 1.1099, 1.665, 1.9529, 1.507, 3.4102, 3.4091, 3.409, 3.4088, 3.4088, 3.4086, 3.4085, 3.4084, 3.4083, 3.4077, 3.4073, 3.4067, 3.4067, 3.4066, 3.4065, 3.4063, 3.4062, 3.4059, 3.4056, 3.4056, 3.4053, 3.4051, 3.4048, 3.4047, 3.4047, 3.4046, 3.4043, 3.4042, 3.404, 3.4039, 3.3142, 3.3582, 3.2952, 3.0675, 2.8403, 2.6391, 2.6894, 2.9129, 2.4388, 1.7212, 1.5736, 3.4263, 3.426, 3.4259, 3.4256, 3.4247, 3.4244, 3.4244, 3.4241, 3.4241, 3.4241, 3.4234, 3.4232, 3.4227, 3.4224, 3.4222, 3.4221, 3.422, 3.4219, 3.4215, 3.4214, 3.4213, 3.4211, 3.4204, 3.4202, 3.42, 3.42, 3.4198, 3.4198, 3.4196, 3.4196, 3.4108, 3.2664, 3.1546, 3.0593, 3.2602, 2.9912, 3.1599, 2.842, 3.1635, 2.5763, 2.3943, 2.4988, 2.9075, 2.6455, 3.4285, 3.4284, 3.4282, 3.4271, 3.427, 3.4269, 3.4269, 3.4266, 3.4265, 3.4261, 3.4257, 3.4248, 3.4244, 3.424, 3.4236, 3.4234, 3.4232, 3.4231, 3.4228, 3.4227, 3.4227, 3.4226, 3.4225, 3.4225, 3.4221, 3.422, 3.4219, 3.4218, 3.4218, 3.4213, 3.2682, 3.3372, 3.2663, 3.2004, 3.0487, 2.4395, 2.9636, 3.1808, 2.1297, 2.9446, 1.7655, 2.0024, 1.375, 1.7778, 0.7043, 0.9764, 2.8434, 3.453, 3.4524, 3.4524, 3.4521, 3.452, 3.452, 3.4517, 3.4514, 3.4514, 3.4508, 3.4506, 3.4505, 3.4503, 3.4498, 3.4495, 3.4493, 3.4493, 3.4492, 3.4492, 3.4491, 3.4489, 3.4488, 3.4483, 3.4477, 3.4477, 3.4472, 3.447, 3.4467, 3.4466, 3.4462, 3.4383, 3.4331, 3.3363, 3.3172, 3.3508, 2.4431, 2.8858, 2.908, 1.6367, 2.397, 2.1077, 0.897, 2.1536, 3.5371, 3.5363, 3.5351, 3.5351, 3.535, 3.5343, 3.5343, 3.5339, 3.5338, 3.5337, 3.5337, 3.5336, 3.5335, 3.5329, 3.5325, 3.5323, 3.5321, 3.5321, 3.5321, 3.532, 3.5319, 3.5318, 3.5313, 3.5312, 3.5311, 3.5306, 3.5305, 3.5305, 3.53, 3.5299, 3.4467, 3.5098, 3.3977, 3.152, 3.3073, 3.1746, 3.1349, 3.1658, 2.3294, 2.6142, 3.0748, 2.22, 2.6222, 3.2832, 1.928, 2.2753, 3.6254, 3.6252, 3.6252, 3.6239, 3.6236, 3.6224, 3.6223, 3.6219, 3.6219, 3.6218, 3.6217, 3.6216, 3.6214, 3.6214, 3.6212, 3.6211, 3.6211, 3.6208, 3.6207, 3.6206, 3.6204, 3.6203, 3.6202, 3.6202, 3.6202, 3.62, 3.6198, 3.6198, 3.6197, 3.6195, 3.5617, 3.4395, 3.408, 2.8786, 3.1489, 3.4728, 2.6633, 3.7489, 3.7472, 3.747, 3.7464, 3.7464, 3.7462, 3.7462, 3.7456, 3.7453, 3.7451, 3.7446, 3.7446, 3.7445, 3.7444, 3.744, 3.744, 3.7435, 3.7434, 3.7431, 3.7422, 3.7421, 3.7421, 3.7418, 3.7418, 3.7408, 3.7405, 3.7397, 3.7392, 3.7391, 3.7391, 3.7365, 3.6315, 3.579, 3.5741, 3.391, 3.3675, 2.3876, 3.3949, 2.9381, 2.5751, 2.1632, 1.9082, 2.2287, 3.8344, 3.833, 3.8319, 3.8318, 3.8314, 3.8308, 3.8305, 3.8303, 3.8301, 3.83, 3.8292, 3.8292, 3.8287, 3.8285, 3.8283, 3.8279, 3.8279, 3.8278, 3.8276, 3.8273, 3.827, 3.8269, 3.8269, 3.8268, 3.8268, 3.8268, 3.8265, 3.8264, 3.8263, 3.8262, 3.7285, 3.7159, 3.665, 3.6905, 3.2462, 3.4753, 3.5294, 2.048, 3.2252, 2.5311, 3.377, 3.9103, 3.9098, 3.9098, 3.9095, 3.9093, 3.9092, 3.9092, 3.9088, 3.9083, 3.9081, 3.9081, 3.9079, 3.9079, 3.9072, 3.9069, 3.9066, 3.9058, 3.9056, 3.9056, 3.9053, 3.9053, 3.9053, 3.9052, 3.9051, 3.905, 3.9043, 3.9042, 3.9042, 3.9037, 3.9036, 3.7129, 3.6156, 3.2199, 3.6556, 3.2942, 3.057, 3.9635, 3.9624, 3.9619, 3.9616, 3.9615, 3.9613, 3.9612, 3.9611, 3.9595, 3.9592, 3.9589, 3.9588, 3.9587, 3.9583, 3.9573, 3.9572, 3.957, 3.957, 3.9566, 3.9565, 3.9563, 3.9563, 3.9563, 3.9558, 3.9555, 3.9555, 3.9554, 3.9554, 3.9553, 3.9552, 3.7745, 3.6657, 3.306, 2.3926, 2.553, 2.4, 2.6782, 4.0437, 4.0436, 4.042, 4.0415, 4.0413, 4.0412, 4.0409, 4.0407, 4.0405, 4.039, 4.0389, 4.0385, 4.0375, 4.0373, 4.0366, 4.0364, 4.0364, 4.0362, 4.0361, 4.036, 4.0354, 4.0354, 4.0353, 4.0351, 4.0344, 4.034, 4.0339, 4.0334, 4.0331, 4.0329, 3.8928, 3.4161, 3.7171, 4.0491, 4.0476, 4.0472, 4.0466, 4.0456, 4.0454, 4.0453, 4.0451, 4.0449, 4.0449, 4.0441, 4.0431, 4.0428, 4.0422, 4.0422, 4.042, 4.0411, 4.0409, 4.0407, 4.0394, 4.0392, 4.0377, 4.0377, 4.0375, 4.0374, 4.0368, 4.0359, 4.0357, 4.0355, 4.0353, 3.9821, 3.9199, 3.9977, 3.676, 3.7843, 3.707, 3.9751, 3.945, 3.3425, 3.3853, 2.4879, 3.0496, 3.151, 2.0343, 4.1144, 4.1134, 4.1127, 4.1122, 4.112, 4.1114, 4.1111, 4.1109, 4.1103, 4.1096, 4.1094, 4.109, 4.109, 4.1087, 4.1083, 4.1082, 4.1076, 4.1072, 4.1072, 4.107, 4.107, 4.1069, 4.1068, 4.1068, 4.1065, 4.1063, 4.1057, 4.1047, 4.1044, 4.1041, 3.7813, 3.97, 3.3585, 3.7947, 3.5649, 3.529, 2.5375, 3.2763, 4.1947, 4.1939, 4.1937, 4.1935, 4.1934, 4.1931, 4.1931, 4.1927, 4.1918, 4.1916, 4.1911, 4.1906, 4.1899, 4.1895, 4.1894, 4.1894, 4.1891, 4.1889, 4.1879, 4.1877, 4.1871, 4.1859, 4.1859, 4.1858, 4.1858, 4.1858, 4.1855, 4.1854, 4.1844, 4.1833, 4.1729, 4.1487, 4.0226, 3.5761, 2.9746, 3.1887, 2.3148]}, \"token.table\": {\"Topic\": [6, 6, 10, 3, 6, 7, 18, 10, 3, 5, 2, 16, 1, 5, 19, 1, 14, 4, 9, 10, 14, 16, 2, 10, 11, 15, 2, 3, 10, 13, 1, 2, 3, 4, 5, 6, 7, 4, 7, 10, 8, 3, 1, 15, 6, 3, 5, 6, 5, 10, 1, 3, 4, 12, 2, 2, 4, 13, 4, 18, 1, 2, 19, 10, 18, 2, 4, 8, 12, 8, 13, 18, 3, 5, 6, 9, 9, 17, 1, 4, 9, 1, 2, 9, 9, 2, 3, 9, 11, 18, 1, 13, 5, 2, 3, 4, 2, 3, 4, 8, 19, 2, 2, 12, 8, 19, 1, 20, 3, 6, 15, 19, 13, 19, 6, 3, 2, 16, 10, 11, 9, 8, 4, 15, 9, 13, 10, 12, 13, 19, 14, 1, 3, 4, 19, 11, 14, 5, 5, 9, 1, 2, 3, 4, 5, 1, 2, 6, 19, 11, 14, 19, 20, 18, 6, 4, 8, 12, 13, 1, 2, 3, 7, 13, 16, 2, 3, 12, 16, 16, 2, 14, 2, 19, 3, 6, 3, 2, 4, 16, 3, 7, 8, 2, 2, 20, 4, 13, 4, 2, 2, 3, 2, 5, 7, 9, 9, 9, 11, 6, 5, 1, 2, 4, 9, 17, 7, 4, 10, 11, 13, 15, 6, 15, 10, 1, 3, 5, 6, 7, 15, 18, 3, 7, 8, 10, 2, 2, 4, 7, 16, 18, 20, 5, 20, 16, 3, 6, 5, 2, 8, 17, 8, 10, 15, 20, 8, 14, 12, 20, 14, 6, 3, 11, 13, 5, 7, 19, 1, 3, 11, 1, 2, 4, 7, 4, 13, 2, 3, 4, 19, 9, 7, 6, 7, 8, 10, 4, 13, 4, 13, 18, 8, 18, 3, 11, 20, 14, 3, 7, 8, 3, 18, 2, 4, 13, 14, 20, 6, 9, 2, 3, 8, 8, 12, 11, 20, 2, 3, 8, 3, 20, 3, 8, 12, 12, 3, 3, 19, 17, 16, 16, 4, 16, 12, 15, 8, 14, 1, 2, 7, 14, 16, 6, 6, 13, 17, 5, 1, 9, 12, 16, 16, 4, 14, 15, 11, 6, 11, 1, 14, 16, 1, 2, 11, 12, 13, 8, 17, 20, 19, 10, 12, 4, 5, 16, 2, 13, 16, 20, 6, 11, 8, 5, 7, 7, 8, 18, 18, 7, 5, 5, 6, 10, 14, 1, 12, 2, 3, 6, 4, 12, 6, 16, 19, 1, 2, 7, 9, 2, 9, 11, 2, 16, 10, 4, 10, 15, 20, 7, 8, 2, 3, 8, 18, 15, 20, 1, 8, 8, 13, 3, 6, 11, 18, 12, 2, 12, 2, 7, 10, 20, 2, 16, 9, 5, 17, 6, 11, 15, 16, 14, 7, 20, 3, 4, 7, 5, 6, 17, 2, 5, 8, 9, 12, 4, 13, 19, 13, 4, 20, 1, 2, 3, 4, 9, 17, 13, 20, 1, 6, 16, 12, 11, 2, 4, 10, 5, 18, 1, 2, 17, 19, 12, 3, 14, 9, 13, 11, 10, 15, 1, 6, 9, 4, 4, 1, 2, 3, 4, 9, 13, 1, 4, 9, 9, 10, 10, 14, 1, 2, 9, 4, 7, 6, 2, 3, 9, 11, 14, 15, 4, 20, 14, 1, 5, 13, 3, 1, 1, 2, 4, 11, 13, 16, 1, 2, 11, 10, 1, 3, 9, 11, 7, 2, 4, 8, 10, 9, 9, 12, 10, 18, 17, 1, 5, 11, 4, 11, 6, 15, 1, 7, 6, 14, 16, 10, 8, 10, 2, 3, 4, 5, 2, 5, 5, 7, 4, 19, 15, 20, 7, 16, 18, 1, 5, 15, 1, 7, 10, 17, 4, 13, 10, 2, 5, 7, 10, 13, 14, 19, 12, 10, 2, 11, 18, 4, 1, 2, 13, 7, 18, 14, 4, 13, 9, 13, 1, 2, 8, 14, 8, 1, 3, 4, 1, 3, 4, 9, 1, 17, 2, 7, 13, 2, 3, 9, 19, 20, 10, 18, 9, 12, 15, 16, 5, 2, 4, 2, 11, 1, 1, 5, 14, 3, 5, 9, 1, 2, 1, 2, 4, 5, 2, 1, 5, 9, 10, 15, 16, 1, 1, 3, 11, 20, 17, 18, 12, 3, 6, 5, 1, 2, 3, 4, 2, 4, 10, 7, 15, 15, 15, 1, 2, 3, 4, 6, 7, 10, 19, 3, 20, 2, 17, 11, 1, 2, 3, 5, 9, 1, 1, 2, 3, 18, 16, 19, 4, 10, 6, 1, 2, 5, 7, 20, 4, 7, 15, 16, 12, 18, 20, 16, 18, 4, 13, 13, 2, 5, 19, 4, 12, 15, 8, 17, 3, 6, 6, 18, 16, 1, 4, 6, 17, 18, 1, 18, 3, 6, 16, 1, 2, 3, 4, 2, 3, 1, 2, 5, 9, 4, 20, 18, 8, 18, 7, 8, 9, 18, 7, 10, 12, 15, 16, 3, 1, 3, 5, 6, 7, 12, 5, 7, 16, 10, 1, 3, 5, 2, 4, 5, 14, 1, 3, 5, 9, 1, 1, 14, 20, 10, 1, 3, 5, 8, 9, 3, 4, 5, 9, 10, 15, 8, 18, 19, 9, 1, 6, 7, 8, 3, 19, 11, 3, 14, 16, 17, 1, 2, 3, 4, 1, 7, 10, 2, 6, 8, 15, 5, 9, 9, 12, 20, 1, 18, 12, 12, 5, 10, 18, 13, 1, 2, 3, 10, 17, 19, 13, 16, 8, 15, 10, 19, 10, 1, 2, 4, 3, 11, 3, 13, 2, 7, 16, 1, 7, 8, 3, 9, 13, 15, 1, 9, 12, 1, 2, 3, 4, 17, 14, 9, 11, 9, 1, 2, 3, 9, 7, 13, 4, 3, 2, 3, 1, 2, 5, 14, 17, 10, 18, 2, 4, 11, 20, 10, 18, 7, 17, 4, 12, 1, 1, 5, 6, 18, 12, 14, 8, 11, 7, 7, 8, 7, 9, 16, 1, 2, 3, 1, 3, 6, 16, 6, 12, 3, 5, 6, 12, 7, 3, 4, 13, 2, 2, 3, 7, 10, 4, 7, 10, 10, 1, 6, 15, 20, 3, 8, 10, 1, 2, 11, 15, 1, 2, 3, 5, 2, 4, 18, 7, 7, 1, 11, 13, 15, 7, 18, 17, 15, 1, 2, 2, 3, 4, 8, 2, 10, 12, 14, 16, 3, 12, 3, 14, 2, 2, 11, 3, 3, 19, 3, 5, 2, 3, 3, 8, 16, 16, 6, 10, 4, 3, 4, 10, 8, 13, 19, 11, 18, 9, 1, 2, 7, 10, 13, 7, 4, 13, 16, 9, 4, 14, 15, 13, 2, 1, 3, 6, 9, 11, 13, 1, 2, 3, 18, 6, 11, 5, 15, 17, 11, 1, 2, 4, 5, 15, 17, 3, 17, 19, 7, 8, 8, 8, 9, 6, 11, 10, 9, 20, 3, 3, 3, 7, 1, 2, 3, 5, 20, 1, 4, 5, 2, 20, 7, 10, 11, 16, 5, 1, 3, 5, 1, 2, 3, 4, 6, 6, 10, 10, 13, 15, 13, 5, 4, 13, 13, 18, 17, 18, 20, 2, 1, 2, 3, 9, 13, 3, 13, 2, 12, 11, 6, 11, 19, 10, 5, 17, 4, 7, 11, 4, 8, 10, 1, 9, 3, 6, 11, 18, 2, 3, 4, 5, 8, 10, 3, 5, 17, 3, 8, 6, 17, 13, 6, 11, 17, 16, 2, 3, 11, 9, 1, 2, 3, 4, 7, 10, 13, 2, 8, 15, 13, 7, 20, 11, 1, 2, 4, 9, 20, 2, 4, 13, 14, 20, 12, 17, 7, 19, 6, 20, 3, 8, 12, 8, 10, 16, 2, 3, 4, 1, 2, 20, 16, 19, 11, 16, 3, 6, 10, 19, 1, 2, 4, 9, 2, 3, 4, 9, 19, 7, 6, 14, 7, 9, 15, 3, 7, 14, 10, 4, 1, 1, 5, 6, 8, 1, 2, 1, 2, 1, 2, 9, 18, 3, 10, 13, 19, 2, 4, 9, 16, 16, 9, 1, 2, 3, 4, 9, 20, 20, 19, 1, 2, 4, 7, 14, 18, 3, 8, 4, 19, 9, 10, 3, 8, 5, 16, 19, 13, 2, 3, 20, 2, 1, 2, 6, 11, 15, 4, 1, 2, 11, 13, 3, 6, 2, 17, 15, 11, 15, 15, 20, 18, 5, 9, 13, 1, 2, 3, 6, 3, 5, 6, 7, 6, 5, 17, 17, 18, 17, 3, 6, 12, 4, 6, 2, 6, 8, 4, 12, 4, 20, 19, 1, 1, 2, 4, 14, 14, 14, 14, 19, 11, 16, 1, 2, 3, 4, 13, 14, 16, 9, 5, 1, 2, 3, 9, 10, 19, 1, 10, 17, 1, 6, 9, 12, 6, 9, 5, 20, 14, 19, 4, 2, 4, 1, 2, 6, 8, 1, 3, 4, 6, 15, 1, 2, 4, 10, 1, 1, 2, 17, 1, 2, 1, 3, 4, 8, 9, 16, 9, 14], \"Freq\": [0.9917336425127531, 0.015121817746093448, 0.9842928642002645, 0.007224945774719851, 0.3829221260601521, 0.6087016815201474, 0.9922258853884176, 0.993690834497428, 0.9981923040198777, 0.999421832446019, 0.1684564559774202, 0.8254366342893591, 0.07437791302770903, 0.923938964055319, 0.9903694857473142, 0.9962958576639889, 0.988704200298309, 0.11258050076054024, 0.04824878604023153, 0.18227319170754133, 0.5557545355004446, 0.10185854830715545, 0.9987396110750593, 0.9882073377739914, 0.9975507887109201, 0.9938634398780248, 0.17014460949076654, 0.7446019250394886, 0.049990941963781926, 0.03508136278160135, 0.29214485138566637, 0.1745968048832447, 0.5086080837903215, 0.005750882901292644, 0.011041695170481878, 0.007821200745757997, 0.9920122955623619, 0.8885653432495253, 0.06481935634646993, 0.0459137107454162, 0.9950517427386077, 0.9985432918316943, 0.9975695678753673, 0.9935961489334413, 0.9975415204387075, 0.23075880073047114, 0.1224147296557987, 0.6458432288736966, 0.9983991258208174, 0.9932894066923552, 0.11083847767374921, 0.5410234603283006, 0.327028379671062, 0.019753392060668177, 0.9963672681656427, 0.998284894285672, 0.296439334233616, 0.7016981709074201, 0.9970527091294797, 0.9932698549718252, 0.994400149650752, 0.005401832257919652, 0.9904974704558662, 0.9008512932300011, 0.09335246561968924, 0.9991805793451708, 0.998291843932019, 0.9914004832579022, 0.993356242346659, 0.9975213718770078, 0.039729664796052805, 0.9535119551052672, 0.39969497616390565, 0.5432828772648045, 0.05625958698105395, 0.9973185545502312, 0.9924795467557597, 0.9996629796807854, 0.9509352611608289, 0.04068462326700637, 0.008136924653401274, 0.906940324854174, 0.04531554711276928, 0.04720369490913466, 0.9925947166233178, 0.2150479466687981, 0.7619081547992183, 0.021840807083549806, 0.9971263264431927, 0.9929051924961158, 0.9998109380550114, 0.9981272390708814, 0.9935196361641457, 0.7855068445533365, 0.11995424719780015, 0.09383517724344044, 0.304374330430948, 0.18877061839227066, 0.27364422976243885, 0.02634008628729358, 0.20633067591713306, 0.998504836759206, 0.9997398685819296, 0.9931429372283778, 0.9971916596600298, 0.9959256657506326, 0.9979143557128044, 0.9841943000954867, 0.7194860335369075, 0.25687023034419926, 0.02306844301634799, 0.9981689791624545, 0.9937736296301996, 0.9846790969254114, 0.9931563134313854, 0.9971946129710857, 0.2566075957515794, 0.7413108321712293, 0.02110547013414597, 0.9708516261707146, 0.9914542917174616, 0.9989954921201287, 0.9962304538024928, 0.9980398670042696, 0.7809548194982916, 0.21413277308824125, 0.9977529584705019, 0.827886448110994, 0.1689564179818355, 0.9889478254660306, 0.9934992898590989, 0.01943667846781433, 0.9792383723308363, 0.9690999596461785, 0.026795390589295257, 0.9987258052554246, 0.9905374872422775, 0.9943569302336659, 0.9735456095359735, 0.02466754078216149, 0.43869808702873064, 0.15061092009768798, 0.379592057339231, 0.021015477222933204, 0.009632093727177719, 0.6153624445554752, 0.3635196663207344, 0.020891934846019217, 0.9958299627737061, 0.994039124681899, 0.8642365443042693, 0.06674997699911023, 0.06323682031494654, 0.9989755244010917, 0.9993517730556459, 0.17115698869762638, 0.039497766622529164, 0.08722423462475191, 0.6977938769980153, 0.022468113577838303, 0.43338494634585883, 0.43388423775869966, 0.03844543878874554, 0.02895890194476937, 0.0429390615043132, 0.5861111441839078, 0.17817778783190794, 0.027195557090133316, 0.20724890058342976, 0.9979688058347482, 0.9870294571622967, 0.009890074721065097, 0.9980758678702674, 0.995446439799307, 0.17629034630742674, 0.8226882827679914, 0.998117488770852, 0.19625684504629937, 0.7782010551401088, 0.02474542828844644, 0.5132442865383986, 0.4858469046947118, 0.9976621381260554, 0.9975806456888526, 0.9981394901369585, 0.9973580746349304, 0.7935903951738208, 0.20479752133517956, 0.9954986101182678, 0.9990682244077749, 0.9671144486786769, 0.03134892864436554, 0.9978531791864794, 0.9979296555835623, 0.9973176605112003, 0.9933852693736995, 0.9960053515657858, 0.9940978847848054, 0.9926962392404278, 0.9993475699102524, 0.9989263173744144, 0.6480831870462912, 0.2886200428141378, 0.05364251300788015, 0.009620668093804591, 0.9886703757448989, 0.9964307863974493, 0.1094831287729677, 0.8888987359900473, 0.6955565977493341, 0.21428763870055242, 0.0895792588010506, 0.9960330189412507, 0.9920586293392237, 0.9920685931420704, 0.003955434087734023, 0.19065192302877992, 0.46199470144733396, 0.27292495205364764, 0.07040672676166562, 0.11885820797687138, 0.8765792838294264, 0.20655639099117923, 0.18169312170520396, 0.3958997493997602, 0.21420662769455623, 0.9975518880169475, 0.1636466349804319, 0.10198268556751552, 0.007115071086105734, 0.23716903620352447, 0.12095620846379748, 0.3652403157534277, 0.9954809019916802, 0.9952270323597956, 0.9903389996516749, 0.9903809054430687, 0.008962723126181618, 0.997830370161496, 0.23248190167546173, 0.7658227349309328, 0.9847345682333385, 0.15218452029722682, 0.026757717854457463, 0.8194551092927599, 0.9922018776336674, 0.9958488042725047, 0.9937601904749263, 0.9930562002732125, 0.9970516644889204, 0.9962609970497694, 0.997009856469575, 0.9983898675182498, 0.9952905134707095, 0.9970664205226679, 0.9992245898239923, 0.9900465834259008, 0.9915776401315312, 0.17724035138693472, 0.7771307714657907, 0.04509665745348043, 0.8726672576622976, 0.08546741183290543, 0.026195894029280613, 0.015611694421490466, 0.9836026293184852, 0.015726204829219968, 0.0683038623295354, 0.32200392241066694, 0.13986028953190582, 0.4683693416882428, 0.9962106620147264, 0.9943600904502338, 0.2223381116102232, 0.030844593518181255, 0.6927181627624873, 0.0539780386568172, 0.15513257701722383, 0.8421482752363579, 0.010441996618288225, 0.9885090131979519, 0.9891743003212791, 0.9925781067264973, 0.9925899040991719, 0.9981042924927632, 0.995479733133187, 0.9954901589345403, 0.994888283634119, 0.9361124617062692, 0.06353117814904043, 0.9941813442742212, 0.23133574560888995, 0.7686316708940537, 0.3275499030484142, 0.63274145093994, 0.03800920376671018, 0.9911241988231035, 0.995326326654949, 0.9946535527152953, 0.9934566214708721, 0.06922783568203755, 0.47027184928832405, 0.4583360155500417, 0.19436468791634115, 0.8011617623868696, 0.9919769457178642, 0.9893888250851168, 0.1388093992186839, 0.4333561731705253, 0.4265849829647359, 0.913337713621319, 0.08526412199945858, 0.9606283599169136, 0.03549665995074046, 0.9900106957851478, 0.9912605501468906, 0.9973028672006137, 0.998530555420728, 0.9898962202373566, 0.9975900322593637, 0.9900249956545774, 0.9950139322139638, 0.9079356574287305, 0.09079356574287305, 0.9901360460219863, 0.997112495199505, 0.9963025076738865, 0.9914589352719514, 0.9961569343176833, 0.6243576568563524, 0.10248294872642148, 0.2711856489376076, 0.9949185489094121, 0.9992522168313608, 0.9982904265679297, 0.9892018490863363, 0.9885409147152273, 0.9990493519741974, 0.9987191401993684, 0.912629259572211, 0.08586565614254674, 0.9908258676063979, 0.9960402852376273, 0.9956701267625105, 0.9914029219161713, 0.9902788973250994, 0.9993810024576125, 0.7993394432188191, 0.2002859552986206, 0.9965969183591393, 0.8885562728187133, 0.1108031803035326, 0.36712924172774225, 0.10261376321582859, 0.13681835095443812, 0.3808110768231861, 0.011401529246203176, 0.8518672047723795, 0.14748088558074787, 0.9960217733471448, 0.9919092087511486, 0.9948382086770748, 0.9983169782187249, 0.9936604228434414, 0.9925947109741817, 0.9946007659927361, 0.5720456073092367, 0.05720456073092367, 0.2431193831064256, 0.12513497659889553, 0.9917537569214401, 0.9948021804540172, 0.9903624541808803, 0.9990882981360704, 0.9964982379071669, 0.9988509333771185, 0.9918797147992838, 0.9985327090432115, 0.9898757153832096, 0.9937341716091902, 0.9993080465585014, 0.1509742726433409, 0.27617244995733087, 0.025776095329350882, 0.544980301249133, 0.06074987183082626, 0.9346134127819424, 0.21129623865176736, 0.1876310599227694, 0.6000813177710193, 0.9965449814057663, 0.9905259985691771, 0.9940876754823423, 0.9898551176211559, 0.9962646162844578, 0.5514604493890491, 0.4418512826683774, 0.0003414615785690707, 0.0058048468356742015, 0.6099741152059478, 0.12136706237373918, 0.26784455144549335, 0.9906441993696801, 0.009010167442807047, 0.9969247189861159, 0.17796685113056013, 0.5666839207052046, 0.22480023300702331, 0.030441698219701073, 0.22836808884709348, 0.767789264227297, 0.8730434227002057, 0.09082783590423665, 0.03445193775677942, 0.9982689816656639, 0.9932287057021241, 0.9966268468229519, 0.23720257242912934, 0.7608628962617427, 0.9908803828534463, 0.9966149687060409, 0.9970909699286067, 0.1382454646065102, 0.7766142276424542, 0.08132086153324128, 0.9940794766948352, 0.37693402523014824, 0.6203087501818975, 0.9423082579520998, 0.012472644049663795, 0.044277886376306475, 0.9894020178276112, 0.9990011238371005, 0.996968672283631, 0.998141244031038, 0.9989728737114514, 0.986997217000707, 0.3222767238297947, 0.6678105308225644, 0.008306101129633885, 0.9912045190994764, 0.9952399687495748, 0.996075814263486, 0.9926436212986252, 0.9974304348317403, 0.8735192263939107, 0.12524724201971513, 0.8250067812416, 0.17459320517457766, 0.9905497399600607, 0.090037913899655, 0.22509478474913752, 0.06602780352641367, 0.6152590783143091, 0.9967733778355096, 0.10478231868334352, 0.17717737522819904, 0.7163300331806757, 0.9971279838937027, 0.018819700418991704, 0.9786244217875686, 0.3829409153479525, 0.14337598252364098, 0.25517295117498634, 0.09001833839458978, 0.12813094134391206, 0.9974849483257905, 0.9926721100737974, 0.9894334792344349, 0.9966682703721514, 0.996690930883593, 0.9956907391746422, 0.9911647476266934, 0.9959748086650265, 0.0923057824306698, 0.6349518973261226, 0.2727216299087971, 0.9941471158425217, 0.9880058673346281, 0.98412469558657, 0.01428568106496634, 0.7193056347916268, 0.2745441354166514, 0.9940466528615605, 0.9979904287572267, 0.9914286853020298, 0.9990775030949386, 0.9925176220298854, 0.9904527897689598, 0.9945101833328764, 0.9969205151480277, 0.9905157835864057, 0.0011123141870706408, 0.0081569707051847, 0.9961889800042633, 0.9939441472570263, 0.5183156381249467, 0.3269017062547834, 0.09953524457248497, 0.025632822180874055, 0.02929465392099892, 0.9924234368244204, 0.9476250035449352, 0.025077913945164388, 0.027212204493689017, 0.7946375024045823, 0.20195207243431373, 0.9988727056310825, 0.9949327518971202, 0.8531516265300384, 0.08116896421088049, 0.06559329810554937, 0.5368987690465563, 0.46226261729568974, 0.9991713757766841, 0.42999287535528713, 0.35593434849268935, 0.19194761043979425, 0.008312691790699751, 0.012846887312899615, 0.9981930743468747, 0.0456433069360234, 0.9531396448404886, 0.9997192332909219, 0.9977121931990067, 0.9927068062566019, 0.9991900782554572, 0.9988783938400311, 0.9994140485327113, 0.46103228571137717, 0.028927515966204055, 0.11028615462115296, 0.3995613142831935, 0.9948460281077316, 0.9921397303264399, 0.990682916575904, 0.00924637388804177, 0.9971390249549806, 0.9947092117442932, 0.005309391278830658, 0.6882298445184241, 0.0066367390985383225, 0.2986532594342245, 0.9944575674218136, 0.32343887456563836, 0.22507344364103699, 0.1033670630055133, 0.34677982427656073, 0.9987771365562133, 0.9972655448193313, 0.9944847536867228, 0.995713562911354, 0.9928923322368054, 0.9943149488781226, 0.9319191715996865, 0.06785950451741263, 0.9961662635256636, 0.9964970818515274, 0.9965500791641675, 0.9927126715076149, 0.9959644405143643, 0.9985482577026729, 0.995530733138888, 0.9991592901870823, 0.9932648220828947, 0.9889424324027306, 0.9962487415057484, 0.9895949735431, 0.9942298385880438, 0.02452169283472492, 0.36615345891850615, 0.030652116043406147, 0.5784890264191924, 0.9984308250085077, 0.9993561577269394, 0.8150765382662837, 0.18490162210670325, 0.993198343253601, 0.9889931372013283, 0.9967912030205746, 0.9954198891254499, 0.9984811060031292, 0.06126138466616075, 0.9364240227541715, 0.38480194394424194, 0.6135303721628473, 0.9956374753504891, 0.9959608087526105, 0.998931016806612, 0.9942623542008877, 0.9913621851694476, 0.9922608438780101, 0.9925955421344567, 0.9977548305864835, 0.4680635823675825, 0.07184231729362894, 0.15892391401317918, 0.10957767587210071, 0.007982479699292106, 0.16763207368513422, 0.01596495939858421, 0.9987525137576655, 0.9980540059992412, 0.9956933211184831, 0.9933245474278041, 0.9804267330336754, 0.9971497903251006, 0.73201973658924, 0.10858604788280288, 0.15851066759903407, 0.9997626126336384, 0.9952321716836843, 0.9961749377349739, 0.932073006664307, 0.06720002014340042, 0.9926231412831563, 0.9946988909039925, 0.8432207882051715, 0.1566207467773208, 0.25758185798561023, 0.7366841138388452, 0.9973428782559609, 0.04114169206736793, 0.8773913025671292, 0.08049461491441552, 0.5650462108211597, 0.041094269877902524, 0.12086549964088979, 0.2725517016902065, 0.9975569481669065, 0.9976771208785442, 0.6691067645279928, 0.021074228804031266, 0.308586921773315, 0.4094628883771799, 0.10555558878845149, 0.14615389216862512, 0.044078157955617106, 0.2946276873875459, 0.9970890208943652, 0.9924644828077179, 0.025727070966808235, 0.4730922494451959, 0.5002486021323823, 0.9940328585654311, 0.9967511713091343, 0.9245736015155084, 0.07504994285131522, 0.08545698295658893, 0.9132167786537445, 0.9992139967148366, 0.9216431181215868, 0.07832755683591995, 0.9934567457659041, 0.040210741266271235, 0.947465591086516, 0.011728132869329111, 0.9371584147182891, 0.06283758656726812, 0.012550775171973597, 0.5538029544633349, 0.4330017434330891, 0.9956206859968606, 0.9977897348474093, 0.9384035307330834, 0.061073429056851494, 0.6833459425165704, 0.14951653523458186, 0.13622617654706348, 0.02990330704691637, 0.9992720046859033, 0.02555358239083291, 0.5049874615331266, 0.39668894568626323, 0.07179339814567341, 0.9914780744269431, 0.9858653883522628, 0.9951014387614909, 0.14506430777753873, 0.8530647352888099, 0.9992616401235359, 0.6277801492052266, 0.28997948545136076, 0.08224564353445027, 0.9936491623395312, 0.4620199235560427, 0.173863569434133, 0.3636588603701985, 0.9938578712960416, 0.9910117242571616, 0.9895340557597779, 0.995332411593539, 0.18974476893444917, 0.5744566398932864, 0.21028594575487577, 0.02541535437103631, 0.9961177194086823, 0.9978315933124867, 0.9954630910284551, 0.9955151666510277, 0.9961982212920361, 0.9972807234492209, 0.9985184031874876, 0.9992152332068938, 0.9927262355475517, 0.22000025883661625, 0.40177156709844875, 0.36703468412424617, 0.003308274568971673, 0.007903100359210108, 0.9991622559953077, 0.21581086016268547, 0.7639409491863627, 0.019172263203518756, 0.9819449904053057, 0.9931725529620256, 0.9966648456213217, 0.01939270843617195, 0.9784502892795848, 0.9981934797056402, 0.11487396621726262, 0.05898933400345918, 0.4463008822630135, 0.3779974428905871, 0.9936448756471242, 0.08625204790394625, 0.2443808023945144, 0.5390752993996641, 0.12937807185591937, 0.9900905562667359, 0.9267952354093696, 0.06044316752669802, 0.9900205494740341, 0.9941981100605031, 0.9620978884010339, 0.03469102962984497, 0.9930503533066385, 0.9992620771527929, 0.9975330900351417, 0.9965866904295538, 0.9966576687333788, 0.996583653174796, 0.9921986005168179, 0.13750911345089237, 0.860231430657908, 0.08930274920685632, 0.9094300378412511, 0.310761876440291, 0.6884570801138755, 0.9926458071330626, 0.9895948242797901, 0.009884964948410778, 0.9978883534752901, 0.9921357554446623, 0.9942604111072189, 0.9982176104814926, 0.9970313963340702, 0.9969320111623702, 0.9955009674361998, 0.9922823353516393, 0.9162564356873385, 0.07656944098954055, 0.006626201624094855, 0.9977430770202536, 0.6533778362685383, 0.34614872733721297, 0.2739105626718403, 0.25588100664787106, 0.46322090092351725, 0.0062410001621431965, 0.9779687381266031, 0.01817785758599634, 0.988453620265691, 0.9982710259699127, 0.9805003366251347, 0.165862305620398, 0.5946007182618042, 0.07197798168432366, 0.165862305620398, 0.1977287088225909, 0.580177658782076, 0.09886435441129544, 0.08065249965131997, 0.04162709659422966, 0.9981048714230885, 0.5848173714190648, 0.33249446727863935, 0.05313696626602554, 0.02610236939383711, 0.003107424927837751, 0.9912010895365427, 0.7880380725596033, 0.20847568057132365, 0.989954424594813, 0.9917024446274609, 0.3276687160218902, 0.6704300516908492, 0.0015886968049546191, 0.12635566212161545, 0.19439332634094683, 0.6775995946741575, 0.9948457177199733, 0.5544852224410263, 0.19803043658608083, 0.006601014552869361, 0.24011190436062302, 0.9987100964423984, 0.9986797101252509, 0.9964938299463058, 0.9955401142158423, 0.9920317590122609, 0.03931231499912588, 0.8329960799814781, 0.011687444999740126, 0.09881203499780289, 0.015937424999645625, 0.8477873192956291, 0.04935144478228195, 0.006168930597785244, 0.02996337718924261, 0.06653632287611226, 0.9974792682518374, 0.9967224063974044, 0.994941644789416, 0.9854847360920277, 0.9933985873104243, 0.3646944192514966, 0.5135492842521074, 0.017862583800073304, 0.10122130820041539, 0.4390715331881187, 0.5566799795777934, 0.9966019174988806, 0.9983173961454911, 0.9879539704963571, 0.9940467627925667, 0.9962305593868063, 0.10340554511503566, 0.20480969258268353, 0.6604612236379698, 0.030020964710816805, 0.9933553784685691, 0.0027545383111780082, 0.00344317288897251, 0.41014508801299154, 0.14444240056109703, 0.019615634644099596, 0.42441100411779126, 0.9478685206371045, 0.05154572015549209, 0.14024021947720375, 0.8589713442978729, 0.9890237704028074, 0.5885078960959454, 0.40691117387205367, 0.9977040091861955, 0.9958191936241411, 0.9234844601457997, 0.07550501875405909, 0.9982388882414229, 0.984983956006572, 0.0005914138818145481, 0.41576395891562734, 0.5151214910604714, 0.04731311054516385, 0.020699485863509184, 0.9935741699657978, 0.9926355622367344, 0.9978546925605383, 0.9945453487059054, 0.999085315430943, 0.9967265158167455, 0.9945524526574515, 0.988892250571553, 0.0005311628213238204, 0.7944425264266607, 0.20485179475722007, 0.2044832007884433, 0.7940321692953837, 0.9980595089516995, 0.9955267741017488, 0.9719545052548821, 0.017873068835685225, 0.009362083675835117, 0.9964496890905716, 0.9973637645892147, 0.9984212272974676, 0.2944252236228503, 0.6289993413760893, 0.07494460237672552, 0.997687430609747, 0.9980596213260294, 0.9941083387891393, 0.9916001330803875, 0.48715330439002696, 0.08549135145119989, 0.2233093059458066, 0.20341045690113077, 0.9966582866175618, 0.9931013154958461, 0.9991302508148184, 0.9989932419552672, 0.9956873298762022, 0.30096309422041717, 0.5466242198778327, 0.06621188072849178, 0.08615068572059442, 0.1577511059636115, 0.8387100467065345, 0.9958705138833323, 0.9960964067351555, 0.3309147593157188, 0.6683500064997276, 0.3968459490500467, 0.21357527439784332, 0.3463382828073135, 0.042811259958126256, 0.9939179351491803, 0.09274933463425057, 0.8996685459522306, 0.12535024411622883, 0.1427830595231216, 0.6798798008688174, 0.050638178086688475, 0.997032204571716, 0.9946871436581698, 0.9956558209497318, 0.9942060697685817, 0.9970433753689778, 0.9983684776531715, 0.9986148568919228, 0.4420934064691471, 0.34170538403947176, 0.0057916166786351145, 0.20946346987730333, 0.3622372094391691, 0.6327076591537487, 0.997069507394986, 0.9948459643502989, 0.9931491572048109, 0.998469027947489, 0.9900525902419736, 0.9490908650009378, 0.0486713264103045, 0.985772899820921, 0.9239260756026896, 0.0006967768292629635, 0.07525189756040006, 0.6168918858409257, 0.08655795484006512, 0.2903020639251415, 0.005992473796619893, 0.9940845458986907, 0.9946588435462808, 0.10068133062919503, 0.6944556171203989, 0.2048005603530455, 0.994401059815747, 0.9924991203070096, 0.23524391480473905, 0.08037500422495251, 0.6822073529337432, 0.9990864921309904, 0.13933318600478334, 0.724256659925854, 0.12001967507342723, 0.016554437941162375, 0.0563915730802718, 0.9079860535098836, 0.03514257452828532, 0.9988106276938038, 0.9984044264554587, 0.29892577224623473, 0.16071278077754556, 0.5367806877970022, 0.4039954278950908, 0.3562911707266668, 0.23852128584212, 0.9439904299927524, 0.052327629157026184, 0.0034885086104684123, 0.9971397119003651, 0.3258296339429081, 0.47605510587387195, 0.18788417334145074, 0.009414675352621716, 0.11357870426660234, 0.3699420653255048, 0.5159718279539934, 0.9953237894233834, 0.9944650037475712, 0.13437574039411115, 0.28289629556654977, 0.44414718403948317, 0.13720470334977664, 0.9958877854481542, 0.9921086121145153, 0.9937820199724672, 0.9978098980915764, 0.9352189671847642, 0.06455969859760596, 0.9997220050766322, 0.8735067438865101, 0.07577407898774545, 0.04946363489477828, 0.06168579829010806, 0.07257152740012712, 0.1415144784302479, 0.6966866630412204, 0.025400034590044494, 0.9980433630881279, 0.9951226086259772, 0.9970204732297611, 0.9894959163786659, 0.9981956624290517, 0.9975796270680054, 0.9951976075701808, 0.9979983524768333, 0.9969930044982854, 0.9993841674088854, 0.08029162612722035, 0.916878569323742, 0.09950199977830004, 0.899308550377207, 0.34644169180174067, 0.5567812903956547, 0.09544822121068366, 0.9896963577004962, 0.9967936944595146, 0.9969925758660295, 0.9940185077980705, 0.8316395116640148, 0.11845310551891013, 0.04935546063287922, 0.9984566149178548, 0.9978611502754845, 0.9860801269931289, 0.630490178467766, 0.3673290604986115, 0.9944963822622797, 0.4396839840333956, 0.195583565311407, 0.031081109216153827, 0.0773237351231144, 0.25622963207463395, 0.9978868664377706, 0.386876468084636, 0.09338397505491214, 0.5180587187570126, 0.9903912555807013, 0.9968551942710411, 0.9975530698185621, 0.9912374638146434, 0.9962237454665456, 0.9985696862127906, 0.18363835273914145, 0.23698092186813016, 0.3685884079978482, 0.18932239699059106, 0.021424474486233167, 0.9843301317511249, 0.9847031969491251, 0.015020304174818155, 0.5033965122990982, 0.49290908495953367, 0.9803736557746641, 0.018520912892468464, 0.2195270485803717, 0.7731169971743526, 0.9969540542881089, 0.9915852248151565, 0.330530455965254, 0.5700678217000734, 0.09908136491758437, 0.2541599209167927, 0.7449514923423235, 0.9903836744690643, 0.1959595708103605, 0.07492571825102019, 0.7262031153560419, 0.9917154940716673, 0.9983668569767611, 0.9956001330802077, 0.9946977693947519, 0.998741822319982, 0.9979705960332657, 0.9976353444873902, 0.997550056480909, 0.15163200843877475, 0.8408684104332054, 0.9966670346390886, 0.9978372328451073, 0.9982730573245078, 0.9980706790501461, 0.7277032014949065, 0.2690492636437849, 0.003233210035204282, 0.997867262115759, 0.9975817795976383, 0.02582701798690492, 0.059213163189489326, 0.9146543930972181, 0.9995699145345677, 0.9968459734263218, 0.9933776507703564, 0.47583148650991813, 0.2442098105368363, 0.27693896040259786, 0.9976592483381752, 0.03724434154153096, 0.9574899471301919, 0.00465554269269137, 0.009863004012278076, 0.12558891775634085, 0.49906800302127063, 0.02104107522619323, 0.3445476068289141, 0.9962815005530927, 0.9966945144181442, 0.8724458327463159, 0.12610573983648815, 0.9948807523665714, 0.9953044311158752, 0.9926311619473185, 0.1084143783573513, 0.8885265356678573, 0.9907709933620019, 0.9967883359403853, 0.9948663133717013, 0.9905120863279975, 0.9959570290739077, 0.9984534443872943, 0.0453030607818696, 0.054363672938243526, 0.8542862890295411, 0.0453030607818696, 0.9934561297334581, 0.9981537506409882, 0.9890041537790651, 0.9976531273478794, 0.9937243011831786, 0.9950723791746934, 0.3088231355114938, 0.6902011040648447, 0.9944264695599655, 0.9957642443354157, 0.999405741276724, 0.9958311907883399, 0.998226126717624, 0.7094770315543751, 0.2885206594987792, 0.9960216349904287, 0.8453388739292413, 0.15081163009066278, 0.9984390777798177, 0.9963178260485509, 0.7906719221757408, 0.0037651043913130514, 0.07153698343494798, 0.13303368849306116, 0.008312368433856873, 0.12317418679260639, 0.045340191457401126, 0.6937049292982372, 0.1277082059383465, 0.000755669857623352, 0.41485037815107023, 0.050488889835830046, 0.5334992692652708, 0.9982816687734319, 0.9971580086323106, 0.9955208772141219, 0.989633924124971, 0.9921224176061088, 0.12833430918096045, 0.8693121657615059, 0.9977570840069688, 0.9941387290469376, 0.031125059972695348, 0.9677064100601644, 0.9951620968187184, 0.9953566353001678, 0.11128041190105438, 0.2931810852008548, 0.017120063369392983, 0.17655065349686513, 0.03477512871907949, 0.16264060200923333, 0.2043707564721287, 0.9969383623343739, 0.9942780304093758, 0.9933309669460395, 0.9971616205047169, 0.8904668179998433, 0.1065515850598103, 0.9944588240966203, 0.8456772297831361, 0.07831286433349546, 0.06254858644818144, 0.012713127326866146, 0.9825598355187829, 0.265852186949726, 0.25695336897651344, 0.21802104034370837, 0.10567346343189946, 0.15239225779126553, 0.9905999364850044, 0.990234984275194, 0.13078308801034877, 0.8656594873065944, 0.9943481954483144, 0.9891713951448557, 0.008084560720195042, 0.9822741275036975, 0.004042280360097521, 0.6465564214010484, 0.14288539699470681, 0.20896989310475872, 0.05594429756731968, 0.9234349876934793, 0.019828358631455077, 0.9438352572422354, 0.05558026596628213, 0.985239346487103, 0.9943534565400699, 0.9881532590128863, 0.9953289723367397, 0.993403722125089, 0.9997605516742375, 0.22457003218132782, 0.19305143117342216, 0.5752144683942783, 0.7826610749133058, 0.14105421611310698, 0.07592980577517146, 0.9940530355809684, 0.8243765628334933, 0.05136818783485084, 0.09610822240068866, 0.02734113223467867, 0.9962859723050318, 0.9981952501973514, 0.9977936761984468, 0.9928895396675678, 0.9969924362182828, 0.9994883509950456, 0.9932405973356472, 0.4334471211665785, 0.5655452914268692, 0.9903805583946899, 0.9968352414095542, 0.9979834305303276, 0.9983856734409119, 0.3731625399190156, 0.5362958951789933, 0.09018428730588454, 0.9973879590716921, 0.9975272196438945, 0.9964377775001342, 0.6796569759870374, 0.32014145437535585, 0.6944112289805937, 0.30532478161403537, 0.0001801326145215548, 0.9931650979398688, 0.2775317124341009, 0.1976938225557979, 0.09124330271806057, 0.4334056879107877, 0.1371412029962873, 0.22658111799386596, 0.5575088034849071, 0.0775145929979015, 0.9916856671780752, 0.996001330721726, 0.7640043417167593, 0.10371679052356006, 0.11118610671352838, 0.020273858229914003, 0.0004268180679981896, 0.9892123934607758, 0.9863836551203115, 0.9958993862481249, 0.27054551872779053, 0.189090953949531, 0.42472737348663886, 0.11490911816933037, 0.9948275844923653, 0.994499807371034, 0.9969111254699523, 0.994192442760891, 0.9965420907906081, 0.9956535149513314, 0.8505840770809234, 0.14721647487939057, 0.9965047557108594, 0.997524104524841, 0.9926540334625917, 0.9981415691396444, 0.9978575449694198, 0.9936886032791002, 0.9735740978449838, 0.025070577626909455, 0.9981204479399923, 0.9987500183268764, 0.8195120725515213, 0.12823183343339928, 0.05207384098818244, 0.9934802897186708, 0.9967928724772106, 0.9956078014102903, 0.9844981686453899, 0.008369803771693007, 0.006277352828769755, 0.9955754117577801, 0.9520541004524624, 0.04665958573646062, 0.9980353276010332, 0.9903181092229397, 0.9900172597906791, 0.997017057520824, 0.9955047020858829, 0.9947407385681091, 0.9899690602778226, 0.9933156163794165, 0.9949984093333311, 0.9926535047990525, 0.9943560857627055, 0.0285971862721045, 0.0015280939229368816, 0.8522398107350837, 0.11744493293429176, 0.046827643105176835, 0.20194421089107512, 0.48144670567509934, 0.26779558400773, 0.9899152029652606, 0.9943661927716101, 0.9831098011599084, 0.28596007826450964, 0.7090243036421403, 0.9897321884087756, 0.2407893800463526, 0.7578142925316682, 0.9934338184925946, 0.9946175973253704, 0.9985958752390661, 0.8848702092884385, 0.10266449942020557, 0.01222196421669114, 0.9971151776723446, 0.9925519500454287, 0.99788196233058, 0.992653129892291, 0.9978513279080578, 0.9975826628417805, 0.9742733344262916, 0.02544412595222019, 0.9974982306826553, 0.9895335227554991, 0.9895202085075882, 0.9945991914136731, 0.8438082333788277, 0.15341967879615048, 0.993671122848665, 0.9929709743963826, 0.6442332123753738, 0.3019100294157656, 0.007131732978325172, 0.04618646119296301, 0.9968739471595764, 0.8987483015493616, 0.10012900540751277, 0.9953561787253254, 0.9947585509649508, 0.7603809307363297, 0.14335313202831693, 0.043615270594745195, 0.052594885128957436, 0.992478091027066, 0.9977937558237668, 0.7386006648255007, 0.2599256695030508, 0.9880989955909855, 0.9993783599894986, 0.14804303828968793, 0.8514893705550678, 0.9915519941528117, 0.9991742729791598, 0.9973872175985435, 0.99452627733226, 0.999019862613932, 0.9885847011802293, 0.9945276297294839, 0.997278219609562, 0.15033895999366767, 0.8495056896027727, 0.9986453297703103, 0.9389446969147505, 0.037472137277099506, 0.022483282366259703, 0.545384606052685, 0.38147757471492616, 0.02537350840993775, 0.04753887207838912, 0.994175563971417, 0.029731991480084655, 0.836099639197532, 0.0900969438790444, 0.04324653306194132, 0.997898448014972, 0.8751136079351323, 0.12277490287763806, 0.0019922905132273927, 0.9620949861107836, 0.037871493925840334, 0.29626557822953953, 0.11816699589689648, 0.20410662927645756, 0.006502011735953634, 0.3717454535990882, 0.0031096577867604338, 0.9907141626023802, 0.9984189993894749], \"Term\": [\"accelerator\", \"accept\", \"accept\", \"access\", \"access\", \"access\", \"accident\", \"acquire\", \"add\", \"address\", \"adult\", \"adult\", \"advance\", \"advance\", \"advertising\", \"advice\", \"advocate\", \"age\", \"age\", \"age\", \"age\", \"age\", \"agree\", \"aid\", \"air\", \"algorithm\", \"allow\", \"allow\", \"allow\", \"allow\", \"also\", \"also\", \"also\", \"also\", \"also\", \"also\", \"amendment\", \"american\", \"american\", \"american\", \"animal\", \"announce\", \"anyway\", \"anywhere\", \"apple\", \"application\", \"application\", \"application\", \"appreciate\", \"arab\", \"area\", \"area\", \"area\", \"area\", \"argue\", \"argument\", \"arm\", \"arm\", \"armenian\", \"arrogance\", \"article\", \"article\", \"assist\", \"assumption\", \"assumption\", \"atheist\", \"attack\", \"attitude\", \"audio\", \"author\", \"auto\", \"auto\", \"available\", \"available\", \"available\", \"average\", \"award\", \"ax\", \"back\", \"back\", \"back\", \"bad\", \"bad\", \"bad\", \"ball\", \"base\", \"base\", \"base\", \"baseball\", \"battery\", \"be\", \"beat\", \"beautiful\", \"become\", \"become\", \"become\", \"begin\", \"begin\", \"begin\", \"begin\", \"begin\", \"belief\", \"believe\", \"bend\", \"benefit\", \"benign\", \"bike\", \"biker\", \"bit\", \"bit\", \"bit\", \"black\", \"blank\", \"blanking\", \"blind\", \"block\", \"blood\", \"blood\", \"blow\", \"blow\", \"blue\", \"book\", \"border\", \"box\", \"boy\", \"boy\", \"brain\", \"break\", \"break\", \"brother\", \"btw\", \"build\", \"build\", \"burn\", \"burn\", \"bus\", \"buyer\", \"byte\", \"ca\", \"ca\", \"call\", \"call\", \"call\", \"call\", \"call\", \"can\", \"can\", \"can\", \"canadian\", \"cap\", \"capable\", \"capable\", \"capable\", \"car\", \"card\", \"carry\", \"carry\", \"carry\", \"carry\", \"case\", \"case\", \"case\", \"case\", \"case\", \"case\", \"cause\", \"cause\", \"cause\", \"cause\", \"cd\", \"certain\", \"certain\", \"certainly\", \"channel\", \"character\", \"character\", \"cheap\", \"child\", \"child\", \"child\", \"chip\", \"chip\", \"choose\", \"christian\", \"church\", \"circuit\", \"city\", \"city\", \"civilian\", \"claim\", \"clear\", \"clear\", \"clearly\", \"client\", \"clipper\", \"clock\", \"club\", \"coach\", \"cold\", \"color\", \"com\", \"come\", \"come\", \"come\", \"come\", \"comet\", \"communication\", \"community\", \"community\", \"compare\", \"compare\", \"compare\", \"compatible\", \"compression\", \"compromise\", \"computer\", \"computer\", \"computer\", \"computer\", \"computer\", \"concept\", \"concept\", \"concern\", \"concern\", \"concern\", \"concern\", \"conclusion\", \"condition\", \"condition\", \"condition\", \"condition\", \"condition\", \"condition\", \"conference\", \"configuration\", \"confirm\", \"connect\", \"connect\", \"connection\", \"consistent\", \"consistent\", \"consultation\", \"contain\", \"contain\", \"contain\", \"contest\", \"contradict\", \"contrary\", \"contribute\", \"controller\", \"conversation\", \"convert\", \"convince\", \"cool\", \"cop\", \"copy\", \"corporation\", \"correctly\", \"cost\", \"cost\", \"cost\", \"could\", \"could\", \"could\", \"could\", \"country\", \"country\", \"cover\", \"cover\", \"cover\", \"cover\", \"cpu\", \"crash\", \"create\", \"create\", \"create\", \"create\", \"crime\", \"crime\", \"criminal\", \"criminal\", \"cross\", \"cry\", \"cure\", \"currently\", \"cycle\", \"damage\", \"dangerous\", \"datum\", \"datum\", \"daughter\", \"dealer\", \"dealer\", \"death\", \"death\", \"death\", \"decade\", \"decent\", \"default\", \"defense\", \"define\", \"define\", \"define\", \"degree\", \"degree\", \"deliver\", \"dept\", \"describe\", \"describe\", \"describe\", \"design\", \"design\", \"detail\", \"detail\", \"detailed\", \"detect\", \"development\", \"device\", \"devil\", \"di_di\", \"diagnose\", \"diagnosis\", \"die\", \"die\", \"differential\", \"digital\", \"direct\", \"direction\", \"disclaimer\", \"discussion\", \"discussion\", \"discussion\", \"disease\", \"disk\", \"display\", \"distance\", \"distant\", \"distribution\", \"distribution_usa\", \"division\", \"division\", \"dn\", \"doctor\", \"door\", \"dream\", \"drink\", \"drive\", \"driver\", \"driver\", \"drop\", \"drug\", \"drug\", \"due\", \"due\", \"due\", \"due\", \"due\", \"earth\", \"earth\", \"eat\", \"echo\", \"economic\", \"edge\", \"education\", \"educational\", \"eeg\", \"effect\", \"effect\", \"effect\", \"effect\", \"egg\", \"electronic\", \"element\", \"email\", \"encrypt\", \"encryption\", \"energy\", \"engine\", \"enjoyable\", \"ensure\", \"entry\", \"environment\", \"environment\", \"environment\", \"environment\", \"equipment\", \"equipment\", \"error\", \"error\", \"error\", \"escape\", \"essentially\", \"este\", \"estimate\", \"ethnic\", \"even\", \"even\", \"even\", \"even\", \"ever\", \"ever\", \"ever\", \"evidence\", \"evidence\", \"evil\", \"exactly\", \"exactly\", \"exactly\", \"exactly\", \"examine\", \"examine\", \"exist\", \"exist\", \"exist\", \"existence\", \"expansion\", \"expensive\", \"explain\", \"explain\", \"explicitly\", \"export\", \"external\", \"extra\", \"extra\", \"extra\", \"extremely\", \"eye\", \"eye\", \"fact\", \"fact\", \"fact\", \"fair\", \"faith\", \"family\", \"fan\", \"faq\", \"farin\", \"fast\", \"fast\", \"fast\", \"father\", \"fax\", \"federal\", \"few\", \"field\", \"fight\", \"fight\", \"file\", \"file\", \"film\", \"final\", \"final\", \"final\", \"final\", \"finish\", \"fire\", \"fire\", \"fire\", \"firearm\", \"firm\", \"firm\", \"first\", \"first\", \"first\", \"first\", \"first\", \"flight\", \"floor\", \"fold\", \"folk\", \"font\", \"food\", \"fool\", \"foot\", \"force\", \"force\", \"force\", \"frame\", \"freenet\", \"friend\", \"friend\", \"fuel\", \"fuel\", \"fun\", \"function\", \"funny\", \"game\", \"gang\", \"gas\", \"gay\", \"generate\", \"get\", \"get\", \"get\", \"gift\", \"girl\", \"give\", \"give\", \"give\", \"give\", \"give\", \"glock\", \"go\", \"go\", \"go\", \"goal\", \"goal\", \"god\", \"gold\", \"good\", \"good\", \"good\", \"government\", \"government\", \"graphic\", \"great\", \"great\", \"great\", \"great\", \"great\", \"greek\", \"ground\", \"ground\", \"group\", \"guess\", \"guilty\", \"gun\", \"hardware\", \"have\", \"head\", \"head\", \"head\", \"head\", \"headache\", \"health\", \"hear\", \"hear\", \"helmet\", \"hide\", \"high\", \"high\", \"high\", \"high\", \"hint\", \"history\", \"history\", \"history\", \"history\", \"hit\", \"hockey\", \"hole\", \"homosexual\", \"honor\", \"horse\", \"host\", \"host\", \"hot\", \"house\", \"ice\", \"icon\", \"ide\", \"ill\", \"illegal\", \"image\", \"imho\", \"immediate\", \"impact\", \"implementation\", \"imply\", \"include\", \"include\", \"include\", \"include\", \"indeed\", \"info\", \"information\", \"information\", \"inhabitant\", \"injury\", \"input\", \"insert\", \"instal\", \"insurance\", \"insurance\", \"interested\", \"interested\", \"interface\", \"internal\", \"internet\", \"interpretation\", \"investigation\", \"islamic\", \"islander\", \"israeli\", \"issue\", \"issue\", \"issue\", \"issue\", \"issue\", \"issue\", \"issue\", \"item\", \"jewish\", \"judge\", \"jumper\", \"jungle\", \"justify\", \"keep\", \"keep\", \"keep\", \"key\", \"keyboard\", \"kid\", \"kill\", \"kill\", \"king\", \"knife\", \"know\", \"know\", \"laboratory\", \"laboratory\", \"language\", \"large\", \"large\", \"large\", \"last\", \"last\", \"last\", \"last\", \"laugh\", \"launch\", \"law\", \"law\", \"law\", \"lead\", \"lead\", \"lead\", \"lead\", \"lead\", \"lebanese\", \"leg\", \"level\", \"level\", \"level\", \"liar\", \"library\", \"life\", \"life\", \"light\", \"light\", \"like\", \"line\", \"line\", \"link\", \"list\", \"list\", \"list\", \"little\", \"little\", \"live\", \"live\", \"live\", \"localtalk\", \"logic\", \"look\", \"look\", \"lose\", \"lose\", \"lose\", \"lose\", \"lot\", \"low\", \"low\", \"low\", \"low\", \"lunar\", \"luxury\", \"mac\", \"machine\", \"machine\", \"mail\", \"make\", \"make\", \"make\", \"male\", \"man\", \"man\", \"man\", \"manage\", \"management\", \"manufacture\", \"manufacturer\", \"many\", \"many\", \"many\", \"many\", \"map\", \"market\", \"marriage\", \"mass\", \"master\", \"material\", \"matter\", \"max\", \"maxtor\", \"may\", \"may\", \"may\", \"may\", \"may\", \"maybe\", \"mean\", \"mean\", \"mean\", \"mechanic\", \"medical\", \"medium\", \"member\", \"member\", \"memory\", \"message\", \"message\", \"message\", \"message\", \"metal\", \"method\", \"method\", \"method\", \"method\", \"mhz\", \"mid\", \"mid\", \"migraine\", \"mile\", \"military\", \"military\", \"militia\", \"mind\", \"mine\", \"minor\", \"minority\", \"miracle\", \"mirror\", \"mission\", \"mission\", \"mode\", \"mode\", \"model\", \"model\", \"modem\", \"money\", \"money\", \"monitor\", \"moon\", \"morality\", \"motif\", \"motorcycle\", \"mount\", \"mouse\", \"msg\", \"much\", \"much\", \"much\", \"murder\", \"must\", \"must\", \"name\", \"name\", \"name\", \"name\", \"national\", \"national\", \"national_capital\", \"nature\", \"necessarilly\", \"necessarily\", \"necessarily\", \"necessarily\", \"necessarily\", \"necessary\", \"necessary\", \"necessary\", \"necessary\", \"necessary\", \"nee\", \"need\", \"need\", \"need\", \"need\", \"need\", \"negative\", \"network\", \"network\", \"neurologist\", \"neutral\", \"new\", \"new\", \"new\", \"news\", \"news\", \"news\", \"newspaper\", \"next\", \"next\", \"next\", \"next\", \"nice\", \"nntp_poste\", \"nntp_posting\", \"noise\", \"northern\", \"note\", \"note\", \"note\", \"note\", \"note\", \"number\", \"number\", \"number\", \"number\", \"number\", \"object\", \"objective\", \"observation\", \"occupant\", \"offense\", \"offer\", \"offer\", \"offer\", \"offer\", \"official\", \"official\", \"oil\", \"operate\", \"opponent\", \"optional\", \"orbit\", \"order\", \"order\", \"order\", \"order\", \"organization\", \"organization\", \"organization\", \"original\", \"original\", \"original\", \"original\", \"originator\", \"originator\", \"overall\", \"overall\", \"own\", \"owner\", \"owner\", \"package\", \"pad\", \"page\", \"page\", \"pain\", \"park\", \"part\", \"part\", \"part\", \"part\", \"part\", \"past\", \"patent\", \"patient\", \"pattern\", \"pc\", \"pen\", \"penalty\", \"penguin\", \"people\", \"people\", \"people\", \"performance\", \"performance\", \"period\", \"permit\", \"person\", \"person\", \"person\", \"personally\", \"pgp\", \"physical\", \"pick\", \"pick\", \"pick\", \"picture\", \"pin\", \"pitch\", \"pitcher\", \"place\", \"place\", \"place\", \"place\", \"plane\", \"planet\", \"play\", \"player\", \"playoff\", \"point\", \"point\", \"point\", \"point\", \"police\", \"police\", \"population\", \"port\", \"possible\", \"possible\", \"post\", \"post\", \"post\", \"post\", \"pot\", \"pound\", \"pound\", \"power\", \"power\", \"power\", \"power\", \"practice\", \"prayer\", \"predict\", \"prediction\", \"president\", \"press\", \"pretty\", \"price\", \"price\", \"price\", \"price\", \"primarily\", \"primarily\", \"principle\", \"printer\", \"privacy\", \"private\", \"prize\", \"pro\", \"pro\", \"probability\", \"probably\", \"probably\", \"probably\", \"problem\", \"problem\", \"problem\", \"problem\", \"processor\", \"professional\", \"program\", \"program\", \"program\", \"promise\", \"proposal\", \"protect\", \"protect\", \"protect\", \"prove\", \"provide\", \"provide\", \"provide\", \"provide\", \"public\", \"public\", \"public\", \"publish\", \"pull\", \"purchase\", \"purchase\", \"purchase\", \"purpose\", \"purpose\", \"purpose\", \"put\", \"put\", \"put\", \"quality\", \"question\", \"question\", \"question\", \"question\", \"race\", \"race\", \"race\", \"ram\", \"random\", \"rate\", \"rate\", \"rate\", \"rate\", \"rational\", \"react\", \"realistic\", \"reality\", \"really\", \"really\", \"reason\", \"receive\", \"receive\", \"receive\", \"recent\", \"recent\", \"recent\", \"recent\", \"recent\", \"recommend\", \"registration\", \"release\", \"relevant\", \"religion\", \"religious\", \"remind\", \"remove\", \"replace\", \"report\", \"request\", \"request\", \"require\", \"require\", \"research\", \"research\", \"research\", \"researcher\", \"resolution\", \"respect\", \"restraint\", \"return\", \"return\", \"return\", \"revelation\", \"review\", \"revolver\", \"ride\", \"ride\", \"rider\", \"right\", \"right\", \"right\", \"right\", \"right\", \"ripem\", \"risk\", \"risk\", \"risk\", \"rock\", \"role\", \"route\", \"routine\", \"rsa\", \"rule\", \"run\", \"run\", \"run\", \"run\", \"run\", \"rush\", \"s\", \"s\", \"safety\", \"safety\", \"sale\", \"sale\", \"sample\", \"sample\", \"satellite\", \"saturn\", \"say\", \"say\", \"say\", \"scan\", \"scan\", \"scare\", \"schedule\", \"schedule\", \"schedule\", \"scheme\", \"science\", \"scientific\", \"scientist\", \"score\", \"screen\", \"scsi\", \"season\", \"seat\", \"seat\", \"secret\", \"section\", \"secure\", \"security\", \"see\", \"see\", \"see\", \"select\", \"seller\", \"send\", \"send\", \"send\", \"sense\", \"sensitive\", \"sequence\", \"serious\", \"serious\", \"serious\", \"server\", \"service\", \"service\", \"service\", \"set\", \"set\", \"set\", \"set\", \"set\", \"setup\", \"sex\", \"shall\", \"shall\", \"shape\", \"shell\", \"shipping\", \"shoot\", \"shoot\", \"shot\", \"should\", \"shuttle\", \"sight\", \"signal\", \"sin\", \"single\", \"single\", \"single\", \"single\", \"sink\", \"site\", \"sky\", \"slave\", \"slightly\", \"slip\", \"slow\", \"slow\", \"smoke\", \"society\", \"software\", \"solar\", \"soldier\", \"solution\", \"solution\", \"somehow\", \"son\", \"son\", \"sorry\", \"soul\", \"sound\", \"sound\", \"sound\", \"sound\", \"source\", \"source\", \"source\", \"source\", \"source\", \"source\", \"space\", \"space\", \"space\", \"special\", \"specifically\", \"specification\", \"specifie\", \"specify\", \"speed\", \"speed\", \"sphere\", \"spring\", \"standard\", \"standard\", \"star\", \"stat\", \"state\", \"state\", \"state\", \"state\", \"state\", \"state\", \"state\", \"statement\", \"statistic\", \"status\", \"steal\", \"step\", \"step\", \"stick\", \"still\", \"still\", \"still\", \"still\", \"stock\", \"stop\", \"stop\", \"stop\", \"stop\", \"stop\", \"storage\", \"straightforward\", \"strange\", \"strange\", \"string\", \"struggle\", \"student\", \"student\", \"student\", \"study\", \"study\", \"study\", \"support\", \"support\", \"support\", \"sure\", \"sure\", \"surgery\", \"surrender\", \"surveillance\", \"switch\", \"syndrome\", \"system\", \"table\", \"table\", \"table\", \"take\", \"take\", \"take\", \"talent\", \"talk\", \"talk\", \"talk\", \"talk\", \"tank\", \"tap\", \"tape\", \"taste\", \"tax\", \"team\", \"technique\", \"technology\", \"technology\", \"telephone\", \"terrorism\", \"terrorist\", \"test\", \"thank\", \"thank\", \"thank\", \"theory\", \"there\", \"therefore\", \"thing\", \"thing\", \"think\", \"think\", \"think\", \"thinking\", \"third\", \"third\", \"third\", \"third\", \"throw\", \"throw\", \"throw\", \"throw\", \"ticket\", \"tie\", \"time\", \"time\", \"time\", \"time\", \"time\", \"timer\", \"tire\", \"title\", \"today\", \"today\", \"today\", \"today\", \"tomorrow\", \"tongue\", \"tool\", \"topic\", \"town\", \"trace\", \"trade\", \"trade\", \"transfer\", \"translation\", \"travel\", \"treatment\", \"trial\", \"truck\", \"true\", \"true\", \"trust\", \"truth\", \"try\", \"try\", \"try\", \"tube\", \"tumor\", \"turkish\", \"turn\", \"turn\", \"turn\", \"tv\", \"type\", \"type\", \"understand\", \"univ\", \"universe\", \"university\", \"unix\", \"unlikely\", \"unusual\", \"up\", \"update\", \"upgrade\", \"usage\", \"use\", \"use\", \"use\", \"use\", \"user\", \"user\", \"user\", \"user\", \"utility\", \"variable\", \"vat\", \"vehicle\", \"vehicle\", \"velocity\", \"version\", \"version\", \"vertical\", \"victim\", \"video\", \"view\", \"view\", \"view\", \"village\", \"violence\", \"visit\", \"voltage\", \"vote\", \"wait\", \"want\", \"want\", \"war\", \"warning\", \"warrant\", \"waste\", \"watch\", \"watch\", \"water\", \"wave\", \"way\", \"way\", \"way\", \"way\", \"weapon\", \"week\", \"week\", \"weekend\", \"welcome\", \"well\", \"well\", \"well\", \"well\", \"western\", \"white\", \"whole\", \"whole\", \"wide_range\", \"will\", \"win\", \"win\", \"wind\", \"window\", \"wing\", \"winner\", \"wire\", \"wisdom\", \"wise\", \"withdraw\", \"woman\", \"woman\", \"wonder\", \"word\", \"word\", \"word\", \"work\", \"work\", \"work\", \"work\", \"workstation\", \"world\", \"world\", \"world\", \"world\", \"worth\", \"would\", \"would\", \"would\", \"write\", \"write\", \"year\", \"year\", \"year\", \"year\", \"year\", \"year\", \"yesterday\", \"young\"]}, \"R\": 30, \"lambda.step\": 0.01, \"plot.opts\": {\"xlab\": \"PC1\", \"ylab\": \"PC2\"}, \"topic.order\": [14, 8, 18, 6, 10, 7, 20, 9, 19, 2, 13, 3, 17, 11, 4, 15, 5, 12, 1, 16]};\n",
              "\n",
              "function LDAvis_load_lib(url, callback){\n",
              "  var s = document.createElement('script');\n",
              "  s.src = url;\n",
              "  s.async = true;\n",
              "  s.onreadystatechange = s.onload = callback;\n",
              "  s.onerror = function(){console.warn(\"failed to load library \" + url);};\n",
              "  document.getElementsByTagName(\"head\")[0].appendChild(s);\n",
              "}\n",
              "\n",
              "if(typeof(LDAvis) !== \"undefined\"){\n",
              "   // already loaded: just create the visualization\n",
              "   !function(LDAvis){\n",
              "       new LDAvis(\"#\" + \"ldavis_el601404269453073443437081235\", ldavis_el601404269453073443437081235_data);\n",
              "   }(LDAvis);\n",
              "}else if(typeof define === \"function\" && define.amd){\n",
              "   // require.js is available: use it to load d3/LDAvis\n",
              "   require.config({paths: {d3: \"https://d3js.org/d3.v5\"}});\n",
              "   require([\"d3\"], function(d3){\n",
              "      window.d3 = d3;\n",
              "      LDAvis_load_lib(\"https://cdn.jsdelivr.net/gh/bmabey/pyLDAvis@3.2.2/pyLDAvis/js/ldavis.v3.0.0.js\", function(){\n",
              "        new LDAvis(\"#\" + \"ldavis_el601404269453073443437081235\", ldavis_el601404269453073443437081235_data);\n",
              "      });\n",
              "    });\n",
              "}else{\n",
              "    // require.js not available: dynamically load d3 & LDAvis\n",
              "    LDAvis_load_lib(\"https://d3js.org/d3.v5.js\", function(){\n",
              "         LDAvis_load_lib(\"https://cdn.jsdelivr.net/gh/bmabey/pyLDAvis@3.2.2/pyLDAvis/js/ldavis.v3.0.0.js\", function(){\n",
              "                 new LDAvis(\"#\" + \"ldavis_el601404269453073443437081235\", ldavis_el601404269453073443437081235_data);\n",
              "            })\n",
              "         });\n",
              "}\n",
              "</script>"
            ],
            "text/plain": [
              "PreparedData(topic_coordinates=              x         y  topics  cluster       Freq\n",
              "topic                                                \n",
              "13    -0.338658  0.015795       1        1  24.176078\n",
              "7     -0.310554 -0.102087       2        1  15.732080\n",
              "17    -0.229563  0.076675       3        1  12.436316\n",
              "5     -0.141188 -0.192220       4        1   5.442062\n",
              "9     -0.050182  0.253796       5        1   4.782105\n",
              "6     -0.022123  0.285904       6        1   3.871356\n",
              "19     0.020493 -0.012533       7        1   3.301805\n",
              "8      0.040339 -0.000898       8        1   3.247851\n",
              "18    -0.051658 -0.014655       9        1   3.241520\n",
              "1      0.023278 -0.129477      10        1   3.160815\n",
              "12     0.062984  0.064512      11        1   2.908644\n",
              "2      0.114210 -0.004330      12        1   2.658868\n",
              "16     0.055807 -0.140878      13        1   2.352401\n",
              "10     0.111575 -0.040583      14        1   2.160204\n",
              "3      0.126656  0.020912      15        1   2.000028\n",
              "14     0.095916 -0.076025      16        1   1.896465\n",
              "4      0.131738  0.017564      17        1   1.752229\n",
              "11     0.108804  0.029916      18        1   1.742688\n",
              "0      0.121754 -0.036484      19        1   1.631912\n",
              "15     0.130372 -0.014904      20        1   1.504573, topic_info=           Term          Freq         Total Category  logprob  loglift\n",
              "19         line  11975.000000  11975.000000  Default  30.0000  30.0000\n",
              "197       write  10060.000000  10060.000000  Default  29.0000  29.0000\n",
              "174       would  12046.000000  12046.000000  Default  28.0000  28.0000\n",
              "139      people   5647.000000   5647.000000  Default  27.0000  27.0000\n",
              "177     article   6479.000000   6479.000000  Default  26.0000  26.0000\n",
              "...         ...           ...           ...      ...      ...      ...\n",
              "3369       seat    121.906671    145.088100  Topic20  -4.9370   4.0226\n",
              "756    purchase    167.274942    311.114024  Topic20  -4.6207   3.5761\n",
              "521        lead    254.004958    862.104992  Topic20  -4.2029   2.9746\n",
              "205   condition    153.886919    421.640201  Topic20  -4.7041   3.1887\n",
              "989        stop    136.921803    898.995802  Topic20  -4.8209   2.3148\n",
              "\n",
              "[945 rows x 6 columns], token_table=      Topic      Freq         Term\n",
              "term                              \n",
              "4621      6  0.991734  accelerator\n",
              "1211      6  0.015122       accept\n",
              "1211     10  0.984293       accept\n",
              "81        3  0.007225       access\n",
              "81        6  0.382922       access\n",
              "...     ...       ...          ...\n",
              "40        8  0.006502         year\n",
              "40        9  0.371745         year\n",
              "40       16  0.003110         year\n",
              "720       9  0.990714    yesterday\n",
              "570      14  0.998419        young\n",
              "\n",
              "[1424 rows x 3 columns], R=30, lambda_step=0.01, plot_opts={'xlab': 'PC1', 'ylab': 'PC2'}, topic_order=[14, 8, 18, 6, 10, 7, 20, 9, 19, 2, 13, 3, 17, 11, 4, 15, 5, 12, 1, 16])"
            ]
          },
          "metadata": {
            "tags": []
          },
          "execution_count": 22
        }
      ]
    },
    {
      "cell_type": "markdown",
      "metadata": {
        "id": "7wVOMNzsggyn"
      },
      "source": [
        "So how to infer pyLDAvis’s output?\n",
        "\n",
        "Each bubble on the left-hand side plot represents a topic. The larger the bubble, the more prevalent is that topic.\n",
        "\n",
        "A good topic model will have fairly big, non-overlapping bubbles scattered throughout the chart instead of being clustered in one quadrant.\n",
        "\n",
        "A model with too many topics, will typically have many overlaps, small sized bubbles clustered in one region of the chart.\n",
        "\n",
        "Alright, if you move the cursor over one of the bubbles, the words and bars on the right-hand side will update. These words are the salient keywords that form the selected topic.\n",
        "\n",
        "We have successfully built a good looking topic model.\n",
        "\n",
        "Given our prior knowledge of the number of natural topics in the document, finding the best model was fairly straightforward.\n",
        "\n",
        "[simple explaination of $\\lambda$](https://nlp.stanford.edu/events/illvi2014/papers/sievert-illvi2014.pdf):\n",
        "- Values of lambda that are very close to zero will show terms that are more **specific** for a **chosen topic**. Meaning that you will see terms that are \"important\" for that specific topic but not necessarily \"important\" for the whole corpus.\n",
        "\n",
        "- Values of lambda that are very close to one will show those terms that have the highest ratio between frequency of the terms for that specific topic and the overall frequency of the terms from the **corpus**.\n",
        "\n",
        "\n",
        "Upnext, we will improve upon this model by using Mallet’s version of LDA algorithm and then we will focus on how to arrive at the optimal number of topics given any large corpus of text."
      ]
    },
    {
      "cell_type": "markdown",
      "metadata": {
        "id": "-RhDf8EHg68A"
      },
      "source": [
        "## Building LDA Mallet Model\n",
        "\n",
        "So far you have seen Gensim’s inbuilt version of the LDA algorithm. **Mallet’s version, however, often gives a better quality of topics**.\n",
        "\n",
        "Gensim provides a wrapper to implement Mallet’s LDA from within Gensim itself. You only need to download the zipfile, unzip it and provide the path to mallet in the unzipped directory to gensim.models.wrappers.LdaMallet. See how I have done this below."
      ]
    },
    {
      "cell_type": "code",
      "metadata": {
        "colab": {
          "base_uri": "https://localhost:8080/"
        },
        "id": "IJ4l4n_bWGqy",
        "outputId": "4e24018b-ddc3-4747-c0eb-39d70970011e"
      },
      "source": [
        "#!unzip mallet-2.0.8.zip"
      ],
      "execution_count": 33,
      "outputs": [
        {
          "output_type": "stream",
          "text": [
            "\u001b[0m\u001b[01;34mmallet-2.0.8\u001b[0m/  mallet-2.0.8.zip  \u001b[01;34msample_data\u001b[0m/\n"
          ],
          "name": "stdout"
        }
      ]
    },
    {
      "cell_type": "code",
      "metadata": {
        "id": "p-4wU-pNTZEs"
      },
      "source": [
        "# Download File: http://mallet.cs.umass.edu/dist/mallet-2.0.8.zip\n",
        "mallet_path = 'mallet-2.0.8/bin/mallet' # update this path\n",
        "ldamallet = gensim.models.wrappers.LdaMallet(mallet_path, corpus=corpus, num_topics=20, id2word=id2word)"
      ],
      "execution_count": 34,
      "outputs": []
    },
    {
      "cell_type": "code",
      "metadata": {
        "colab": {
          "base_uri": "https://localhost:8080/"
        },
        "id": "zDu39_j_TZB6",
        "outputId": "01b12efb-4ccc-4569-b86b-9ad077eca8e6"
      },
      "source": [
        "# Show Topics\n",
        "pprint(ldamallet.show_topics(formatted=False))\n",
        "\n",
        "# Compute Coherence Score\n",
        "coherence_model_ldamallet = CoherenceModel(model=ldamallet, texts=data_lemmatized, dictionary=id2word, coherence='c_v')\n",
        "coherence_ldamallet = coherence_model_ldamallet.get_coherence()\n",
        "print('\\nCoherence Score: ', coherence_ldamallet)"
      ],
      "execution_count": 35,
      "outputs": [
        {
          "output_type": "stream",
          "text": [
            "[(0,\n",
            "  [('window', 0.04177263622245729),\n",
            "   ('image', 0.02437487339920326),\n",
            "   ('software', 0.01928833472125318),\n",
            "   ('color', 0.019018253021539016),\n",
            "   ('program', 0.01737525601494452),\n",
            "   ('display', 0.01645247687425446),\n",
            "   ('graphic', 0.013279016902613041),\n",
            "   ('screen', 0.013076455627827418),\n",
            "   ('package', 0.012671333078256172),\n",
            "   ('run', 0.012018635637280277)]),\n",
            " (5,\n",
            "  [('people', 0.017018907688331312),\n",
            "   ('day', 0.014752370916754479),\n",
            "   ('happen', 0.01395709485655208),\n",
            "   ('child', 0.013519693023440763),\n",
            "   ('time', 0.013062409288824383),\n",
            "   ('woman', 0.011730321887985368),\n",
            "   ('live', 0.011531502872934767),\n",
            "   ('leave', 0.011432093365409467),\n",
            "   ('kill', 0.01075610871423743),\n",
            "   ('start', 0.01063681730520707)]),\n",
            " (14,\n",
            "  [('number', 0.02869134443374157),\n",
            "   ('difference', 0.013600293564515389),\n",
            "   ('rate', 0.013462685197926701),\n",
            "   ('high', 0.013325076831338012),\n",
            "   ('show', 0.013095729553690198),\n",
            "   ('make', 0.012682904453924133),\n",
            "   ('case', 0.012522361359570662),\n",
            "   ('large', 0.011903123709921564),\n",
            "   ('point', 0.011742580615568094),\n",
            "   ('report', 0.011123342965918994)]),\n",
            " (16,\n",
            "  [('car', 0.04004227618841728),\n",
            "   ('bike', 0.015229036054862963),\n",
            "   ('ride', 0.01068914991232495),\n",
            "   ('back', 0.01061708822752276),\n",
            "   ('drive', 0.009127813408277485),\n",
            "   ('engine', 0.008767504984266532),\n",
            "   ('turn', 0.008599361053061421),\n",
            "   ('leave', 0.0073743124114241795),\n",
            "   ('road', 0.007278230165021258),\n",
            "   ('side', 0.007134106795416877)]),\n",
            " (7,\n",
            "  [('file', 0.041136030654795444),\n",
            "   ('program', 0.01812615049400804),\n",
            "   ('include', 0.016059957173447537),\n",
            "   ('set', 0.01431308463879184),\n",
            "   ('source', 0.01160824974642173),\n",
            "   ('line', 0.010800555993838987),\n",
            "   ('version', 0.010687854539990233),\n",
            "   ('application', 0.009748675757917278),\n",
            "   ('server', 0.009673541455351441),\n",
            "   ('function', 0.00905368345918329)]),\n",
            " (3,\n",
            "  [('gun', 0.02655309577857842),\n",
            "   ('law', 0.02353333194493617),\n",
            "   ('state', 0.017889497469646166),\n",
            "   ('people', 0.016848199595976426),\n",
            "   ('case', 0.011683362142574505),\n",
            "   ('crime', 0.010558760439011184),\n",
            "   ('weapon', 0.00989232979986255),\n",
            "   ('kill', 0.008975987671033176),\n",
            "   ('police', 0.008413686819251516),\n",
            "   ('person', 0.008163775329570777)]),\n",
            " (1,\n",
            "  [('thing', 0.05155837953445877),\n",
            "   ('make', 0.045661247118918585),\n",
            "   ('people', 0.04119686870574555),\n",
            "   ('good', 0.03922423638364584),\n",
            "   ('bad', 0.022093482007516766),\n",
            "   ('time', 0.017857513652692125),\n",
            "   ('feel', 0.017670632695861624),\n",
            "   ('lot', 0.015116592952511472),\n",
            "   ('give', 0.012645611412197097),\n",
            "   ('great', 0.011960381237151934)]),\n",
            " (19,\n",
            "  [('line', 0.05064356704502254),\n",
            "   ('buy', 0.028105143105414652),\n",
            "   ('good', 0.026747406723510562),\n",
            "   ('price', 0.025932764894368108),\n",
            "   ('sell', 0.024384945418997446),\n",
            "   ('sale', 0.018926845163743006),\n",
            "   ('mail', 0.013740292184869387),\n",
            "   ('interested', 0.013088578721555423),\n",
            "   ('offer', 0.012382555802965297),\n",
            "   ('pay', 0.01213816325422256)]),\n",
            " (6,\n",
            "  [('post', 0.03119067590834842),\n",
            "   ('mail', 0.026422674495607257),\n",
            "   ('send', 0.024546377643371153),\n",
            "   ('information', 0.023751710741247628),\n",
            "   ('list', 0.019601783585713656),\n",
            "   ('address', 0.01918237605403735),\n",
            "   ('group', 0.018409783232528364),\n",
            "   ('internet', 0.01644519005783409),\n",
            "   ('message', 0.014083263432078054),\n",
            "   ('email', 0.013398966933027239)]),\n",
            " (10,\n",
            "  [('space', 0.019150919413609017),\n",
            "   ('power', 0.01156681637149394),\n",
            "   ('ground', 0.00932124396237607),\n",
            "   ('launch', 0.009109397508685705),\n",
            "   ('system', 0.008982289636471486),\n",
            "   ('wire', 0.007626472332853148),\n",
            "   ('high', 0.007435810524531819),\n",
            "   ('design', 0.007351071943055673),\n",
            "   ('low', 0.007118040843996271),\n",
            "   ('water', 0.0064401321921871025)])]\n",
            "\n",
            "Coherence Score:  0.5424453411142272\n"
          ],
          "name": "stdout"
        }
      ]
    },
    {
      "cell_type": "markdown",
      "metadata": {
        "id": "CIUdX8Dji1r1"
      },
      "source": [
        "Just by changing the LDA algorithm, we increased the coherence score from .43 to .54 Not bad!"
      ]
    },
    {
      "cell_type": "markdown",
      "metadata": {
        "id": "Tm8bTnpBi8L5"
      },
      "source": [
        "## How to find the optimal number of topics for LDA?\n",
        "\n",
        "My approach to finding the optimal number of topics is to build many LDA models with different values of number of topics (k) and pick the one that gives the highest coherence value.\n",
        "\n",
        "**Choosing a ‘k’ that marks the end of a rapid growth of topic coherence usually offers meaningful and interpretable topics**. Picking an even higher value can sometimes provide more granular sub-topics.\n",
        "\n",
        "If you see the same keywords being repeated in multiple topics, it’s probably a sign that the ‘k’ is too large.\n",
        "\n",
        "The `compute_coherence_values()` (see below) trains multiple LDA models and provides the models and their corresponding coherence scores."
      ]
    },
    {
      "cell_type": "code",
      "metadata": {
        "id": "xXaUvIiUTY-o"
      },
      "source": [
        "def compute_coherence_values(dictionary, corpus, texts, limit, start=2, step=3):\n",
        "    \"\"\"\n",
        "    Compute c_v coherence for various number of topics\n",
        "\n",
        "    Parameters:\n",
        "    ----------\n",
        "    dictionary : Gensim dictionary\n",
        "    corpus : Gensim corpus\n",
        "    texts : List of input texts\n",
        "    limit : Max num of topics\n",
        "\n",
        "    Returns:\n",
        "    -------\n",
        "    model_list : List of LDA topic models\n",
        "    coherence_values : Coherence values corresponding to the LDA model with respective number of topics\n",
        "    \"\"\"\n",
        "    coherence_values = []\n",
        "    model_list = []\n",
        "    for num_topics in range(start, limit, step):\n",
        "        model = gensim.models.wrappers.LdaMallet(mallet_path, corpus=corpus, num_topics=num_topics, id2word=id2word)\n",
        "        model_list.append(model)\n",
        "        coherencemodel = CoherenceModel(model=model, texts=texts, dictionary=dictionary, coherence='c_v')\n",
        "        coherence_values.append(coherencemodel.get_coherence())\n",
        "\n",
        "    return model_list, coherence_values"
      ],
      "execution_count": 36,
      "outputs": []
    },
    {
      "cell_type": "code",
      "metadata": {
        "id": "_uokx0GwTY7W"
      },
      "source": [
        "model_list, coherence_values = compute_coherence_values(dictionary=id2word, corpus=corpus, texts=data_lemmatized, start=2, limit=40, step=6)"
      ],
      "execution_count": 37,
      "outputs": []
    },
    {
      "cell_type": "code",
      "metadata": {
        "colab": {
          "base_uri": "https://localhost:8080/",
          "height": 279
        },
        "id": "WcgV2K56TY4p",
        "outputId": "14f962f0-3835-4fc3-8f4a-50dfaac8dd54"
      },
      "source": [
        "# Show graph\n",
        "limit=40; start=2; step=6;\n",
        "x = range(start, limit, step)\n",
        "plt.plot(x, coherence_values)\n",
        "plt.xlabel(\"Num Topics\")\n",
        "plt.ylabel(\"Coherence score\")\n",
        "plt.legend((\"coherence_values\"), loc='best')\n",
        "plt.show()"
      ],
      "execution_count": 38,
      "outputs": [
        {
          "output_type": "display_data",
          "data": {
            "image/png": "[encoded data removed]",
            "text/plain": [
              "<Figure size 432x288 with 1 Axes>"
            ]
          },
          "metadata": {
            "tags": [],
            "needs_background": "light"
          }
        }
      ]
    },
    {
      "cell_type": "code",
      "metadata": {
        "colab": {
          "base_uri": "https://localhost:8080/"
        },
        "id": "x-HCZi97TYOQ",
        "outputId": "c5834671-78e5-48b5-e819-390d4f7e8058"
      },
      "source": [
        "# Print the coherence scores\n",
        "for m, cv in zip(x, coherence_values):\n",
        "    print(\"Num Topics =\", m, \" has Coherence Value of\", round(cv, 4))"
      ],
      "execution_count": 39,
      "outputs": [
        {
          "output_type": "stream",
          "text": [
            "Num Topics = 2  has Coherence Value of 0.375\n",
            "Num Topics = 8  has Coherence Value of 0.4995\n",
            "Num Topics = 14  has Coherence Value of 0.5185\n",
            "Num Topics = 20  has Coherence Value of 0.5517\n",
            "Num Topics = 26  has Coherence Value of 0.5398\n",
            "Num Topics = 32  has Coherence Value of 0.5317\n",
            "Num Topics = 38  has Coherence Value of 0.5337\n"
          ],
          "name": "stdout"
        }
      ]
    },
    {
      "cell_type": "markdown",
      "metadata": {
        "id": "dn3SxFb3jTs2"
      },
      "source": [
        "If the coherence score seems to keep increasing, it may make better sense to **pick the model that gave the highest CV before flattening out**. This is exactly the case here.\n",
        "\n",
        "So for further steps I will choose the model with 20 topics itself.\n",
        "\n"
      ]
    },
    {
      "cell_type": "code",
      "metadata": {
        "colab": {
          "base_uri": "https://localhost:8080/"
        },
        "id": "c6yLaW-TTYLa",
        "outputId": "1c229c76-b3c2-4cb4-867b-8326b235fc2b"
      },
      "source": [
        "# Select the model and print the topics\n",
        "optimal_model = model_list[3]\n",
        "model_topics = optimal_model.show_topics(formatted=False)\n",
        "pprint(optimal_model.print_topics(num_words=10))\n"
      ],
      "execution_count": 40,
      "outputs": [
        {
          "output_type": "stream",
          "text": [
            "[(0,\n",
            "  '0.033*\"game\" + 0.028*\"team\" + 0.026*\"year\" + 0.025*\"play\" + 0.019*\"player\" '\n",
            "  '+ 0.018*\"good\" + 0.016*\"win\" + 0.012*\"season\" + 0.011*\"point\" + '\n",
            "  '0.010*\"hit\"'),\n",
            " (1,\n",
            "  '0.021*\"people\" + 0.016*\"happen\" + 0.014*\"leave\" + 0.014*\"time\" + '\n",
            "  '0.014*\"start\" + 0.011*\"day\" + 0.011*\"kill\" + 0.010*\"child\" + 0.010*\"fire\" + '\n",
            "  '0.010*\"hear\"'),\n",
            " (2,\n",
            "  '0.022*\"space\" + 0.010*\"launch\" + 0.010*\"system\" + 0.009*\"time\" + '\n",
            "  '0.009*\"project\" + 0.008*\"design\" + 0.008*\"cost\" + 0.007*\"year\" + '\n",
            "  '0.007*\"satellite\" + 0.007*\"technology\"'),\n",
            " (3,\n",
            "  '0.010*\"line\" + 0.010*\"time\" + 0.009*\"food\" + 0.009*\"doctor\" + 0.008*\"day\" + '\n",
            "  '0.008*\"good\" + 0.008*\"people\" + 0.008*\"find\" + 0.008*\"eat\" + '\n",
            "  '0.007*\"problem\"'),\n",
            " (4,\n",
            "  '0.040*\"key\" + 0.020*\"system\" + 0.015*\"encryption\" + 0.013*\"technology\" + '\n",
            "  '0.012*\"chip\" + 0.011*\"government\" + 0.011*\"bit\" + 0.011*\"security\" + '\n",
            "  '0.011*\"public\" + 0.009*\"phone\"'),\n",
            " (5,\n",
            "  '0.028*\"make\" + 0.020*\"work\" + 0.020*\"people\" + 0.014*\"year\" + 0.014*\"money\" '\n",
            "  '+ 0.013*\"job\" + 0.012*\"time\" + 0.011*\"thing\" + 0.011*\"talk\" + 0.010*\"give\"'),\n",
            " (6,\n",
            "  '0.018*\"people\" + 0.010*\"attack\" + 0.010*\"israeli\" + 0.010*\"war\" + '\n",
            "  '0.009*\"government\" + 0.008*\"turkish\" + 0.008*\"land\" + 0.008*\"kill\" + '\n",
            "  '0.008*\"armenian\" + 0.008*\"give\"'),\n",
            " (7,\n",
            "  '0.025*\"gun\" + 0.022*\"law\" + 0.021*\"people\" + 0.019*\"state\" + '\n",
            "  '0.012*\"government\" + 0.012*\"case\" + 0.010*\"crime\" + 0.009*\"weapon\" + '\n",
            "  '0.008*\"person\" + 0.008*\"make\"'),\n",
            " (8,\n",
            "  '0.046*\"line\" + 0.041*\"good\" + 0.031*\"buy\" + 0.026*\"price\" + 0.024*\"sell\" + '\n",
            "  '0.019*\"sale\" + 0.014*\"make\" + 0.012*\"company\" + 0.012*\"pay\" + '\n",
            "  '0.012*\"interested\"'),\n",
            " (9,\n",
            "  '0.225*\"write\" + 0.152*\"article\" + 0.073*\"line\" + 0.029*\"organization\" + '\n",
            "  '0.021*\"opinion\" + 0.013*\"read\" + 0.012*\"hear\" + 0.011*\"thing\" + '\n",
            "  '0.011*\"make\" + 0.011*\"bad\"'),\n",
            " (10,\n",
            "  '0.019*\"number\" + 0.015*\"year\" + 0.014*\"high\" + 0.013*\"rate\" + '\n",
            "  '0.013*\"report\" + 0.012*\"large\" + 0.012*\"drug\" + 0.011*\"study\" + '\n",
            "  '0.011*\"show\" + 0.010*\"difference\"'),\n",
            " (11,\n",
            "  '0.042*\"file\" + 0.019*\"set\" + 0.018*\"line\" + 0.016*\"program\" + '\n",
            "  '0.014*\"follow\" + 0.013*\"read\" + 0.012*\"write\" + 0.012*\"change\" + '\n",
            "  '0.011*\"number\" + 0.011*\"entry\"'),\n",
            " (12,\n",
            "  '0.021*\"window\" + 0.020*\"image\" + 0.018*\"program\" + 0.018*\"version\" + '\n",
            "  '0.018*\"software\" + 0.016*\"file\" + 0.015*\"display\" + 0.013*\"server\" + '\n",
            "  '0.013*\"application\" + 0.012*\"include\"'),\n",
            " (13,\n",
            "  '0.018*\"people\" + 0.013*\"religion\" + 0.012*\"man\" + 0.012*\"word\" + '\n",
            "  '0.012*\"love\" + 0.009*\"christian\" + 0.009*\"church\" + 0.009*\"make\" + '\n",
            "  '0.008*\"life\" + 0.008*\"faith\"'),\n",
            " (14,\n",
            "  '0.035*\"post\" + 0.028*\"mail\" + 0.024*\"send\" + 0.023*\"information\" + '\n",
            "  '0.021*\"group\" + 0.020*\"list\" + 0.019*\"address\" + 0.017*\"internet\" + '\n",
            "  '0.016*\"book\" + 0.014*\"message\"'),\n",
            " (15,\n",
            "  '0.064*\"problem\" + 0.047*\"line\" + 0.032*\"bit\" + 0.026*\"card\" + 0.023*\"run\" + '\n",
            "  '0.022*\"driver\" + 0.022*\"time\" + 0.021*\"window\" + 0.021*\"work\" + '\n",
            "  '0.016*\"monitor\"'),\n",
            " (16,\n",
            "  '0.035*\"car\" + 0.013*\"bike\" + 0.010*\"power\" + 0.009*\"ride\" + 0.009*\"light\" + '\n",
            "  '0.008*\"engine\" + 0.008*\"ground\" + 0.008*\"wire\" + 0.007*\"turn\" + '\n",
            "  '0.007*\"water\"'),\n",
            " (17,\n",
            "  '0.021*\"question\" + 0.016*\"exist\" + 0.015*\"claim\" + 0.014*\"reason\" + '\n",
            "  '0.013*\"point\" + 0.013*\"argument\" + 0.013*\"true\" + 0.011*\"thing\" + '\n",
            "  '0.011*\"evidence\" + 0.011*\"make\"'),\n",
            " (18,\n",
            "  '0.045*\"drive\" + 0.032*\"system\" + 0.021*\"work\" + 0.019*\"disk\" + 0.016*\"scsi\" '\n",
            "  '+ 0.013*\"pc\" + 0.011*\"chip\" + 0.010*\"speed\" + 0.009*\"device\" + '\n",
            "  '0.009*\"tape\"'),\n",
            " (19,\n",
            "  '0.185*\"ax\" + 0.149*\"max\" + 0.146*\"line\" + 0.102*\"host\" + 0.040*\"nntp_poste\" '\n",
            "  '+ 0.039*\"organization\" + 0.034*\"reply\" + 0.018*\"ca\" + 0.010*\"nntp_posting\" '\n",
            "  '+ 0.010*\"db_db\"')]\n"
          ],
          "name": "stdout"
        }
      ]
    },
    {
      "cell_type": "markdown",
      "metadata": {
        "id": "8gNiXv3fjxF8"
      },
      "source": [
        "Those were the topics for the chosen LDA model.\n",
        "\n",
        "## Finding the dominant topic in each sentence\n",
        "One of the practical application of topic modeling is to determine what topic a given document is about.\n",
        "\n",
        "To find that, we find the topic number that has the highest percentage contribution in that document.\n",
        "\n",
        "The `format_topics_sentences()` function below nicely aggregates this information in a presentable table.\n",
        "\n"
      ]
    },
    {
      "cell_type": "code",
      "metadata": {
        "colab": {
          "base_uri": "https://localhost:8080/",
          "height": 359
        },
        "id": "qdA7bu1mTYBA",
        "outputId": "06e9501e-fcdd-4d9e-e9e5-b51b424f1e2e"
      },
      "source": [
        "def format_topics_sentences(ldamodel=lda_model, corpus=corpus, texts=data):\n",
        "    # Init output\n",
        "    sent_topics_df = pd.DataFrame()\n",
        "\n",
        "    # Get main topic in each document\n",
        "    for i, row in enumerate(ldamodel[corpus]):\n",
        "        row = sorted(row, key=lambda x: (x[1]), reverse=True)\n",
        "        # Get the Dominant topic, Perc Contribution and Keywords for each document\n",
        "        for j, (topic_num, prop_topic) in enumerate(row):\n",
        "            if j == 0:  # => dominant topic\n",
        "                wp = ldamodel.show_topic(topic_num)\n",
        "                topic_keywords = \", \".join([word for word, prop in wp])\n",
        "                sent_topics_df = sent_topics_df.append(pd.Series([int(topic_num), round(prop_topic,4), topic_keywords]), ignore_index=True)\n",
        "            else:\n",
        "                break\n",
        "    sent_topics_df.columns = ['Dominant_Topic', 'Perc_Contribution', 'Topic_Keywords']\n",
        "\n",
        "    # Add original text to the end of the output\n",
        "    contents = pd.Series(texts)\n",
        "    sent_topics_df = pd.concat([sent_topics_df, contents], axis=1)\n",
        "    return(sent_topics_df)\n",
        "\n",
        "df_topic_sents_keywords = format_topics_sentences(ldamodel=optimal_model, corpus=corpus, texts=data)\n",
        "\n",
        "# Format\n",
        "df_dominant_topic = df_topic_sents_keywords.reset_index()\n",
        "df_dominant_topic.columns = ['Document_No', 'Dominant_Topic', 'Topic_Perc_Contrib', 'Keywords', 'Text']\n",
        "\n",
        "# Show\n",
        "df_dominant_topic.head(10)"
      ],
      "execution_count": 41,
      "outputs": [
        {
          "output_type": "execute_result",
          "data": {
            "text/html": [
              "<div>\n",
              "<style scoped>\n",
              "    .dataframe tbody tr th:only-of-type {\n",
              "        vertical-align: middle;\n",
              "    }\n",
              "\n",
              "    .dataframe tbody tr th {\n",
              "        vertical-align: top;\n",
              "    }\n",
              "\n",
              "    .dataframe thead th {\n",
              "        text-align: right;\n",
              "    }\n",
              "</style>\n",
              "<table border=\"1\" class=\"dataframe\">\n",
              "  <thead>\n",
              "    <tr style=\"text-align: right;\">\n",
              "      <th></th>\n",
              "      <th>Document_No</th>\n",
              "      <th>Dominant_Topic</th>\n",
              "      <th>Topic_Perc_Contrib</th>\n",
              "      <th>Keywords</th>\n",
              "      <th>Text</th>\n",
              "    </tr>\n",
              "  </thead>\n",
              "  <tbody>\n",
              "    <tr>\n",
              "      <th>0</th>\n",
              "      <td>0</td>\n",
              "      <td>16.0</td>\n",
              "      <td>0.1820</td>\n",
              "      <td>car, bike, power, ride, light, engine, ground,...</td>\n",
              "      <td>From: (wheres my thing) Subject: WHAT car is t...</td>\n",
              "    </tr>\n",
              "    <tr>\n",
              "      <th>1</th>\n",
              "      <td>1</td>\n",
              "      <td>18.0</td>\n",
              "      <td>0.1018</td>\n",
              "      <td>drive, system, work, disk, scsi, pc, chip, spe...</td>\n",
              "      <td>From: (Guy Kuo) Subject: SI Clock Poll - Final...</td>\n",
              "    </tr>\n",
              "    <tr>\n",
              "      <th>2</th>\n",
              "      <td>2</td>\n",
              "      <td>15.0</td>\n",
              "      <td>0.1137</td>\n",
              "      <td>problem, line, bit, card, run, driver, time, w...</td>\n",
              "      <td>From: (Thomas E Willis) Subject: PB questions....</td>\n",
              "    </tr>\n",
              "    <tr>\n",
              "      <th>3</th>\n",
              "      <td>3</td>\n",
              "      <td>9.0</td>\n",
              "      <td>0.1061</td>\n",
              "      <td>write, article, line, organization, opinion, r...</td>\n",
              "      <td>From: (Joe Green) Subject: Re: Weitek P9000 ? ...</td>\n",
              "    </tr>\n",
              "    <tr>\n",
              "      <th>4</th>\n",
              "      <td>4</td>\n",
              "      <td>11.0</td>\n",
              "      <td>0.2299</td>\n",
              "      <td>file, set, line, program, follow, read, write,...</td>\n",
              "      <td>From: (Jonathan McDowell) Subject: Re: Shuttle...</td>\n",
              "    </tr>\n",
              "    <tr>\n",
              "      <th>5</th>\n",
              "      <td>5</td>\n",
              "      <td>7.0</td>\n",
              "      <td>0.2937</td>\n",
              "      <td>gun, law, people, state, government, case, cri...</td>\n",
              "      <td>From: (Foxvog Douglas) Subject: Re: Rewording ...</td>\n",
              "    </tr>\n",
              "    <tr>\n",
              "      <th>6</th>\n",
              "      <td>6</td>\n",
              "      <td>14.0</td>\n",
              "      <td>0.0940</td>\n",
              "      <td>post, mail, send, information, group, list, ad...</td>\n",
              "      <td>From: (brian manning delaney) Subject: Brain T...</td>\n",
              "    </tr>\n",
              "    <tr>\n",
              "      <th>7</th>\n",
              "      <td>7</td>\n",
              "      <td>18.0</td>\n",
              "      <td>0.4467</td>\n",
              "      <td>drive, system, work, disk, scsi, pc, chip, spe...</td>\n",
              "      <td>From: (GRUBB) Subject: Re: IDE vs SCSI Organiz...</td>\n",
              "    </tr>\n",
              "    <tr>\n",
              "      <th>8</th>\n",
              "      <td>8</td>\n",
              "      <td>12.0</td>\n",
              "      <td>0.1120</td>\n",
              "      <td>window, image, program, version, software, fil...</td>\n",
              "      <td>From: Subject: WIn 3.0 ICON HELP PLEASE! Organ...</td>\n",
              "    </tr>\n",
              "    <tr>\n",
              "      <th>9</th>\n",
              "      <td>9</td>\n",
              "      <td>18.0</td>\n",
              "      <td>0.1830</td>\n",
              "      <td>drive, system, work, disk, scsi, pc, chip, spe...</td>\n",
              "      <td>From: (Stan Kerr) Subject: Re: Sigma Designs D...</td>\n",
              "    </tr>\n",
              "  </tbody>\n",
              "</table>\n",
              "</div>"
            ],
            "text/plain": [
              "   Document_No  ...                                               Text\n",
              "0            0  ...  From: (wheres my thing) Subject: WHAT car is t...\n",
              "1            1  ...  From: (Guy Kuo) Subject: SI Clock Poll - Final...\n",
              "2            2  ...  From: (Thomas E Willis) Subject: PB questions....\n",
              "3            3  ...  From: (Joe Green) Subject: Re: Weitek P9000 ? ...\n",
              "4            4  ...  From: (Jonathan McDowell) Subject: Re: Shuttle...\n",
              "5            5  ...  From: (Foxvog Douglas) Subject: Re: Rewording ...\n",
              "6            6  ...  From: (brian manning delaney) Subject: Brain T...\n",
              "7            7  ...  From: (GRUBB) Subject: Re: IDE vs SCSI Organiz...\n",
              "8            8  ...  From: Subject: WIn 3.0 ICON HELP PLEASE! Organ...\n",
              "9            9  ...  From: (Stan Kerr) Subject: Re: Sigma Designs D...\n",
              "\n",
              "[10 rows x 5 columns]"
            ]
          },
          "metadata": {
            "tags": []
          },
          "execution_count": 41
        }
      ]
    },
    {
      "cell_type": "markdown",
      "metadata": {
        "id": "USaDSqq5j4If"
      },
      "source": [
        "## Find the most representative document for each topic\n",
        "Sometimes just the topic keywords may not be enough to make sense of what a topic is about. So, to help with understanding the topic, you can **find the documents a given topic has contributed to the most and infer the topic by reading that document**. Whew!!"
      ]
    },
    {
      "cell_type": "code",
      "metadata": {
        "colab": {
          "base_uri": "https://localhost:8080/",
          "height": 204
        },
        "id": "aqhg5WV7TX-a",
        "outputId": "dfa5880a-20aa-410f-a0b1-0e1c9f0da751"
      },
      "source": [
        "# Group top 5 sentences under each topic\n",
        "sent_topics_sorteddf_mallet = pd.DataFrame()\n",
        "\n",
        "sent_topics_outdf_grpd = df_topic_sents_keywords.groupby('Dominant_Topic')\n",
        "\n",
        "for i, grp in sent_topics_outdf_grpd:\n",
        "    sent_topics_sorteddf_mallet = pd.concat([sent_topics_sorteddf_mallet, \n",
        "                                             grp.sort_values(['Perc_Contribution'], ascending=[0]).head(1)], \n",
        "                                            axis=0)\n",
        "\n",
        "# Reset Index    \n",
        "sent_topics_sorteddf_mallet.reset_index(drop=True, inplace=True)\n",
        "\n",
        "# Format\n",
        "sent_topics_sorteddf_mallet.columns = ['Topic_Num', \"Topic_Perc_Contrib\", \"Keywords\", \"Text\"]\n",
        "\n",
        "# Show\n",
        "sent_topics_sorteddf_mallet.head()"
      ],
      "execution_count": 42,
      "outputs": [
        {
          "output_type": "execute_result",
          "data": {
            "text/html": [
              "<div>\n",
              "<style scoped>\n",
              "    .dataframe tbody tr th:only-of-type {\n",
              "        vertical-align: middle;\n",
              "    }\n",
              "\n",
              "    .dataframe tbody tr th {\n",
              "        vertical-align: top;\n",
              "    }\n",
              "\n",
              "    .dataframe thead th {\n",
              "        text-align: right;\n",
              "    }\n",
              "</style>\n",
              "<table border=\"1\" class=\"dataframe\">\n",
              "  <thead>\n",
              "    <tr style=\"text-align: right;\">\n",
              "      <th></th>\n",
              "      <th>Topic_Num</th>\n",
              "      <th>Topic_Perc_Contrib</th>\n",
              "      <th>Keywords</th>\n",
              "      <th>Text</th>\n",
              "    </tr>\n",
              "  </thead>\n",
              "  <tbody>\n",
              "    <tr>\n",
              "      <th>0</th>\n",
              "      <td>0.0</td>\n",
              "      <td>0.7547</td>\n",
              "      <td>game, team, year, play, player, good, win, sea...</td>\n",
              "      <td>From: (Stan Willis) Subject: Series 1, game 1;...</td>\n",
              "    </tr>\n",
              "    <tr>\n",
              "      <th>1</th>\n",
              "      <td>1.0</td>\n",
              "      <td>0.8367</td>\n",
              "      <td>people, happen, leave, time, start, day, kill,...</td>\n",
              "      <td>From: (David Davidian) Subject: Accounts of An...</td>\n",
              "    </tr>\n",
              "    <tr>\n",
              "      <th>2</th>\n",
              "      <td>2.0</td>\n",
              "      <td>0.7439</td>\n",
              "      <td>space, launch, system, time, project, design, ...</td>\n",
              "      <td>From: (Jon Leech) Subject: Space FAQ 11/15 - U...</td>\n",
              "    </tr>\n",
              "    <tr>\n",
              "      <th>3</th>\n",
              "      <td>3.0</td>\n",
              "      <td>0.6677</td>\n",
              "      <td>line, time, food, doctor, day, good, people, f...</td>\n",
              "      <td>From: Subject: Candida(yeast) Bloom, Fact or F...</td>\n",
              "    </tr>\n",
              "    <tr>\n",
              "      <th>4</th>\n",
              "      <td>4.0</td>\n",
              "      <td>0.8755</td>\n",
              "      <td>key, system, encryption, technology, chip, gov...</td>\n",
              "      <td>From: (Jim Gillogly) Subject: Clipper Chip and...</td>\n",
              "    </tr>\n",
              "  </tbody>\n",
              "</table>\n",
              "</div>"
            ],
            "text/plain": [
              "   Topic_Num  ...                                               Text\n",
              "0        0.0  ...  From: (Stan Willis) Subject: Series 1, game 1;...\n",
              "1        1.0  ...  From: (David Davidian) Subject: Accounts of An...\n",
              "2        2.0  ...  From: (Jon Leech) Subject: Space FAQ 11/15 - U...\n",
              "3        3.0  ...  From: Subject: Candida(yeast) Bloom, Fact or F...\n",
              "4        4.0  ...  From: (Jim Gillogly) Subject: Clipper Chip and...\n",
              "\n",
              "[5 rows x 4 columns]"
            ]
          },
          "metadata": {
            "tags": []
          },
          "execution_count": 42
        }
      ]
    },
    {
      "cell_type": "markdown",
      "metadata": {
        "id": "CSEwsL9KkBXE"
      },
      "source": [
        "The tabular output above actually has 20 rows, one each for a topic. It has the topic number, the keywords, and the most representative document. The `Perc_Contribution` column is nothing but the percentage contribution of the topic in the given document.\n",
        "\n",
        "\n",
        "## Topic distribution across documents\n",
        "Finally, we want to understand the volume and distribution of topics in order to judge how widely it was discussed. The below table exposes that information."
      ]
    },
    {
      "cell_type": "code",
      "metadata": {
        "colab": {
          "base_uri": "https://localhost:8080/",
          "height": 419
        },
        "id": "8Kgm1IU6TX7l",
        "outputId": "bb28c640-1c4d-4eb2-df7c-f0715207a9a2"
      },
      "source": [
        "# Number of Documents for Each Topic\n",
        "topic_counts = df_topic_sents_keywords['Dominant_Topic'].value_counts()\n",
        "\n",
        "# Percentage of Documents for Each Topic\n",
        "topic_contribution = round(topic_counts/topic_counts.sum(), 4)\n",
        "\n",
        "# Topic Number and Keywords\n",
        "topic_num_keywords = df_topic_sents_keywords[['Dominant_Topic', 'Topic_Keywords']]\n",
        "\n",
        "# Concatenate Column wise\n",
        "df_dominant_topics = pd.concat([topic_num_keywords, topic_counts, topic_contribution], axis=1)\n",
        "\n",
        "# Change Column names\n",
        "df_dominant_topics.columns = ['Dominant_Topic', 'Topic_Keywords', 'Num_Documents', 'Perc_Documents']\n",
        "\n",
        "# Show\n",
        "df_dominant_topics"
      ],
      "execution_count": 43,
      "outputs": [
        {
          "output_type": "execute_result",
          "data": {
            "text/html": [
              "<div>\n",
              "<style scoped>\n",
              "    .dataframe tbody tr th:only-of-type {\n",
              "        vertical-align: middle;\n",
              "    }\n",
              "\n",
              "    .dataframe tbody tr th {\n",
              "        vertical-align: top;\n",
              "    }\n",
              "\n",
              "    .dataframe thead th {\n",
              "        text-align: right;\n",
              "    }\n",
              "</style>\n",
              "<table border=\"1\" class=\"dataframe\">\n",
              "  <thead>\n",
              "    <tr style=\"text-align: right;\">\n",
              "      <th></th>\n",
              "      <th>Dominant_Topic</th>\n",
              "      <th>Topic_Keywords</th>\n",
              "      <th>Num_Documents</th>\n",
              "      <th>Perc_Documents</th>\n",
              "    </tr>\n",
              "  </thead>\n",
              "  <tbody>\n",
              "    <tr>\n",
              "      <th>0.0</th>\n",
              "      <td>16.0</td>\n",
              "      <td>car, bike, power, ride, light, engine, ground,...</td>\n",
              "      <td>1045.0</td>\n",
              "      <td>0.0924</td>\n",
              "    </tr>\n",
              "    <tr>\n",
              "      <th>1.0</th>\n",
              "      <td>18.0</td>\n",
              "      <td>drive, system, work, disk, scsi, pc, chip, spe...</td>\n",
              "      <td>355.0</td>\n",
              "      <td>0.0314</td>\n",
              "    </tr>\n",
              "    <tr>\n",
              "      <th>2.0</th>\n",
              "      <td>15.0</td>\n",
              "      <td>problem, line, bit, card, run, driver, time, w...</td>\n",
              "      <td>512.0</td>\n",
              "      <td>0.0453</td>\n",
              "    </tr>\n",
              "    <tr>\n",
              "      <th>3.0</th>\n",
              "      <td>9.0</td>\n",
              "      <td>write, article, line, organization, opinion, r...</td>\n",
              "      <td>524.0</td>\n",
              "      <td>0.0463</td>\n",
              "    </tr>\n",
              "    <tr>\n",
              "      <th>4.0</th>\n",
              "      <td>11.0</td>\n",
              "      <td>file, set, line, program, follow, read, write,...</td>\n",
              "      <td>508.0</td>\n",
              "      <td>0.0449</td>\n",
              "    </tr>\n",
              "    <tr>\n",
              "      <th>...</th>\n",
              "      <td>...</td>\n",
              "      <td>...</td>\n",
              "      <td>...</td>\n",
              "      <td>...</td>\n",
              "    </tr>\n",
              "    <tr>\n",
              "      <th>11309.0</th>\n",
              "      <td>3.0</td>\n",
              "      <td>line, time, food, doctor, day, good, people, f...</td>\n",
              "      <td>NaN</td>\n",
              "      <td>NaN</td>\n",
              "    </tr>\n",
              "    <tr>\n",
              "      <th>11310.0</th>\n",
              "      <td>18.0</td>\n",
              "      <td>drive, system, work, disk, scsi, pc, chip, spe...</td>\n",
              "      <td>NaN</td>\n",
              "      <td>NaN</td>\n",
              "    </tr>\n",
              "    <tr>\n",
              "      <th>11311.0</th>\n",
              "      <td>16.0</td>\n",
              "      <td>car, bike, power, ride, light, engine, ground,...</td>\n",
              "      <td>NaN</td>\n",
              "      <td>NaN</td>\n",
              "    </tr>\n",
              "    <tr>\n",
              "      <th>11312.0</th>\n",
              "      <td>17.0</td>\n",
              "      <td>question, exist, claim, reason, point, argumen...</td>\n",
              "      <td>NaN</td>\n",
              "      <td>NaN</td>\n",
              "    </tr>\n",
              "    <tr>\n",
              "      <th>11313.0</th>\n",
              "      <td>16.0</td>\n",
              "      <td>car, bike, power, ride, light, engine, ground,...</td>\n",
              "      <td>NaN</td>\n",
              "      <td>NaN</td>\n",
              "    </tr>\n",
              "  </tbody>\n",
              "</table>\n",
              "<p>11314 rows × 4 columns</p>\n",
              "</div>"
            ],
            "text/plain": [
              "         Dominant_Topic  ... Perc_Documents\n",
              "0.0                16.0  ...         0.0924\n",
              "1.0                18.0  ...         0.0314\n",
              "2.0                15.0  ...         0.0453\n",
              "3.0                 9.0  ...         0.0463\n",
              "4.0                11.0  ...         0.0449\n",
              "...                 ...  ...            ...\n",
              "11309.0             3.0  ...            NaN\n",
              "11310.0            18.0  ...            NaN\n",
              "11311.0            16.0  ...            NaN\n",
              "11312.0            17.0  ...            NaN\n",
              "11313.0            16.0  ...            NaN\n",
              "\n",
              "[11314 rows x 4 columns]"
            ]
          },
          "metadata": {
            "tags": []
          },
          "execution_count": 43
        }
      ]
    },
    {
      "cell_type": "markdown",
      "metadata": {
        "id": "VwatR-EgkTww"
      },
      "source": [
        "## Conclusion\n",
        "We started with understanding what topic modeling can do. We built a basic topic model using Gensim’s LDA and visualize the topics using pyLDAvis. Then we built mallet’s LDA implementation. You saw how to find the optimal number of topics using coherence scores and how you can come to a logical understanding of how to choose the optimal model.\n",
        "\n",
        "Finally we saw how to aggregate and present the results to generate insights that may be in a more actionable.\n",
        "\n",
        "Hope you enjoyed reading this. I would appreciate if you leave your thoughts in the comments section below.\n",
        "\n",
        "Get the notebook and start using the codes right-away!\n",
        "\n",
        "\n",
        "This notebook is forked from this blog: [Topic Modeling with Gensim (Python)](https://www.machinelearningplus.com/nlp/topic-modeling-gensim-python/)"
      ]
    },
    {
      "cell_type": "code",
      "metadata": {
        "id": "MrzmsTiaTX1m"
      },
      "source": [
        ""
      ],
      "execution_count": 43,
      "outputs": []
    },
    {
      "cell_type": "code",
      "metadata": {
        "id": "mnBGwT_aSk82"
      },
      "source": [
        ""
      ],
      "execution_count": null,
      "outputs": []
    }
  ]
}