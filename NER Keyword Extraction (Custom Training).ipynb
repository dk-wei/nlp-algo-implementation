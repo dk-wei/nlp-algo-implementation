{
 "cells": [
  {
   "cell_type": "markdown",
   "metadata": {},
   "source": [
    "@origin script link: [Keywords Tagging](https://aiprd-jupyter.cisco.com/user/hdpiopsdp/notebooks/HadoopDir/ai_xray/scripts/ds/related_bugs/Keywords%20Tagging.ipynb#Tags-Generation) \n",
    "\n",
    "@ text annotation tool: [Doccano](https://github.com/doccano/doccano)"
   ]
  },
  {
   "cell_type": "code",
   "execution_count": 5,
   "metadata": {
    "ExecuteTime": {
     "end_time": "2021-04-23T21:32:02.153932Z",
     "start_time": "2021-04-23T21:32:02.150804Z"
    }
   },
   "outputs": [],
   "source": [
    "import pandas as pd\n",
    "import spacy\n",
    "import random\n",
    "import sys\n",
    "import json\n",
    "from spacy import displacy"
   ]
  },
  {
   "cell_type": "markdown",
   "metadata": {},
   "source": [
    "# Training the NER model"
   ]
  },
  {
   "cell_type": "markdown",
   "metadata": {},
   "source": [
    "convert doccano exported json file to format that spcay can digest"
   ]
  },
  {
   "cell_type": "code",
   "execution_count": 2,
   "metadata": {
    "ExecuteTime": {
     "end_time": "2021-04-23T21:30:42.842998Z",
     "start_time": "2021-04-23T21:30:42.836234Z"
    }
   },
   "outputs": [],
   "source": [
    "# JSON(Text-Labels) file exported from doccano\n",
    "\n",
    "fo = open('/survey_annotated_data.json', \"r\")\n",
    "lines = fo.readlines()\n",
    "\n",
    "TRAIN_DATA = []\n",
    "LABELS = ['Keywords', 'Products', 'Counterparty', 'Positive', 'Negative']\n",
    "\n",
    "for line in lines:\n",
    "\n",
    "    line = json.loads(line)\n",
    "    if \"labels\" in line:\n",
    "        line[\"entities\"] = line.pop(\"labels\")\n",
    "    else:\n",
    "        line[\"entities\"] = []\n",
    "\n",
    "    tmp_ents = []\n",
    "    for e in line[\"entities\"]:\n",
    "        \n",
    "        if e[2] in LABELS:\n",
    "            tmp_ents.append(tuple([e[0], e[1], e[2]]))\n",
    "        \n",
    "        line[\"entities\"] = tmp_ents\n",
    "\n",
    "    if (len(line[\"text\"]) > 5):\n",
    "        \n",
    "        #print(tuple([line[\"text\"],  {'entities':tmp_ents}]))\n",
    "        TRAIN_DATA.append(tuple([line[\"text\"],  {'entities':tmp_ents}]))\n"
   ]
  },
  {
   "cell_type": "code",
   "execution_count": 11,
   "metadata": {
    "ExecuteTime": {
     "end_time": "2021-04-23T21:33:50.468656Z",
     "start_time": "2021-04-23T21:33:50.466190Z"
    },
    "scrolled": true
   },
   "outputs": [],
   "source": [
    "#TRAIN_DATA[:6]"
   ]
  },
  {
   "cell_type": "code",
   "execution_count": 4,
   "metadata": {
    "ExecuteTime": {
     "end_time": "2021-04-23T21:30:53.230833Z",
     "start_time": "2021-04-23T21:30:44.665450Z"
    }
   },
   "outputs": [
    {
     "name": "stderr",
     "output_type": "stream",
     "text": [
      "/home/jupyter/.local/lib/python3.7/site-packages/spacy/language.py:639: UserWarning: [W033] Training a new parser or NER using a model with no lexeme normalization table. This may degrade the performance of the model to some degree. If this is intentional or the language you're using doesn't have a normalization table, please ignore this warning. If this is surprising, make sure you have the spacy-lookups-data package installed. The languages with lexeme normalization tables are currently: da, de, el, en, id, lb, pt, ru, sr, ta, th.\n",
      "  **kwargs\n"
     ]
    },
    {
     "name": "stdout",
     "output_type": "stream",
     "text": [
      "Statring iteration 0\n"
     ]
    },
    {
     "name": "stderr",
     "output_type": "stream",
     "text": [
      "/home/jupyter/.local/lib/python3.7/site-packages/spacy/language.py:482: UserWarning: [W030] Some entities could not be aligned in the text \"\"agree with all above.  Assurance: the data is ina...\" with entities \"[(24, 33, 'Products'), (120, 128, 'Products'), (22...\". Use `spacy.gold.biluo_tags_from_offsets(nlp.make_doc(text), entities)` to check the alignment. Misaligned entities ('-') will be ignored during training.\n",
      "  gold = GoldParse(doc, **gold)\n",
      "/home/jupyter/.local/lib/python3.7/site-packages/spacy/language.py:482: UserWarning: [W030] Some entities could not be aligned in the text \"1. quality is an issue.  2. the. information is to...\" with entities \"[(141, 147, 'Counterparty'), (3, 10, 'Keywords'), ...\". Use `spacy.gold.biluo_tags_from_offsets(nlp.make_doc(text), entities)` to check the alignment. Misaligned entities ('-') will be ignored during training.\n",
      "  gold = GoldParse(doc, **gold)\n",
      "/home/jupyter/.local/lib/python3.7/site-packages/spacy/language.py:482: UserWarning: [W030] Some entities could not be aligned in the text \"\"key use case that must be \"\"just work\"\": Assuance...\" with entities \"[(42, 50, 'Products'), (52, 55, 'Products'), (87, ...\". Use `spacy.gold.biluo_tags_from_offsets(nlp.make_doc(text), entities)` to check the alignment. Misaligned entities ('-') will be ignored during training.\n",
      "  gold = GoldParse(doc, **gold)\n"
     ]
    },
    {
     "name": "stdout",
     "output_type": "stream",
     "text": [
      "{'ner': 1090.410192590301}\n",
      "Statring iteration 1\n",
      "{'ner': 394.40711802133103}\n",
      "Statring iteration 2\n",
      "{'ner': 319.61087659593807}\n",
      "Statring iteration 3\n",
      "{'ner': 600.141592655642}\n",
      "Statring iteration 4\n",
      "{'ner': 274.4559846504437}\n"
     ]
    }
   ],
   "source": [
    "# format after conversion：\n",
    "# TRAIN_DATA = [('what is the price of polo?', {'entities': [(21, 25, 'PrdName')]}), \n",
    "#               ('what is the price of ball?', {'entities': [(21, 25, 'PrdName')]}), \n",
    "#               ('what is the price of jegging?', {'entities': [(21, 28, 'PrdName')]}), \n",
    "\n",
    "\n",
    "TRAINING_ITERATION = 5\n",
    "TRAINING_DATA = TRAIN_DATA\n",
    "\n",
    "def train_spacy(data,iterations):\n",
    "    TRAIN_DATA = data\n",
    "    nlp = spacy.blank('en')  # create blank Language class\n",
    "    #nlp = spacy.load('en')  # load Language class\n",
    "    # create the built-in pipeline components and add them to the pipeline\n",
    "    # nlp.create_pipe works for built-ins that are registered with spaCy\n",
    "    if 'ner' not in nlp.pipe_names:\n",
    "        ner = nlp.create_pipe('ner')\n",
    "        nlp.add_pipe(ner, last=True)\n",
    "       \n",
    "\n",
    "    # add labels\n",
    "    for _, annotations in TRAIN_DATA:\n",
    "         for ent in annotations.get('entities'):\n",
    "            ner.add_label(ent[2])\n",
    "\n",
    "    # get names of other pipes to disable them during training\n",
    "    other_pipes = [pipe for pipe in nlp.pipe_names if pipe != 'ner']\n",
    "    with nlp.disable_pipes(*other_pipes):  # only train NER\n",
    "        optimizer = nlp.begin_training()\n",
    "        for itn in range(iterations):\n",
    "            print(\"Statring iteration \" + str(itn))\n",
    "            random.shuffle(TRAIN_DATA)\n",
    "            losses = {}\n",
    "            for text, annotations in TRAIN_DATA:\n",
    "                nlp.update(\n",
    "                    [text],  # batch of texts\n",
    "                    [annotations],  # batch of annotations\n",
    "                    drop=0.2,  # dropout - make it harder to memorise data\n",
    "                    sgd=optimizer,  # callable to update weights\n",
    "                    losses=losses)\n",
    "            print(losses)\n",
    "    return nlp\n",
    "\n",
    "\n",
    "prdnlp = train_spacy(TRAINING_DATA, TRAINING_ITERATION)"
   ]
  },
  {
   "cell_type": "code",
   "execution_count": 23,
   "metadata": {
    "ExecuteTime": {
     "end_time": "2021-04-23T21:20:58.976313Z",
     "start_time": "2021-04-23T21:20:58.973761Z"
    }
   },
   "outputs": [],
   "source": [
    "# sasve the model to disk\n",
    "#prdnlp.to_disk(PATH+'survey_spacy_ner_model')"
   ]
  },
  {
   "cell_type": "code",
   "execution_count": null,
   "metadata": {},
   "outputs": [],
   "source": []
  },
  {
   "cell_type": "markdown",
   "metadata": {},
   "source": [
    "# Visualizing the keywords"
   ]
  },
  {
   "cell_type": "code",
   "execution_count": 24,
   "metadata": {
    "ExecuteTime": {
     "end_time": "2021-04-23T21:21:02.827138Z",
     "start_time": "2021-04-23T21:21:02.809633Z"
    }
   },
   "outputs": [
    {
     "name": "stdout",
     "output_type": "stream",
     "text": [
      "Google PS4 14 24 Keywords\n",
      "behind 42 48 Keywords\n",
      "dakan 50 55 Keywords\n",
      "Switch 88 94 Counterparty\n",
      "late push 115 124 Keywords\n",
      "Apple 144 149 Keywords\n",
      "Amazon 184 190 Counterparty\n",
      "Alexa software 193 207 Keywords\n",
      "on 220 222 Counterparty\n",
      "Echo 227 231 Keywords\n",
      "Dot 236 239 Counterparty\n",
      "clear leads 254 265 Keywords\n",
      "adoption 278 286 Keywords\n"
     ]
    }
   ],
   "source": [
    "text = \"But dakan wei Google PS4 is starting from behind. dakan wei still like playing Nintendo Switch, The company made a late push into hardware, and Apple’s Siri, available on iPhones, and Amazon’s Alexa software, which runs on its Echo and Dot devices, have clear leads in consumer adoption.\"\n",
    "\n",
    "doc = prdnlp(text)\n",
    "#print('Entities', [(ent.text, ent.label_) for ent in doc.ents])\n",
    "for ent in doc.ents:\n",
    "    print(ent.text, ent.start_char, ent.end_char, ent.label_)"
   ]
  },
  {
   "cell_type": "code",
   "execution_count": 27,
   "metadata": {
    "ExecuteTime": {
     "end_time": "2021-04-23T21:22:24.147153Z",
     "start_time": "2021-04-23T21:22:23.572220Z"
    }
   },
   "outputs": [],
   "source": [
    "prdnlp = spacy.load(PATH + \"survey_spacy_ner_model\")"
   ]
  },
  {
   "cell_type": "markdown",
   "metadata": {},
   "source": [
    "Input text data:"
   ]
  },
  {
   "cell_type": "code",
   "execution_count": 12,
   "metadata": {
    "ExecuteTime": {
     "end_time": "2021-04-23T21:34:52.159757Z",
     "start_time": "2021-04-23T21:34:52.156698Z"
    }
   },
   "outputs": [],
   "source": [
    "text = \"But dakan wei Google PS4 is starting from behind. dakan wei still like playing Nintendo Switch, The company made a late push into hardware, and Apple’s Siri, available on iPhones, and Amazon’s Alexa software, which runs on its Echo and Dot devices, have clear leads in consumer adoption.\"\n"
   ]
  },
  {
   "cell_type": "code",
   "execution_count": 13,
   "metadata": {
    "ExecuteTime": {
     "end_time": "2021-04-23T21:34:52.776593Z",
     "start_time": "2021-04-23T21:34:52.763084Z"
    }
   },
   "outputs": [
    {
     "data": {
      "text/html": [
       "<span class=\"tex2jax_ignore\"><div class=\"entities\" style=\"line-height: 2.5; direction: ltr\">But dakan wei \n",
       "<mark class=\"entity\" style=\"background: #35BCEC; padding: 0.45em 0.6em; margin: 0 0.25em; line-height: 1; border-radius: 0.35em;\">\n",
       "    Google\n",
       "    <span style=\"font-size: 0.8em; font-weight: bold; line-height: 1; border-radius: 0.35em; text-transform: uppercase; vertical-align: middle; margin-left: 0.5rem\">Products</span>\n",
       "</mark>\n",
       " PS4 is starting from behind. dakan wei still like playing Nintendo \n",
       "<mark class=\"entity\" style=\"background: #D8E0BB; padding: 0.45em 0.6em; margin: 0 0.25em; line-height: 1; border-radius: 0.35em;\">\n",
       "    Switch\n",
       "    <span style=\"font-size: 0.8em; font-weight: bold; line-height: 1; border-radius: 0.35em; text-transform: uppercase; vertical-align: middle; margin-left: 0.5rem\">Keywords</span>\n",
       "</mark>\n",
       ", The company made a \n",
       "<mark class=\"entity\" style=\"background: #D8E0BB; padding: 0.45em 0.6em; margin: 0 0.25em; line-height: 1; border-radius: 0.35em;\">\n",
       "    late\n",
       "    <span style=\"font-size: 0.8em; font-weight: bold; line-height: 1; border-radius: 0.35em; text-transform: uppercase; vertical-align: middle; margin-left: 0.5rem\">Keywords</span>\n",
       "</mark>\n",
       " push into \n",
       "<mark class=\"entity\" style=\"background: #D8E0BB; padding: 0.45em 0.6em; margin: 0 0.25em; line-height: 1; border-radius: 0.35em;\">\n",
       "    hardware\n",
       "    <span style=\"font-size: 0.8em; font-weight: bold; line-height: 1; border-radius: 0.35em; text-transform: uppercase; vertical-align: middle; margin-left: 0.5rem\">Keywords</span>\n",
       "</mark>\n",
       ", and \n",
       "<mark class=\"entity\" style=\"background: #F6D55C; padding: 0.45em 0.6em; margin: 0 0.25em; line-height: 1; border-radius: 0.35em;\">\n",
       "    Apple\n",
       "    <span style=\"font-size: 0.8em; font-weight: bold; line-height: 1; border-radius: 0.35em; text-transform: uppercase; vertical-align: middle; margin-left: 0.5rem\">Counterparty</span>\n",
       "</mark>\n",
       "’s \n",
       "<mark class=\"entity\" style=\"background: #4BFA6B; padding: 0.45em 0.6em; margin: 0 0.25em; line-height: 1; border-radius: 0.35em;\">\n",
       "    Siri\n",
       "    <span style=\"font-size: 0.8em; font-weight: bold; line-height: 1; border-radius: 0.35em; text-transform: uppercase; vertical-align: middle; margin-left: 0.5rem\">Positive</span>\n",
       "</mark>\n",
       ", \n",
       "<mark class=\"entity\" style=\"background: #D8E0BB; padding: 0.45em 0.6em; margin: 0 0.25em; line-height: 1; border-radius: 0.35em;\">\n",
       "    available\n",
       "    <span style=\"font-size: 0.8em; font-weight: bold; line-height: 1; border-radius: 0.35em; text-transform: uppercase; vertical-align: middle; margin-left: 0.5rem\">Keywords</span>\n",
       "</mark>\n",
       " on iPhones, and \n",
       "<mark class=\"entity\" style=\"background: #35BCEC; padding: 0.45em 0.6em; margin: 0 0.25em; line-height: 1; border-radius: 0.35em;\">\n",
       "    Amazon’s\n",
       "    <span style=\"font-size: 0.8em; font-weight: bold; line-height: 1; border-radius: 0.35em; text-transform: uppercase; vertical-align: middle; margin-left: 0.5rem\">Products</span>\n",
       "</mark>\n",
       " \n",
       "<mark class=\"entity\" style=\"background: #35BCEC; padding: 0.45em 0.6em; margin: 0 0.25em; line-height: 1; border-radius: 0.35em;\">\n",
       "    Alexa software\n",
       "    <span style=\"font-size: 0.8em; font-weight: bold; line-height: 1; border-radius: 0.35em; text-transform: uppercase; vertical-align: middle; margin-left: 0.5rem\">Products</span>\n",
       "</mark>\n",
       ", which runs on its Echo and Dot devices, have \n",
       "<mark class=\"entity\" style=\"background: #D8E0BB; padding: 0.45em 0.6em; margin: 0 0.25em; line-height: 1; border-radius: 0.35em;\">\n",
       "    clear\n",
       "    <span style=\"font-size: 0.8em; font-weight: bold; line-height: 1; border-radius: 0.35em; text-transform: uppercase; vertical-align: middle; margin-left: 0.5rem\">Keywords</span>\n",
       "</mark>\n",
       " leads in consumer adoption.</div></span>"
      ],
      "text/plain": [
       "<IPython.core.display.HTML object>"
      ]
     },
     "metadata": {},
     "output_type": "display_data"
    }
   ],
   "source": [
    "# https://spacy.io/usage/visualizers#ent\n",
    "# colors = {\"KEYWORDS\": \"linear-gradient(90deg, #aa9cfc, #fc9ce7)\"}\n",
    "\n",
    "colors = {\"KEYWORDS\":     \"#D8E0BB\",\n",
    "         \"PRODUCTS\":      \"#35BCEC\",\n",
    "         \"COUNTERPARTY\":  \"#F6D55C\",\n",
    "         \"POSITIVE\":      \"#4BFA6B\",\n",
    "         \"NEGATIVE\":      \"#FA2A24\"}\n",
    "\n",
    "\n",
    "options = {\"colors\": colors}\n",
    "\n",
    "\n",
    "doc = prdnlp(text)\n",
    "displacy.render(doc, style=\"ent\", jupyter=True, options=options)\n"
   ]
  },
  {
   "cell_type": "code",
   "execution_count": null,
   "metadata": {},
   "outputs": [],
   "source": []
  },
  {
   "cell_type": "code",
   "execution_count": null,
   "metadata": {},
   "outputs": [],
   "source": []
  }
 ],
 "metadata": {
  "kernelspec": {
   "display_name": "Python 3",
   "language": "python",
   "name": "python3"
  },
  "language_info": {
   "codemirror_mode": {
    "name": "ipython",
    "version": 3
   },
   "file_extension": ".py",
   "mimetype": "text/x-python",
   "name": "python",
   "nbconvert_exporter": "python",
   "pygments_lexer": "ipython3",
   "version": "3.7.4"
  },
  "toc": {
   "base_numbering": 1,
   "nav_menu": {},
   "number_sections": true,
   "sideBar": true,
   "skip_h1_title": false,
   "title_cell": "Table of Contents",
   "title_sidebar": "Contents",
   "toc_cell": false,
   "toc_position": {},
   "toc_section_display": true,
   "toc_window_display": false
  }
 },
 "nbformat": 4,
 "nbformat_minor": 2
}
